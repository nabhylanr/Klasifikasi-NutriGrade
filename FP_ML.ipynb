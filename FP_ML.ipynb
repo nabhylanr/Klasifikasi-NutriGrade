{
  "nbformat": 4,
  "nbformat_minor": 0,
  "metadata": {
    "colab": {
      "provenance": [],
      "toc_visible": true,
      "collapsed_sections": [
        "Y-y7WmiEPrLf",
        "-qChgdLAV19C",
        "dZp1DPagY7Wo",
        "AihV_iSnl0OZ"
      ]
    },
    "kernelspec": {
      "name": "python3",
      "display_name": "Python 3"
    },
    "language_info": {
      "name": "python"
    }
  },
  "cells": [
    {
      "cell_type": "markdown",
      "source": [
        "#Tugas Final Project Pembelajaran Mesin D\n",
        "---\n",
        "#Kelompok 4\n",
        "Anggota :\n",
        "1. Rumaisha Afrina (5025221146)\n",
        "2. Helsa Sriprameswari Putri (5025221154)\n",
        "3. Furstin Aprilavia Putri (5025221234)\n",
        "4. Nabhyla Niagara Rannuan (5025221286)\n",
        "5. Muhammad Faisal Rafi (5025231295)\n",
        "---\n",
        "\n",
        "Jenis pembelajaran mesin yang digunakan adalah\n",
        "---\n",
        "\n",
        "Supervised learning - Klasifikasi\n",
        "---\n",
        "---\n",
        "\n",
        "Tujuan : Mengklasifikasikan minuman berdasarkan skor Nutri-Score.\n",
        "---\n",
        "\n",
        "Nutri-Score adalah sistem label nutrisi yang mengklasifikasikan ksehatan berdasarkan Nutri Score di minuman tersebut\n",
        "\n",
        "Nutri Score berisikan :\n",
        "1. A (Terbaik)\n",
        "2. B\n",
        "3. C\n",
        "4. D\n",
        "5. E (Terburuk)\n",
        "\n",
        "berdasarkan nilai nutrisi per 100 ml,\n",
        "\n",
        "---\n",
        "\n",
        "kandungannya berupa\n",
        "1. Energi\n",
        "2. Lemak\n",
        "3. Gula\n",
        "4. Garam\n",
        "5. Serat\n",
        "6. Protein\n",
        "---\n",
        "Model yang digunakan Berupa\n",
        "---\n",
        "1. Decision Tree\n",
        "2. K-Nearest Neighbors\n",
        "3. Random Forest\n",
        "4. XGBoost\n",
        "5. Support Vector Machine\n",
        "\n",
        "\n",
        "\n",
        "\n"
      ],
      "metadata": {
        "id": "-MYpI1-Su9IZ"
      }
    },
    {
      "cell_type": "markdown",
      "source": [
        "---\n",
        "#***Dataset***\n",
        "---"
      ],
      "metadata": {
        "id": "Y-y7WmiEPrLf"
      }
    },
    {
      "cell_type": "markdown",
      "source": [
        "Pengumpulan data berdasarkan scraping dari situs Open Food Facts\n",
        "---\n",
        "---\n",
        "\n"
      ],
      "metadata": {
        "id": "trx6ALU7Tsvp"
      }
    },
    {
      "cell_type": "code",
      "source": [
        "import pandas as pd\n",
        "import numpy as np\n",
        "url = \"https://raw.githubusercontent.com/nabhylanr/ML-NutriScore/main/minuman.csv\"\n",
        "df = pd.read_csv(url)\n",
        "\n",
        "df.head()"
      ],
      "metadata": {
        "colab": {
          "base_uri": "https://localhost:8080/",
          "height": 292
        },
        "id": "NnIFAukDPQm9",
        "outputId": "e54f8f23-cfb0-4926-a0dd-5c146b8f271d"
      },
      "execution_count": 1,
      "outputs": [
        {
          "output_type": "execute_result",
          "data": {
            "text/plain": [
              "       Kategori           Nama_minuman Nutri_Score  Energy (Per 100 ml)  \\\n",
              "0  fruit-juices            Cappy pulpy           e                155.0   \n",
              "1  fruit-juices                PRESSup           c                226.0   \n",
              "2  fruit-juices               Press up           c                226.0   \n",
              "3  fruit-juices  Shot de gingembre bio           c                142.0   \n",
              "4  fruit-juices                  Jutos           d                 66.8   \n",
              "\n",
              "   Fat (Per 100 ml)  Saturated fat (Per 100 ml)  Carbohydrates (Per 100 ml)  \\\n",
              "0               0.0                         0.0                         9.0   \n",
              "1               0.1                         0.0                        13.0   \n",
              "2               0.1                         0.0                        13.0   \n",
              "3               0.5                         0.1                         7.9   \n",
              "4               0.0                         0.0                        10.0   \n",
              "\n",
              "   Sugars (Per 100 ml)  Fiber (Per 100 ml)  Proteins (Per 100 ml)  \\\n",
              "0                  7.0                 NaN                    0.0   \n",
              "1                  5.5                 0.1                    0.4   \n",
              "2                  5.5                 0.1                    0.4   \n",
              "3                  7.6                 0.0                    0.5   \n",
              "4                  8.0                 0.0                    0.0   \n",
              "\n",
              "   Salt (Per 100 ml)  \n",
              "0           0.050000  \n",
              "1           0.000003  \n",
              "2           0.002500  \n",
              "3           0.010000  \n",
              "4           0.050000  "
            ],
            "text/html": [
              "\n",
              "  <div id=\"df-d6433fdd-dcfc-4ac6-b414-7c764007ec66\" class=\"colab-df-container\">\n",
              "    <div>\n",
              "<style scoped>\n",
              "    .dataframe tbody tr th:only-of-type {\n",
              "        vertical-align: middle;\n",
              "    }\n",
              "\n",
              "    .dataframe tbody tr th {\n",
              "        vertical-align: top;\n",
              "    }\n",
              "\n",
              "    .dataframe thead th {\n",
              "        text-align: right;\n",
              "    }\n",
              "</style>\n",
              "<table border=\"1\" class=\"dataframe\">\n",
              "  <thead>\n",
              "    <tr style=\"text-align: right;\">\n",
              "      <th></th>\n",
              "      <th>Kategori</th>\n",
              "      <th>Nama_minuman</th>\n",
              "      <th>Nutri_Score</th>\n",
              "      <th>Energy (Per 100 ml)</th>\n",
              "      <th>Fat (Per 100 ml)</th>\n",
              "      <th>Saturated fat (Per 100 ml)</th>\n",
              "      <th>Carbohydrates (Per 100 ml)</th>\n",
              "      <th>Sugars (Per 100 ml)</th>\n",
              "      <th>Fiber (Per 100 ml)</th>\n",
              "      <th>Proteins (Per 100 ml)</th>\n",
              "      <th>Salt (Per 100 ml)</th>\n",
              "    </tr>\n",
              "  </thead>\n",
              "  <tbody>\n",
              "    <tr>\n",
              "      <th>0</th>\n",
              "      <td>fruit-juices</td>\n",
              "      <td>Cappy pulpy</td>\n",
              "      <td>e</td>\n",
              "      <td>155.0</td>\n",
              "      <td>0.0</td>\n",
              "      <td>0.0</td>\n",
              "      <td>9.0</td>\n",
              "      <td>7.0</td>\n",
              "      <td>NaN</td>\n",
              "      <td>0.0</td>\n",
              "      <td>0.050000</td>\n",
              "    </tr>\n",
              "    <tr>\n",
              "      <th>1</th>\n",
              "      <td>fruit-juices</td>\n",
              "      <td>PRESSup</td>\n",
              "      <td>c</td>\n",
              "      <td>226.0</td>\n",
              "      <td>0.1</td>\n",
              "      <td>0.0</td>\n",
              "      <td>13.0</td>\n",
              "      <td>5.5</td>\n",
              "      <td>0.1</td>\n",
              "      <td>0.4</td>\n",
              "      <td>0.000003</td>\n",
              "    </tr>\n",
              "    <tr>\n",
              "      <th>2</th>\n",
              "      <td>fruit-juices</td>\n",
              "      <td>Press up</td>\n",
              "      <td>c</td>\n",
              "      <td>226.0</td>\n",
              "      <td>0.1</td>\n",
              "      <td>0.0</td>\n",
              "      <td>13.0</td>\n",
              "      <td>5.5</td>\n",
              "      <td>0.1</td>\n",
              "      <td>0.4</td>\n",
              "      <td>0.002500</td>\n",
              "    </tr>\n",
              "    <tr>\n",
              "      <th>3</th>\n",
              "      <td>fruit-juices</td>\n",
              "      <td>Shot de gingembre bio</td>\n",
              "      <td>c</td>\n",
              "      <td>142.0</td>\n",
              "      <td>0.5</td>\n",
              "      <td>0.1</td>\n",
              "      <td>7.9</td>\n",
              "      <td>7.6</td>\n",
              "      <td>0.0</td>\n",
              "      <td>0.5</td>\n",
              "      <td>0.010000</td>\n",
              "    </tr>\n",
              "    <tr>\n",
              "      <th>4</th>\n",
              "      <td>fruit-juices</td>\n",
              "      <td>Jutos</td>\n",
              "      <td>d</td>\n",
              "      <td>66.8</td>\n",
              "      <td>0.0</td>\n",
              "      <td>0.0</td>\n",
              "      <td>10.0</td>\n",
              "      <td>8.0</td>\n",
              "      <td>0.0</td>\n",
              "      <td>0.0</td>\n",
              "      <td>0.050000</td>\n",
              "    </tr>\n",
              "  </tbody>\n",
              "</table>\n",
              "</div>\n",
              "    <div class=\"colab-df-buttons\">\n",
              "\n",
              "  <div class=\"colab-df-container\">\n",
              "    <button class=\"colab-df-convert\" onclick=\"convertToInteractive('df-d6433fdd-dcfc-4ac6-b414-7c764007ec66')\"\n",
              "            title=\"Convert this dataframe to an interactive table.\"\n",
              "            style=\"display:none;\">\n",
              "\n",
              "  <svg xmlns=\"http://www.w3.org/2000/svg\" height=\"24px\" viewBox=\"0 -960 960 960\">\n",
              "    <path d=\"M120-120v-720h720v720H120Zm60-500h600v-160H180v160Zm220 220h160v-160H400v160Zm0 220h160v-160H400v160ZM180-400h160v-160H180v160Zm440 0h160v-160H620v160ZM180-180h160v-160H180v160Zm440 0h160v-160H620v160Z\"/>\n",
              "  </svg>\n",
              "    </button>\n",
              "\n",
              "  <style>\n",
              "    .colab-df-container {\n",
              "      display:flex;\n",
              "      gap: 12px;\n",
              "    }\n",
              "\n",
              "    .colab-df-convert {\n",
              "      background-color: #E8F0FE;\n",
              "      border: none;\n",
              "      border-radius: 50%;\n",
              "      cursor: pointer;\n",
              "      display: none;\n",
              "      fill: #1967D2;\n",
              "      height: 32px;\n",
              "      padding: 0 0 0 0;\n",
              "      width: 32px;\n",
              "    }\n",
              "\n",
              "    .colab-df-convert:hover {\n",
              "      background-color: #E2EBFA;\n",
              "      box-shadow: 0px 1px 2px rgba(60, 64, 67, 0.3), 0px 1px 3px 1px rgba(60, 64, 67, 0.15);\n",
              "      fill: #174EA6;\n",
              "    }\n",
              "\n",
              "    .colab-df-buttons div {\n",
              "      margin-bottom: 4px;\n",
              "    }\n",
              "\n",
              "    [theme=dark] .colab-df-convert {\n",
              "      background-color: #3B4455;\n",
              "      fill: #D2E3FC;\n",
              "    }\n",
              "\n",
              "    [theme=dark] .colab-df-convert:hover {\n",
              "      background-color: #434B5C;\n",
              "      box-shadow: 0px 1px 3px 1px rgba(0, 0, 0, 0.15);\n",
              "      filter: drop-shadow(0px 1px 2px rgba(0, 0, 0, 0.3));\n",
              "      fill: #FFFFFF;\n",
              "    }\n",
              "  </style>\n",
              "\n",
              "    <script>\n",
              "      const buttonEl =\n",
              "        document.querySelector('#df-d6433fdd-dcfc-4ac6-b414-7c764007ec66 button.colab-df-convert');\n",
              "      buttonEl.style.display =\n",
              "        google.colab.kernel.accessAllowed ? 'block' : 'none';\n",
              "\n",
              "      async function convertToInteractive(key) {\n",
              "        const element = document.querySelector('#df-d6433fdd-dcfc-4ac6-b414-7c764007ec66');\n",
              "        const dataTable =\n",
              "          await google.colab.kernel.invokeFunction('convertToInteractive',\n",
              "                                                    [key], {});\n",
              "        if (!dataTable) return;\n",
              "\n",
              "        const docLinkHtml = 'Like what you see? Visit the ' +\n",
              "          '<a target=\"_blank\" href=https://colab.research.google.com/notebooks/data_table.ipynb>data table notebook</a>'\n",
              "          + ' to learn more about interactive tables.';\n",
              "        element.innerHTML = '';\n",
              "        dataTable['output_type'] = 'display_data';\n",
              "        await google.colab.output.renderOutput(dataTable, element);\n",
              "        const docLink = document.createElement('div');\n",
              "        docLink.innerHTML = docLinkHtml;\n",
              "        element.appendChild(docLink);\n",
              "      }\n",
              "    </script>\n",
              "  </div>\n",
              "\n",
              "\n",
              "    <div id=\"df-8b8b2be2-2a50-4f32-9f8c-899c7c460691\">\n",
              "      <button class=\"colab-df-quickchart\" onclick=\"quickchart('df-8b8b2be2-2a50-4f32-9f8c-899c7c460691')\"\n",
              "                title=\"Suggest charts\"\n",
              "                style=\"display:none;\">\n",
              "\n",
              "<svg xmlns=\"http://www.w3.org/2000/svg\" height=\"24px\"viewBox=\"0 0 24 24\"\n",
              "     width=\"24px\">\n",
              "    <g>\n",
              "        <path d=\"M19 3H5c-1.1 0-2 .9-2 2v14c0 1.1.9 2 2 2h14c1.1 0 2-.9 2-2V5c0-1.1-.9-2-2-2zM9 17H7v-7h2v7zm4 0h-2V7h2v10zm4 0h-2v-4h2v4z\"/>\n",
              "    </g>\n",
              "</svg>\n",
              "      </button>\n",
              "\n",
              "<style>\n",
              "  .colab-df-quickchart {\n",
              "      --bg-color: #E8F0FE;\n",
              "      --fill-color: #1967D2;\n",
              "      --hover-bg-color: #E2EBFA;\n",
              "      --hover-fill-color: #174EA6;\n",
              "      --disabled-fill-color: #AAA;\n",
              "      --disabled-bg-color: #DDD;\n",
              "  }\n",
              "\n",
              "  [theme=dark] .colab-df-quickchart {\n",
              "      --bg-color: #3B4455;\n",
              "      --fill-color: #D2E3FC;\n",
              "      --hover-bg-color: #434B5C;\n",
              "      --hover-fill-color: #FFFFFF;\n",
              "      --disabled-bg-color: #3B4455;\n",
              "      --disabled-fill-color: #666;\n",
              "  }\n",
              "\n",
              "  .colab-df-quickchart {\n",
              "    background-color: var(--bg-color);\n",
              "    border: none;\n",
              "    border-radius: 50%;\n",
              "    cursor: pointer;\n",
              "    display: none;\n",
              "    fill: var(--fill-color);\n",
              "    height: 32px;\n",
              "    padding: 0;\n",
              "    width: 32px;\n",
              "  }\n",
              "\n",
              "  .colab-df-quickchart:hover {\n",
              "    background-color: var(--hover-bg-color);\n",
              "    box-shadow: 0 1px 2px rgba(60, 64, 67, 0.3), 0 1px 3px 1px rgba(60, 64, 67, 0.15);\n",
              "    fill: var(--button-hover-fill-color);\n",
              "  }\n",
              "\n",
              "  .colab-df-quickchart-complete:disabled,\n",
              "  .colab-df-quickchart-complete:disabled:hover {\n",
              "    background-color: var(--disabled-bg-color);\n",
              "    fill: var(--disabled-fill-color);\n",
              "    box-shadow: none;\n",
              "  }\n",
              "\n",
              "  .colab-df-spinner {\n",
              "    border: 2px solid var(--fill-color);\n",
              "    border-color: transparent;\n",
              "    border-bottom-color: var(--fill-color);\n",
              "    animation:\n",
              "      spin 1s steps(1) infinite;\n",
              "  }\n",
              "\n",
              "  @keyframes spin {\n",
              "    0% {\n",
              "      border-color: transparent;\n",
              "      border-bottom-color: var(--fill-color);\n",
              "      border-left-color: var(--fill-color);\n",
              "    }\n",
              "    20% {\n",
              "      border-color: transparent;\n",
              "      border-left-color: var(--fill-color);\n",
              "      border-top-color: var(--fill-color);\n",
              "    }\n",
              "    30% {\n",
              "      border-color: transparent;\n",
              "      border-left-color: var(--fill-color);\n",
              "      border-top-color: var(--fill-color);\n",
              "      border-right-color: var(--fill-color);\n",
              "    }\n",
              "    40% {\n",
              "      border-color: transparent;\n",
              "      border-right-color: var(--fill-color);\n",
              "      border-top-color: var(--fill-color);\n",
              "    }\n",
              "    60% {\n",
              "      border-color: transparent;\n",
              "      border-right-color: var(--fill-color);\n",
              "    }\n",
              "    80% {\n",
              "      border-color: transparent;\n",
              "      border-right-color: var(--fill-color);\n",
              "      border-bottom-color: var(--fill-color);\n",
              "    }\n",
              "    90% {\n",
              "      border-color: transparent;\n",
              "      border-bottom-color: var(--fill-color);\n",
              "    }\n",
              "  }\n",
              "</style>\n",
              "\n",
              "      <script>\n",
              "        async function quickchart(key) {\n",
              "          const quickchartButtonEl =\n",
              "            document.querySelector('#' + key + ' button');\n",
              "          quickchartButtonEl.disabled = true;  // To prevent multiple clicks.\n",
              "          quickchartButtonEl.classList.add('colab-df-spinner');\n",
              "          try {\n",
              "            const charts = await google.colab.kernel.invokeFunction(\n",
              "                'suggestCharts', [key], {});\n",
              "          } catch (error) {\n",
              "            console.error('Error during call to suggestCharts:', error);\n",
              "          }\n",
              "          quickchartButtonEl.classList.remove('colab-df-spinner');\n",
              "          quickchartButtonEl.classList.add('colab-df-quickchart-complete');\n",
              "        }\n",
              "        (() => {\n",
              "          let quickchartButtonEl =\n",
              "            document.querySelector('#df-8b8b2be2-2a50-4f32-9f8c-899c7c460691 button');\n",
              "          quickchartButtonEl.style.display =\n",
              "            google.colab.kernel.accessAllowed ? 'block' : 'none';\n",
              "        })();\n",
              "      </script>\n",
              "    </div>\n",
              "\n",
              "    </div>\n",
              "  </div>\n"
            ],
            "application/vnd.google.colaboratory.intrinsic+json": {
              "type": "dataframe",
              "variable_name": "df",
              "summary": "{\n  \"name\": \"df\",\n  \"rows\": 811,\n  \"fields\": [\n    {\n      \"column\": \"Kategori\",\n      \"properties\": {\n        \"dtype\": \"category\",\n        \"num_unique_values\": 10,\n        \"samples\": [\n          \"fermented-drinks\",\n          \"energy-drinks\",\n          \"iced-teas\"\n        ],\n        \"semantic_type\": \"\",\n        \"description\": \"\"\n      }\n    },\n    {\n      \"column\": \"Nama_minuman\",\n      \"properties\": {\n        \"dtype\": \"string\",\n        \"num_unique_values\": 642,\n        \"samples\": [\n          \"Red Bull Original\",\n          \"Organic Oat drink\",\n          \"CRISTALINE Eau de Source au jus de fruitsTROPICAL 1.5L\"\n        ],\n        \"semantic_type\": \"\",\n        \"description\": \"\"\n      }\n    },\n    {\n      \"column\": \"Nutri_Score\",\n      \"properties\": {\n        \"dtype\": \"category\",\n        \"num_unique_values\": 4,\n        \"samples\": [\n          \"c\",\n          \"b\",\n          \"e\"\n        ],\n        \"semantic_type\": \"\",\n        \"description\": \"\"\n      }\n    },\n    {\n      \"column\": \"Energy (Per 100 ml)\",\n      \"properties\": {\n        \"dtype\": \"number\",\n        \"std\": 196.42581215793587,\n        \"min\": 0.0,\n        \"max\": 1833.0,\n        \"num_unique_values\": 253,\n        \"samples\": [\n          398.0,\n          157.0,\n          57.0\n        ],\n        \"semantic_type\": \"\",\n        \"description\": \"\"\n      }\n    },\n    {\n      \"column\": \"Fat (Per 100 ml)\",\n      \"properties\": {\n        \"dtype\": \"number\",\n        \"std\": 3.088349192255005,\n        \"min\": 0.0,\n        \"max\": 25.0,\n        \"num_unique_values\": 80,\n        \"samples\": [\n          4.0,\n          0.0,\n          1.2\n        ],\n        \"semantic_type\": \"\",\n        \"description\": \"\"\n      }\n    },\n    {\n      \"column\": \"Saturated fat (Per 100 ml)\",\n      \"properties\": {\n        \"dtype\": \"number\",\n        \"std\": 2.6755427398402207,\n        \"min\": 0.0,\n        \"max\": 24.0,\n        \"num_unique_values\": 62,\n        \"samples\": [\n          2.5,\n          0.04,\n          0.0\n        ],\n        \"semantic_type\": \"\",\n        \"description\": \"\"\n      }\n    },\n    {\n      \"column\": \"Carbohydrates (Per 100 ml)\",\n      \"properties\": {\n        \"dtype\": \"number\",\n        \"std\": 8.052699285127984,\n        \"min\": 0.0,\n        \"max\": 83.0,\n        \"num_unique_values\": 158,\n        \"samples\": [\n          3.52,\n          0.1,\n          7.3\n        ],\n        \"semantic_type\": \"\",\n        \"description\": \"\"\n      }\n    },\n    {\n      \"column\": \"Sugars (Per 100 ml)\",\n      \"properties\": {\n        \"dtype\": \"number\",\n        \"std\": 5.686566547176109,\n        \"min\": 0.0,\n        \"max\": 72.0,\n        \"num_unique_values\": 146,\n        \"samples\": [\n          8.4,\n          72.0,\n          4.2\n        ],\n        \"semantic_type\": \"\",\n        \"description\": \"\"\n      }\n    },\n    {\n      \"column\": \"Fiber (Per 100 ml)\",\n      \"properties\": {\n        \"dtype\": \"number\",\n        \"std\": 270610348951.93005,\n        \"min\": 0.0,\n        \"max\": 6111242106933.0,\n        \"num_unique_values\": 48,\n        \"samples\": [\n          8.0,\n          0.96,\n          45.3\n        ],\n        \"semantic_type\": \"\",\n        \"description\": \"\"\n      }\n    },\n    {\n      \"column\": \"Proteins (Per 100 ml)\",\n      \"properties\": {\n        \"dtype\": \"number\",\n        \"std\": 1.7108516915715464,\n        \"min\": 0.0,\n        \"max\": 17.4,\n        \"num_unique_values\": 85,\n        \"samples\": [\n          0.667,\n          0.0,\n          8.0\n        ],\n        \"semantic_type\": \"\",\n        \"description\": \"\"\n      }\n    },\n    {\n      \"column\": \"Salt (Per 100 ml)\",\n      \"properties\": {\n        \"dtype\": \"number\",\n        \"std\": 0.8436519103789842,\n        \"min\": 0.0,\n        \"max\": 20.0,\n        \"num_unique_values\": 106,\n        \"samples\": [\n          0.008,\n          0.1,\n          0.0\n        ],\n        \"semantic_type\": \"\",\n        \"description\": \"\"\n      }\n    }\n  ]\n}"
            }
          },
          "metadata": {},
          "execution_count": 1
        }
      ]
    },
    {
      "cell_type": "code",
      "source": [
        "df.info()"
      ],
      "metadata": {
        "id": "BGs1q8F8WcIf",
        "colab": {
          "base_uri": "https://localhost:8080/"
        },
        "outputId": "da98f2a0-9b0a-4a16-db00-f862c6109ff2"
      },
      "execution_count": 2,
      "outputs": [
        {
          "output_type": "stream",
          "name": "stdout",
          "text": [
            "<class 'pandas.core.frame.DataFrame'>\n",
            "RangeIndex: 811 entries, 0 to 810\n",
            "Data columns (total 11 columns):\n",
            " #   Column                      Non-Null Count  Dtype  \n",
            "---  ------                      --------------  -----  \n",
            " 0   Kategori                    811 non-null    object \n",
            " 1   Nama_minuman                800 non-null    object \n",
            " 2   Nutri_Score                 811 non-null    object \n",
            " 3   Energy (Per 100 ml)         811 non-null    float64\n",
            " 4   Fat (Per 100 ml)            811 non-null    float64\n",
            " 5   Saturated fat (Per 100 ml)  776 non-null    float64\n",
            " 6   Carbohydrates (Per 100 ml)  810 non-null    float64\n",
            " 7   Sugars (Per 100 ml)         803 non-null    float64\n",
            " 8   Fiber (Per 100 ml)          510 non-null    float64\n",
            " 9   Proteins (Per 100 ml)       811 non-null    float64\n",
            " 10  Salt (Per 100 ml)           811 non-null    float64\n",
            "dtypes: float64(8), object(3)\n",
            "memory usage: 69.8+ KB\n"
          ]
        }
      ]
    },
    {
      "cell_type": "markdown",
      "source": [
        "---\n",
        "#***Data Preprocessing***\n",
        "---"
      ],
      "metadata": {
        "id": "Nee6M_aaTLke"
      }
    },
    {
      "cell_type": "markdown",
      "source": [
        "Missing Value\n",
        "---\n",
        "---"
      ],
      "metadata": {
        "id": "-qChgdLAV19C"
      }
    },
    {
      "cell_type": "code",
      "source": [
        "misval_cek = {\n",
        "    'Missing Values':df.isnull().sum(),\n",
        "    'Missing Values (%)': ((df.isnull().sum()/df.shape[0]).round(2)*100),\n",
        "    'Data Type': df.dtypes\n",
        "    }\n",
        "\n",
        "misval=pd.DataFrame(misval_cek)\n",
        "misval"
      ],
      "metadata": {
        "colab": {
          "base_uri": "https://localhost:8080/",
          "height": 563
        },
        "id": "v5-jUWw9V4gR",
        "outputId": "6ed18964-adf7-4fae-b1d4-47c2d1f189cc"
      },
      "execution_count": 3,
      "outputs": [
        {
          "output_type": "execute_result",
          "data": {
            "text/plain": [
              "                            Missing Values  Missing Values (%) Data Type\n",
              "Kategori                                 0                 0.0    object\n",
              "Nama_minuman                            11                 1.0    object\n",
              "Nutri_Score                              0                 0.0    object\n",
              "Energy (Per 100 ml)                      0                 0.0   float64\n",
              "Fat (Per 100 ml)                         0                 0.0   float64\n",
              "Saturated fat (Per 100 ml)              35                 4.0   float64\n",
              "Carbohydrates (Per 100 ml)               1                 0.0   float64\n",
              "Sugars (Per 100 ml)                      8                 1.0   float64\n",
              "Fiber (Per 100 ml)                     301                37.0   float64\n",
              "Proteins (Per 100 ml)                    0                 0.0   float64\n",
              "Salt (Per 100 ml)                        0                 0.0   float64"
            ],
            "text/html": [
              "\n",
              "  <div id=\"df-0e9f3146-6418-450c-b733-79423646ab2b\" class=\"colab-df-container\">\n",
              "    <div>\n",
              "<style scoped>\n",
              "    .dataframe tbody tr th:only-of-type {\n",
              "        vertical-align: middle;\n",
              "    }\n",
              "\n",
              "    .dataframe tbody tr th {\n",
              "        vertical-align: top;\n",
              "    }\n",
              "\n",
              "    .dataframe thead th {\n",
              "        text-align: right;\n",
              "    }\n",
              "</style>\n",
              "<table border=\"1\" class=\"dataframe\">\n",
              "  <thead>\n",
              "    <tr style=\"text-align: right;\">\n",
              "      <th></th>\n",
              "      <th>Missing Values</th>\n",
              "      <th>Missing Values (%)</th>\n",
              "      <th>Data Type</th>\n",
              "    </tr>\n",
              "  </thead>\n",
              "  <tbody>\n",
              "    <tr>\n",
              "      <th>Kategori</th>\n",
              "      <td>0</td>\n",
              "      <td>0.0</td>\n",
              "      <td>object</td>\n",
              "    </tr>\n",
              "    <tr>\n",
              "      <th>Nama_minuman</th>\n",
              "      <td>11</td>\n",
              "      <td>1.0</td>\n",
              "      <td>object</td>\n",
              "    </tr>\n",
              "    <tr>\n",
              "      <th>Nutri_Score</th>\n",
              "      <td>0</td>\n",
              "      <td>0.0</td>\n",
              "      <td>object</td>\n",
              "    </tr>\n",
              "    <tr>\n",
              "      <th>Energy (Per 100 ml)</th>\n",
              "      <td>0</td>\n",
              "      <td>0.0</td>\n",
              "      <td>float64</td>\n",
              "    </tr>\n",
              "    <tr>\n",
              "      <th>Fat (Per 100 ml)</th>\n",
              "      <td>0</td>\n",
              "      <td>0.0</td>\n",
              "      <td>float64</td>\n",
              "    </tr>\n",
              "    <tr>\n",
              "      <th>Saturated fat (Per 100 ml)</th>\n",
              "      <td>35</td>\n",
              "      <td>4.0</td>\n",
              "      <td>float64</td>\n",
              "    </tr>\n",
              "    <tr>\n",
              "      <th>Carbohydrates (Per 100 ml)</th>\n",
              "      <td>1</td>\n",
              "      <td>0.0</td>\n",
              "      <td>float64</td>\n",
              "    </tr>\n",
              "    <tr>\n",
              "      <th>Sugars (Per 100 ml)</th>\n",
              "      <td>8</td>\n",
              "      <td>1.0</td>\n",
              "      <td>float64</td>\n",
              "    </tr>\n",
              "    <tr>\n",
              "      <th>Fiber (Per 100 ml)</th>\n",
              "      <td>301</td>\n",
              "      <td>37.0</td>\n",
              "      <td>float64</td>\n",
              "    </tr>\n",
              "    <tr>\n",
              "      <th>Proteins (Per 100 ml)</th>\n",
              "      <td>0</td>\n",
              "      <td>0.0</td>\n",
              "      <td>float64</td>\n",
              "    </tr>\n",
              "    <tr>\n",
              "      <th>Salt (Per 100 ml)</th>\n",
              "      <td>0</td>\n",
              "      <td>0.0</td>\n",
              "      <td>float64</td>\n",
              "    </tr>\n",
              "  </tbody>\n",
              "</table>\n",
              "</div>\n",
              "    <div class=\"colab-df-buttons\">\n",
              "\n",
              "  <div class=\"colab-df-container\">\n",
              "    <button class=\"colab-df-convert\" onclick=\"convertToInteractive('df-0e9f3146-6418-450c-b733-79423646ab2b')\"\n",
              "            title=\"Convert this dataframe to an interactive table.\"\n",
              "            style=\"display:none;\">\n",
              "\n",
              "  <svg xmlns=\"http://www.w3.org/2000/svg\" height=\"24px\" viewBox=\"0 -960 960 960\">\n",
              "    <path d=\"M120-120v-720h720v720H120Zm60-500h600v-160H180v160Zm220 220h160v-160H400v160Zm0 220h160v-160H400v160ZM180-400h160v-160H180v160Zm440 0h160v-160H620v160ZM180-180h160v-160H180v160Zm440 0h160v-160H620v160Z\"/>\n",
              "  </svg>\n",
              "    </button>\n",
              "\n",
              "  <style>\n",
              "    .colab-df-container {\n",
              "      display:flex;\n",
              "      gap: 12px;\n",
              "    }\n",
              "\n",
              "    .colab-df-convert {\n",
              "      background-color: #E8F0FE;\n",
              "      border: none;\n",
              "      border-radius: 50%;\n",
              "      cursor: pointer;\n",
              "      display: none;\n",
              "      fill: #1967D2;\n",
              "      height: 32px;\n",
              "      padding: 0 0 0 0;\n",
              "      width: 32px;\n",
              "    }\n",
              "\n",
              "    .colab-df-convert:hover {\n",
              "      background-color: #E2EBFA;\n",
              "      box-shadow: 0px 1px 2px rgba(60, 64, 67, 0.3), 0px 1px 3px 1px rgba(60, 64, 67, 0.15);\n",
              "      fill: #174EA6;\n",
              "    }\n",
              "\n",
              "    .colab-df-buttons div {\n",
              "      margin-bottom: 4px;\n",
              "    }\n",
              "\n",
              "    [theme=dark] .colab-df-convert {\n",
              "      background-color: #3B4455;\n",
              "      fill: #D2E3FC;\n",
              "    }\n",
              "\n",
              "    [theme=dark] .colab-df-convert:hover {\n",
              "      background-color: #434B5C;\n",
              "      box-shadow: 0px 1px 3px 1px rgba(0, 0, 0, 0.15);\n",
              "      filter: drop-shadow(0px 1px 2px rgba(0, 0, 0, 0.3));\n",
              "      fill: #FFFFFF;\n",
              "    }\n",
              "  </style>\n",
              "\n",
              "    <script>\n",
              "      const buttonEl =\n",
              "        document.querySelector('#df-0e9f3146-6418-450c-b733-79423646ab2b button.colab-df-convert');\n",
              "      buttonEl.style.display =\n",
              "        google.colab.kernel.accessAllowed ? 'block' : 'none';\n",
              "\n",
              "      async function convertToInteractive(key) {\n",
              "        const element = document.querySelector('#df-0e9f3146-6418-450c-b733-79423646ab2b');\n",
              "        const dataTable =\n",
              "          await google.colab.kernel.invokeFunction('convertToInteractive',\n",
              "                                                    [key], {});\n",
              "        if (!dataTable) return;\n",
              "\n",
              "        const docLinkHtml = 'Like what you see? Visit the ' +\n",
              "          '<a target=\"_blank\" href=https://colab.research.google.com/notebooks/data_table.ipynb>data table notebook</a>'\n",
              "          + ' to learn more about interactive tables.';\n",
              "        element.innerHTML = '';\n",
              "        dataTable['output_type'] = 'display_data';\n",
              "        await google.colab.output.renderOutput(dataTable, element);\n",
              "        const docLink = document.createElement('div');\n",
              "        docLink.innerHTML = docLinkHtml;\n",
              "        element.appendChild(docLink);\n",
              "      }\n",
              "    </script>\n",
              "  </div>\n",
              "\n",
              "\n",
              "    <div id=\"df-051bf38e-79f7-4e99-b31d-3679f0d3cc60\">\n",
              "      <button class=\"colab-df-quickchart\" onclick=\"quickchart('df-051bf38e-79f7-4e99-b31d-3679f0d3cc60')\"\n",
              "                title=\"Suggest charts\"\n",
              "                style=\"display:none;\">\n",
              "\n",
              "<svg xmlns=\"http://www.w3.org/2000/svg\" height=\"24px\"viewBox=\"0 0 24 24\"\n",
              "     width=\"24px\">\n",
              "    <g>\n",
              "        <path d=\"M19 3H5c-1.1 0-2 .9-2 2v14c0 1.1.9 2 2 2h14c1.1 0 2-.9 2-2V5c0-1.1-.9-2-2-2zM9 17H7v-7h2v7zm4 0h-2V7h2v10zm4 0h-2v-4h2v4z\"/>\n",
              "    </g>\n",
              "</svg>\n",
              "      </button>\n",
              "\n",
              "<style>\n",
              "  .colab-df-quickchart {\n",
              "      --bg-color: #E8F0FE;\n",
              "      --fill-color: #1967D2;\n",
              "      --hover-bg-color: #E2EBFA;\n",
              "      --hover-fill-color: #174EA6;\n",
              "      --disabled-fill-color: #AAA;\n",
              "      --disabled-bg-color: #DDD;\n",
              "  }\n",
              "\n",
              "  [theme=dark] .colab-df-quickchart {\n",
              "      --bg-color: #3B4455;\n",
              "      --fill-color: #D2E3FC;\n",
              "      --hover-bg-color: #434B5C;\n",
              "      --hover-fill-color: #FFFFFF;\n",
              "      --disabled-bg-color: #3B4455;\n",
              "      --disabled-fill-color: #666;\n",
              "  }\n",
              "\n",
              "  .colab-df-quickchart {\n",
              "    background-color: var(--bg-color);\n",
              "    border: none;\n",
              "    border-radius: 50%;\n",
              "    cursor: pointer;\n",
              "    display: none;\n",
              "    fill: var(--fill-color);\n",
              "    height: 32px;\n",
              "    padding: 0;\n",
              "    width: 32px;\n",
              "  }\n",
              "\n",
              "  .colab-df-quickchart:hover {\n",
              "    background-color: var(--hover-bg-color);\n",
              "    box-shadow: 0 1px 2px rgba(60, 64, 67, 0.3), 0 1px 3px 1px rgba(60, 64, 67, 0.15);\n",
              "    fill: var(--button-hover-fill-color);\n",
              "  }\n",
              "\n",
              "  .colab-df-quickchart-complete:disabled,\n",
              "  .colab-df-quickchart-complete:disabled:hover {\n",
              "    background-color: var(--disabled-bg-color);\n",
              "    fill: var(--disabled-fill-color);\n",
              "    box-shadow: none;\n",
              "  }\n",
              "\n",
              "  .colab-df-spinner {\n",
              "    border: 2px solid var(--fill-color);\n",
              "    border-color: transparent;\n",
              "    border-bottom-color: var(--fill-color);\n",
              "    animation:\n",
              "      spin 1s steps(1) infinite;\n",
              "  }\n",
              "\n",
              "  @keyframes spin {\n",
              "    0% {\n",
              "      border-color: transparent;\n",
              "      border-bottom-color: var(--fill-color);\n",
              "      border-left-color: var(--fill-color);\n",
              "    }\n",
              "    20% {\n",
              "      border-color: transparent;\n",
              "      border-left-color: var(--fill-color);\n",
              "      border-top-color: var(--fill-color);\n",
              "    }\n",
              "    30% {\n",
              "      border-color: transparent;\n",
              "      border-left-color: var(--fill-color);\n",
              "      border-top-color: var(--fill-color);\n",
              "      border-right-color: var(--fill-color);\n",
              "    }\n",
              "    40% {\n",
              "      border-color: transparent;\n",
              "      border-right-color: var(--fill-color);\n",
              "      border-top-color: var(--fill-color);\n",
              "    }\n",
              "    60% {\n",
              "      border-color: transparent;\n",
              "      border-right-color: var(--fill-color);\n",
              "    }\n",
              "    80% {\n",
              "      border-color: transparent;\n",
              "      border-right-color: var(--fill-color);\n",
              "      border-bottom-color: var(--fill-color);\n",
              "    }\n",
              "    90% {\n",
              "      border-color: transparent;\n",
              "      border-bottom-color: var(--fill-color);\n",
              "    }\n",
              "  }\n",
              "</style>\n",
              "\n",
              "      <script>\n",
              "        async function quickchart(key) {\n",
              "          const quickchartButtonEl =\n",
              "            document.querySelector('#' + key + ' button');\n",
              "          quickchartButtonEl.disabled = true;  // To prevent multiple clicks.\n",
              "          quickchartButtonEl.classList.add('colab-df-spinner');\n",
              "          try {\n",
              "            const charts = await google.colab.kernel.invokeFunction(\n",
              "                'suggestCharts', [key], {});\n",
              "          } catch (error) {\n",
              "            console.error('Error during call to suggestCharts:', error);\n",
              "          }\n",
              "          quickchartButtonEl.classList.remove('colab-df-spinner');\n",
              "          quickchartButtonEl.classList.add('colab-df-quickchart-complete');\n",
              "        }\n",
              "        (() => {\n",
              "          let quickchartButtonEl =\n",
              "            document.querySelector('#df-051bf38e-79f7-4e99-b31d-3679f0d3cc60 button');\n",
              "          quickchartButtonEl.style.display =\n",
              "            google.colab.kernel.accessAllowed ? 'block' : 'none';\n",
              "        })();\n",
              "      </script>\n",
              "    </div>\n",
              "\n",
              "  <div id=\"id_73a1473c-f677-4cd8-84d2-d4e4a6d023bd\">\n",
              "    <style>\n",
              "      .colab-df-generate {\n",
              "        background-color: #E8F0FE;\n",
              "        border: none;\n",
              "        border-radius: 50%;\n",
              "        cursor: pointer;\n",
              "        display: none;\n",
              "        fill: #1967D2;\n",
              "        height: 32px;\n",
              "        padding: 0 0 0 0;\n",
              "        width: 32px;\n",
              "      }\n",
              "\n",
              "      .colab-df-generate:hover {\n",
              "        background-color: #E2EBFA;\n",
              "        box-shadow: 0px 1px 2px rgba(60, 64, 67, 0.3), 0px 1px 3px 1px rgba(60, 64, 67, 0.15);\n",
              "        fill: #174EA6;\n",
              "      }\n",
              "\n",
              "      [theme=dark] .colab-df-generate {\n",
              "        background-color: #3B4455;\n",
              "        fill: #D2E3FC;\n",
              "      }\n",
              "\n",
              "      [theme=dark] .colab-df-generate:hover {\n",
              "        background-color: #434B5C;\n",
              "        box-shadow: 0px 1px 3px 1px rgba(0, 0, 0, 0.15);\n",
              "        filter: drop-shadow(0px 1px 2px rgba(0, 0, 0, 0.3));\n",
              "        fill: #FFFFFF;\n",
              "      }\n",
              "    </style>\n",
              "    <button class=\"colab-df-generate\" onclick=\"generateWithVariable('misval')\"\n",
              "            title=\"Generate code using this dataframe.\"\n",
              "            style=\"display:none;\">\n",
              "\n",
              "  <svg xmlns=\"http://www.w3.org/2000/svg\" height=\"24px\"viewBox=\"0 0 24 24\"\n",
              "       width=\"24px\">\n",
              "    <path d=\"M7,19H8.4L18.45,9,17,7.55,7,17.6ZM5,21V16.75L18.45,3.32a2,2,0,0,1,2.83,0l1.4,1.43a1.91,1.91,0,0,1,.58,1.4,1.91,1.91,0,0,1-.58,1.4L9.25,21ZM18.45,9,17,7.55Zm-12,3A5.31,5.31,0,0,0,4.9,8.1,5.31,5.31,0,0,0,1,6.5,5.31,5.31,0,0,0,4.9,4.9,5.31,5.31,0,0,0,6.5,1,5.31,5.31,0,0,0,8.1,4.9,5.31,5.31,0,0,0,12,6.5,5.46,5.46,0,0,0,6.5,12Z\"/>\n",
              "  </svg>\n",
              "    </button>\n",
              "    <script>\n",
              "      (() => {\n",
              "      const buttonEl =\n",
              "        document.querySelector('#id_73a1473c-f677-4cd8-84d2-d4e4a6d023bd button.colab-df-generate');\n",
              "      buttonEl.style.display =\n",
              "        google.colab.kernel.accessAllowed ? 'block' : 'none';\n",
              "\n",
              "      buttonEl.onclick = () => {\n",
              "        google.colab.notebook.generateWithVariable('misval');\n",
              "      }\n",
              "      })();\n",
              "    </script>\n",
              "  </div>\n",
              "\n",
              "    </div>\n",
              "  </div>\n"
            ],
            "application/vnd.google.colaboratory.intrinsic+json": {
              "type": "dataframe",
              "variable_name": "misval",
              "summary": "{\n  \"name\": \"misval\",\n  \"rows\": 11,\n  \"fields\": [\n    {\n      \"column\": \"Missing Values\",\n      \"properties\": {\n        \"dtype\": \"number\",\n        \"std\": 89,\n        \"min\": 0,\n        \"max\": 301,\n        \"num_unique_values\": 6,\n        \"samples\": [\n          0,\n          11,\n          301\n        ],\n        \"semantic_type\": \"\",\n        \"description\": \"\"\n      }\n    },\n    {\n      \"column\": \"Missing Values (%)\",\n      \"properties\": {\n        \"dtype\": \"number\",\n        \"std\": 11.04042159932804,\n        \"min\": 0.0,\n        \"max\": 37.0,\n        \"num_unique_values\": 4,\n        \"samples\": [\n          1.0,\n          37.0,\n          0.0\n        ],\n        \"semantic_type\": \"\",\n        \"description\": \"\"\n      }\n    },\n    {\n      \"column\": \"Data Type\",\n      \"properties\": {\n        \"dtype\": \"category\",\n        \"num_unique_values\": 2,\n        \"samples\": [\n          \"float64\",\n          \"object\"\n        ],\n        \"semantic_type\": \"\",\n        \"description\": \"\"\n      }\n    }\n  ]\n}"
            }
          },
          "metadata": {},
          "execution_count": 3
        }
      ]
    },
    {
      "cell_type": "code",
      "source": [
        "kolom_fitur = ['Energy (Per 100 ml)', 'Fat (Per 100 ml)',\n",
        "               'Saturated fat (Per 100 ml)', 'Carbohydrates (Per 100 ml)',\n",
        "               'Sugars (Per 100 ml)', 'Fiber (Per 100 ml)',\n",
        "               'Proteins (Per 100 ml)', 'Salt (Per 100 ml)']\n",
        "\n",
        "for kolom in kolom_fitur:\n",
        "  if df[kolom].isnull().any():\n",
        "    median_val = df[kolom].median()\n",
        "    df[kolom] = df[kolom].fillna(median_val)"
      ],
      "metadata": {
        "id": "nver6jD7qn0E"
      },
      "execution_count": 4,
      "outputs": []
    },
    {
      "cell_type": "code",
      "source": [
        "misval_cek = {\n",
        "    'Missing Values': df.isnull().sum(),\n",
        "    'Missing Values (%)': ((df.isnull().sum() / df.shape[0]).round(2) * 100),\n",
        "    'Data Type': df.dtypes\n",
        "}\n",
        "\n",
        "misval = pd.DataFrame(misval_cek)\n",
        "misval"
      ],
      "metadata": {
        "colab": {
          "base_uri": "https://localhost:8080/",
          "height": 563
        },
        "id": "Qo5rmgPNthcJ",
        "outputId": "1fd62820-e9f2-47f7-afc0-0e7f2ceaa684"
      },
      "execution_count": 5,
      "outputs": [
        {
          "output_type": "execute_result",
          "data": {
            "text/plain": [
              "                            Missing Values  Missing Values (%) Data Type\n",
              "Kategori                                 0                 0.0    object\n",
              "Nama_minuman                            11                 1.0    object\n",
              "Nutri_Score                              0                 0.0    object\n",
              "Energy (Per 100 ml)                      0                 0.0   float64\n",
              "Fat (Per 100 ml)                         0                 0.0   float64\n",
              "Saturated fat (Per 100 ml)               0                 0.0   float64\n",
              "Carbohydrates (Per 100 ml)               0                 0.0   float64\n",
              "Sugars (Per 100 ml)                      0                 0.0   float64\n",
              "Fiber (Per 100 ml)                       0                 0.0   float64\n",
              "Proteins (Per 100 ml)                    0                 0.0   float64\n",
              "Salt (Per 100 ml)                        0                 0.0   float64"
            ],
            "text/html": [
              "\n",
              "  <div id=\"df-994ba656-0220-4b61-83ee-2829251da718\" class=\"colab-df-container\">\n",
              "    <div>\n",
              "<style scoped>\n",
              "    .dataframe tbody tr th:only-of-type {\n",
              "        vertical-align: middle;\n",
              "    }\n",
              "\n",
              "    .dataframe tbody tr th {\n",
              "        vertical-align: top;\n",
              "    }\n",
              "\n",
              "    .dataframe thead th {\n",
              "        text-align: right;\n",
              "    }\n",
              "</style>\n",
              "<table border=\"1\" class=\"dataframe\">\n",
              "  <thead>\n",
              "    <tr style=\"text-align: right;\">\n",
              "      <th></th>\n",
              "      <th>Missing Values</th>\n",
              "      <th>Missing Values (%)</th>\n",
              "      <th>Data Type</th>\n",
              "    </tr>\n",
              "  </thead>\n",
              "  <tbody>\n",
              "    <tr>\n",
              "      <th>Kategori</th>\n",
              "      <td>0</td>\n",
              "      <td>0.0</td>\n",
              "      <td>object</td>\n",
              "    </tr>\n",
              "    <tr>\n",
              "      <th>Nama_minuman</th>\n",
              "      <td>11</td>\n",
              "      <td>1.0</td>\n",
              "      <td>object</td>\n",
              "    </tr>\n",
              "    <tr>\n",
              "      <th>Nutri_Score</th>\n",
              "      <td>0</td>\n",
              "      <td>0.0</td>\n",
              "      <td>object</td>\n",
              "    </tr>\n",
              "    <tr>\n",
              "      <th>Energy (Per 100 ml)</th>\n",
              "      <td>0</td>\n",
              "      <td>0.0</td>\n",
              "      <td>float64</td>\n",
              "    </tr>\n",
              "    <tr>\n",
              "      <th>Fat (Per 100 ml)</th>\n",
              "      <td>0</td>\n",
              "      <td>0.0</td>\n",
              "      <td>float64</td>\n",
              "    </tr>\n",
              "    <tr>\n",
              "      <th>Saturated fat (Per 100 ml)</th>\n",
              "      <td>0</td>\n",
              "      <td>0.0</td>\n",
              "      <td>float64</td>\n",
              "    </tr>\n",
              "    <tr>\n",
              "      <th>Carbohydrates (Per 100 ml)</th>\n",
              "      <td>0</td>\n",
              "      <td>0.0</td>\n",
              "      <td>float64</td>\n",
              "    </tr>\n",
              "    <tr>\n",
              "      <th>Sugars (Per 100 ml)</th>\n",
              "      <td>0</td>\n",
              "      <td>0.0</td>\n",
              "      <td>float64</td>\n",
              "    </tr>\n",
              "    <tr>\n",
              "      <th>Fiber (Per 100 ml)</th>\n",
              "      <td>0</td>\n",
              "      <td>0.0</td>\n",
              "      <td>float64</td>\n",
              "    </tr>\n",
              "    <tr>\n",
              "      <th>Proteins (Per 100 ml)</th>\n",
              "      <td>0</td>\n",
              "      <td>0.0</td>\n",
              "      <td>float64</td>\n",
              "    </tr>\n",
              "    <tr>\n",
              "      <th>Salt (Per 100 ml)</th>\n",
              "      <td>0</td>\n",
              "      <td>0.0</td>\n",
              "      <td>float64</td>\n",
              "    </tr>\n",
              "  </tbody>\n",
              "</table>\n",
              "</div>\n",
              "    <div class=\"colab-df-buttons\">\n",
              "\n",
              "  <div class=\"colab-df-container\">\n",
              "    <button class=\"colab-df-convert\" onclick=\"convertToInteractive('df-994ba656-0220-4b61-83ee-2829251da718')\"\n",
              "            title=\"Convert this dataframe to an interactive table.\"\n",
              "            style=\"display:none;\">\n",
              "\n",
              "  <svg xmlns=\"http://www.w3.org/2000/svg\" height=\"24px\" viewBox=\"0 -960 960 960\">\n",
              "    <path d=\"M120-120v-720h720v720H120Zm60-500h600v-160H180v160Zm220 220h160v-160H400v160Zm0 220h160v-160H400v160ZM180-400h160v-160H180v160Zm440 0h160v-160H620v160ZM180-180h160v-160H180v160Zm440 0h160v-160H620v160Z\"/>\n",
              "  </svg>\n",
              "    </button>\n",
              "\n",
              "  <style>\n",
              "    .colab-df-container {\n",
              "      display:flex;\n",
              "      gap: 12px;\n",
              "    }\n",
              "\n",
              "    .colab-df-convert {\n",
              "      background-color: #E8F0FE;\n",
              "      border: none;\n",
              "      border-radius: 50%;\n",
              "      cursor: pointer;\n",
              "      display: none;\n",
              "      fill: #1967D2;\n",
              "      height: 32px;\n",
              "      padding: 0 0 0 0;\n",
              "      width: 32px;\n",
              "    }\n",
              "\n",
              "    .colab-df-convert:hover {\n",
              "      background-color: #E2EBFA;\n",
              "      box-shadow: 0px 1px 2px rgba(60, 64, 67, 0.3), 0px 1px 3px 1px rgba(60, 64, 67, 0.15);\n",
              "      fill: #174EA6;\n",
              "    }\n",
              "\n",
              "    .colab-df-buttons div {\n",
              "      margin-bottom: 4px;\n",
              "    }\n",
              "\n",
              "    [theme=dark] .colab-df-convert {\n",
              "      background-color: #3B4455;\n",
              "      fill: #D2E3FC;\n",
              "    }\n",
              "\n",
              "    [theme=dark] .colab-df-convert:hover {\n",
              "      background-color: #434B5C;\n",
              "      box-shadow: 0px 1px 3px 1px rgba(0, 0, 0, 0.15);\n",
              "      filter: drop-shadow(0px 1px 2px rgba(0, 0, 0, 0.3));\n",
              "      fill: #FFFFFF;\n",
              "    }\n",
              "  </style>\n",
              "\n",
              "    <script>\n",
              "      const buttonEl =\n",
              "        document.querySelector('#df-994ba656-0220-4b61-83ee-2829251da718 button.colab-df-convert');\n",
              "      buttonEl.style.display =\n",
              "        google.colab.kernel.accessAllowed ? 'block' : 'none';\n",
              "\n",
              "      async function convertToInteractive(key) {\n",
              "        const element = document.querySelector('#df-994ba656-0220-4b61-83ee-2829251da718');\n",
              "        const dataTable =\n",
              "          await google.colab.kernel.invokeFunction('convertToInteractive',\n",
              "                                                    [key], {});\n",
              "        if (!dataTable) return;\n",
              "\n",
              "        const docLinkHtml = 'Like what you see? Visit the ' +\n",
              "          '<a target=\"_blank\" href=https://colab.research.google.com/notebooks/data_table.ipynb>data table notebook</a>'\n",
              "          + ' to learn more about interactive tables.';\n",
              "        element.innerHTML = '';\n",
              "        dataTable['output_type'] = 'display_data';\n",
              "        await google.colab.output.renderOutput(dataTable, element);\n",
              "        const docLink = document.createElement('div');\n",
              "        docLink.innerHTML = docLinkHtml;\n",
              "        element.appendChild(docLink);\n",
              "      }\n",
              "    </script>\n",
              "  </div>\n",
              "\n",
              "\n",
              "    <div id=\"df-417c73c2-0e22-4881-aa8b-6002dd442088\">\n",
              "      <button class=\"colab-df-quickchart\" onclick=\"quickchart('df-417c73c2-0e22-4881-aa8b-6002dd442088')\"\n",
              "                title=\"Suggest charts\"\n",
              "                style=\"display:none;\">\n",
              "\n",
              "<svg xmlns=\"http://www.w3.org/2000/svg\" height=\"24px\"viewBox=\"0 0 24 24\"\n",
              "     width=\"24px\">\n",
              "    <g>\n",
              "        <path d=\"M19 3H5c-1.1 0-2 .9-2 2v14c0 1.1.9 2 2 2h14c1.1 0 2-.9 2-2V5c0-1.1-.9-2-2-2zM9 17H7v-7h2v7zm4 0h-2V7h2v10zm4 0h-2v-4h2v4z\"/>\n",
              "    </g>\n",
              "</svg>\n",
              "      </button>\n",
              "\n",
              "<style>\n",
              "  .colab-df-quickchart {\n",
              "      --bg-color: #E8F0FE;\n",
              "      --fill-color: #1967D2;\n",
              "      --hover-bg-color: #E2EBFA;\n",
              "      --hover-fill-color: #174EA6;\n",
              "      --disabled-fill-color: #AAA;\n",
              "      --disabled-bg-color: #DDD;\n",
              "  }\n",
              "\n",
              "  [theme=dark] .colab-df-quickchart {\n",
              "      --bg-color: #3B4455;\n",
              "      --fill-color: #D2E3FC;\n",
              "      --hover-bg-color: #434B5C;\n",
              "      --hover-fill-color: #FFFFFF;\n",
              "      --disabled-bg-color: #3B4455;\n",
              "      --disabled-fill-color: #666;\n",
              "  }\n",
              "\n",
              "  .colab-df-quickchart {\n",
              "    background-color: var(--bg-color);\n",
              "    border: none;\n",
              "    border-radius: 50%;\n",
              "    cursor: pointer;\n",
              "    display: none;\n",
              "    fill: var(--fill-color);\n",
              "    height: 32px;\n",
              "    padding: 0;\n",
              "    width: 32px;\n",
              "  }\n",
              "\n",
              "  .colab-df-quickchart:hover {\n",
              "    background-color: var(--hover-bg-color);\n",
              "    box-shadow: 0 1px 2px rgba(60, 64, 67, 0.3), 0 1px 3px 1px rgba(60, 64, 67, 0.15);\n",
              "    fill: var(--button-hover-fill-color);\n",
              "  }\n",
              "\n",
              "  .colab-df-quickchart-complete:disabled,\n",
              "  .colab-df-quickchart-complete:disabled:hover {\n",
              "    background-color: var(--disabled-bg-color);\n",
              "    fill: var(--disabled-fill-color);\n",
              "    box-shadow: none;\n",
              "  }\n",
              "\n",
              "  .colab-df-spinner {\n",
              "    border: 2px solid var(--fill-color);\n",
              "    border-color: transparent;\n",
              "    border-bottom-color: var(--fill-color);\n",
              "    animation:\n",
              "      spin 1s steps(1) infinite;\n",
              "  }\n",
              "\n",
              "  @keyframes spin {\n",
              "    0% {\n",
              "      border-color: transparent;\n",
              "      border-bottom-color: var(--fill-color);\n",
              "      border-left-color: var(--fill-color);\n",
              "    }\n",
              "    20% {\n",
              "      border-color: transparent;\n",
              "      border-left-color: var(--fill-color);\n",
              "      border-top-color: var(--fill-color);\n",
              "    }\n",
              "    30% {\n",
              "      border-color: transparent;\n",
              "      border-left-color: var(--fill-color);\n",
              "      border-top-color: var(--fill-color);\n",
              "      border-right-color: var(--fill-color);\n",
              "    }\n",
              "    40% {\n",
              "      border-color: transparent;\n",
              "      border-right-color: var(--fill-color);\n",
              "      border-top-color: var(--fill-color);\n",
              "    }\n",
              "    60% {\n",
              "      border-color: transparent;\n",
              "      border-right-color: var(--fill-color);\n",
              "    }\n",
              "    80% {\n",
              "      border-color: transparent;\n",
              "      border-right-color: var(--fill-color);\n",
              "      border-bottom-color: var(--fill-color);\n",
              "    }\n",
              "    90% {\n",
              "      border-color: transparent;\n",
              "      border-bottom-color: var(--fill-color);\n",
              "    }\n",
              "  }\n",
              "</style>\n",
              "\n",
              "      <script>\n",
              "        async function quickchart(key) {\n",
              "          const quickchartButtonEl =\n",
              "            document.querySelector('#' + key + ' button');\n",
              "          quickchartButtonEl.disabled = true;  // To prevent multiple clicks.\n",
              "          quickchartButtonEl.classList.add('colab-df-spinner');\n",
              "          try {\n",
              "            const charts = await google.colab.kernel.invokeFunction(\n",
              "                'suggestCharts', [key], {});\n",
              "          } catch (error) {\n",
              "            console.error('Error during call to suggestCharts:', error);\n",
              "          }\n",
              "          quickchartButtonEl.classList.remove('colab-df-spinner');\n",
              "          quickchartButtonEl.classList.add('colab-df-quickchart-complete');\n",
              "        }\n",
              "        (() => {\n",
              "          let quickchartButtonEl =\n",
              "            document.querySelector('#df-417c73c2-0e22-4881-aa8b-6002dd442088 button');\n",
              "          quickchartButtonEl.style.display =\n",
              "            google.colab.kernel.accessAllowed ? 'block' : 'none';\n",
              "        })();\n",
              "      </script>\n",
              "    </div>\n",
              "\n",
              "  <div id=\"id_2caf2b4f-f9f8-4bb8-9f88-04d5bbacafb2\">\n",
              "    <style>\n",
              "      .colab-df-generate {\n",
              "        background-color: #E8F0FE;\n",
              "        border: none;\n",
              "        border-radius: 50%;\n",
              "        cursor: pointer;\n",
              "        display: none;\n",
              "        fill: #1967D2;\n",
              "        height: 32px;\n",
              "        padding: 0 0 0 0;\n",
              "        width: 32px;\n",
              "      }\n",
              "\n",
              "      .colab-df-generate:hover {\n",
              "        background-color: #E2EBFA;\n",
              "        box-shadow: 0px 1px 2px rgba(60, 64, 67, 0.3), 0px 1px 3px 1px rgba(60, 64, 67, 0.15);\n",
              "        fill: #174EA6;\n",
              "      }\n",
              "\n",
              "      [theme=dark] .colab-df-generate {\n",
              "        background-color: #3B4455;\n",
              "        fill: #D2E3FC;\n",
              "      }\n",
              "\n",
              "      [theme=dark] .colab-df-generate:hover {\n",
              "        background-color: #434B5C;\n",
              "        box-shadow: 0px 1px 3px 1px rgba(0, 0, 0, 0.15);\n",
              "        filter: drop-shadow(0px 1px 2px rgba(0, 0, 0, 0.3));\n",
              "        fill: #FFFFFF;\n",
              "      }\n",
              "    </style>\n",
              "    <button class=\"colab-df-generate\" onclick=\"generateWithVariable('misval')\"\n",
              "            title=\"Generate code using this dataframe.\"\n",
              "            style=\"display:none;\">\n",
              "\n",
              "  <svg xmlns=\"http://www.w3.org/2000/svg\" height=\"24px\"viewBox=\"0 0 24 24\"\n",
              "       width=\"24px\">\n",
              "    <path d=\"M7,19H8.4L18.45,9,17,7.55,7,17.6ZM5,21V16.75L18.45,3.32a2,2,0,0,1,2.83,0l1.4,1.43a1.91,1.91,0,0,1,.58,1.4,1.91,1.91,0,0,1-.58,1.4L9.25,21ZM18.45,9,17,7.55Zm-12,3A5.31,5.31,0,0,0,4.9,8.1,5.31,5.31,0,0,0,1,6.5,5.31,5.31,0,0,0,4.9,4.9,5.31,5.31,0,0,0,6.5,1,5.31,5.31,0,0,0,8.1,4.9,5.31,5.31,0,0,0,12,6.5,5.46,5.46,0,0,0,6.5,12Z\"/>\n",
              "  </svg>\n",
              "    </button>\n",
              "    <script>\n",
              "      (() => {\n",
              "      const buttonEl =\n",
              "        document.querySelector('#id_2caf2b4f-f9f8-4bb8-9f88-04d5bbacafb2 button.colab-df-generate');\n",
              "      buttonEl.style.display =\n",
              "        google.colab.kernel.accessAllowed ? 'block' : 'none';\n",
              "\n",
              "      buttonEl.onclick = () => {\n",
              "        google.colab.notebook.generateWithVariable('misval');\n",
              "      }\n",
              "      })();\n",
              "    </script>\n",
              "  </div>\n",
              "\n",
              "    </div>\n",
              "  </div>\n"
            ],
            "application/vnd.google.colaboratory.intrinsic+json": {
              "type": "dataframe",
              "variable_name": "misval",
              "summary": "{\n  \"name\": \"misval\",\n  \"rows\": 11,\n  \"fields\": [\n    {\n      \"column\": \"Missing Values\",\n      \"properties\": {\n        \"dtype\": \"number\",\n        \"std\": 3,\n        \"min\": 0,\n        \"max\": 11,\n        \"num_unique_values\": 2,\n        \"samples\": [\n          11,\n          0\n        ],\n        \"semantic_type\": \"\",\n        \"description\": \"\"\n      }\n    },\n    {\n      \"column\": \"Missing Values (%)\",\n      \"properties\": {\n        \"dtype\": \"number\",\n        \"std\": 0.3015113445777636,\n        \"min\": 0.0,\n        \"max\": 1.0,\n        \"num_unique_values\": 2,\n        \"samples\": [\n          1.0,\n          0.0\n        ],\n        \"semantic_type\": \"\",\n        \"description\": \"\"\n      }\n    },\n    {\n      \"column\": \"Data Type\",\n      \"properties\": {\n        \"dtype\": \"category\",\n        \"num_unique_values\": 2,\n        \"samples\": [\n          \"float64\",\n          \"object\"\n        ],\n        \"semantic_type\": \"\",\n        \"description\": \"\"\n      }\n    }\n  ]\n}"
            }
          },
          "metadata": {},
          "execution_count": 5
        }
      ]
    },
    {
      "cell_type": "markdown",
      "source": [
        "Label Encoding\n",
        "---\n",
        "---"
      ],
      "metadata": {
        "id": "dZp1DPagY7Wo"
      }
    },
    {
      "cell_type": "code",
      "source": [
        "from sklearn.preprocessing import LabelEncoder\n",
        "\n",
        "y = df['Nutri_Score']\n",
        "\n",
        "le = LabelEncoder()\n",
        "y_encoded = le.fit_transform(y)"
      ],
      "metadata": {
        "id": "E7iHv2HsY837"
      },
      "execution_count": 6,
      "outputs": []
    },
    {
      "cell_type": "code",
      "source": [
        "for label, class_ in enumerate(le.classes_):\n",
        "    print(f\"Class {label}: {class_}\")"
      ],
      "metadata": {
        "id": "TpCRs4H0_dFi",
        "colab": {
          "base_uri": "https://localhost:8080/"
        },
        "outputId": "a999af84-5ca6-4b18-b487-1e05ad4aec49"
      },
      "execution_count": 7,
      "outputs": [
        {
          "output_type": "stream",
          "name": "stdout",
          "text": [
            "Class 0: b\n",
            "Class 1: c\n",
            "Class 2: d\n",
            "Class 3: e\n"
          ]
        }
      ]
    },
    {
      "cell_type": "markdown",
      "source": [
        "Seleksi Fitur\n",
        "---\n",
        "---"
      ],
      "metadata": {
        "id": "i-KR6pDBhfMp"
      }
    },
    {
      "cell_type": "code",
      "source": [
        "from sklearn.feature_selection import SelectKBest, f_classif\n",
        "from sklearn.preprocessing import StandardScaler\n",
        "\n",
        "use_feature_selection = True # ubah true\n",
        "\n",
        "X = df[kolom_fitur]\n",
        "\n",
        "if use_feature_selection:\n",
        "    selector = SelectKBest(score_func=f_classif, k=5)\n",
        "    X_selected = selector.fit_transform(X, y)\n",
        "    selected_mask = selector.get_support()\n",
        "    features_used = [f for f, selected in zip(kolom_fitur, selected_mask) if selected]\n",
        "    X = pd.DataFrame(X_selected, columns=features_used)\n",
        "else:\n",
        "    features_used = kolom_fitur"
      ],
      "metadata": {
        "id": "pRoQh2bdcLDQ"
      },
      "execution_count": 8,
      "outputs": []
    },
    {
      "cell_type": "markdown",
      "source": [
        "Splitting Data\n",
        "---\n",
        "---"
      ],
      "metadata": {
        "id": "AihV_iSnl0OZ"
      }
    },
    {
      "cell_type": "code",
      "source": [
        "from sklearn.model_selection import train_test_split\n",
        "\n",
        "X_train, X_test, y_train, y_test = train_test_split(X, y_encoded, test_size=0.2, random_state=42, stratify=y_encoded)"
      ],
      "metadata": {
        "id": "AI0HwX70l2Gh"
      },
      "execution_count": 9,
      "outputs": []
    },
    {
      "cell_type": "code",
      "source": [
        "print(\"X_train (data latih fitur):\", X_train.shape)\n",
        "print(\"X_test (data uji fitur):\", X_test.shape)\n",
        "print(\"y_train (data latih target):\", y_train.shape)\n",
        "print(\"y_test (data uji target):\", y_test.shape)"
      ],
      "metadata": {
        "colab": {
          "base_uri": "https://localhost:8080/"
        },
        "id": "fBciuaIeDEXr",
        "outputId": "258b345b-2248-4d48-bb11-8383670e1ccf"
      },
      "execution_count": 10,
      "outputs": [
        {
          "output_type": "stream",
          "name": "stdout",
          "text": [
            "X_train (data latih fitur): (648, 5)\n",
            "X_test (data uji fitur): (163, 5)\n",
            "y_train (data latih target): (648,)\n",
            "y_test (data uji target): (163,)\n"
          ]
        }
      ]
    },
    {
      "cell_type": "markdown",
      "source": [
        "Scalling Data\n",
        "---\n",
        "---"
      ],
      "metadata": {
        "id": "DUK5rT8WkT_c"
      }
    },
    {
      "cell_type": "code",
      "source": [
        "from sklearn.preprocessing import StandardScaler\n",
        "#Setelah Split agar erdasarkan data asli dulu baru setelahnya setelah data training\n",
        "#X = df[kolom_fitur]\n",
        "\n",
        "scaler = StandardScaler()\n",
        "\n",
        "X_train = scaler.fit_transform(X_train)\n",
        "X_test = scaler.transform(X_test)\n",
        "\n",
        "X_train_df = pd.DataFrame(X_train, columns=features_used)\n",
        "X_test_df = pd.DataFrame(X_test, columns=features_used)\n",
        "\n",
        "#columns=X.columns"
      ],
      "metadata": {
        "id": "48CTLeJMCW8k"
      },
      "execution_count": 11,
      "outputs": []
    },
    {
      "cell_type": "markdown",
      "source": [
        "---\n",
        "#***Training Model***\n",
        "---\n",
        "\n",
        "\n",
        "\n"
      ],
      "metadata": {
        "id": "6QkPTmCbngTJ"
      }
    },
    {
      "cell_type": "code",
      "source": [
        "X_train_df.head()"
      ],
      "metadata": {
        "colab": {
          "base_uri": "https://localhost:8080/",
          "height": 221
        },
        "id": "1CDv7_kVuV3r",
        "outputId": "2221d189-4311-4c04-bc6f-275db41b4bc4"
      },
      "execution_count": 12,
      "outputs": [
        {
          "output_type": "execute_result",
          "data": {
            "text/plain": [
              "   Energy (Per 100 ml)  Fat (Per 100 ml)  Saturated fat (Per 100 ml)  \\\n",
              "0            -0.786953         -0.388852                   -0.267113   \n",
              "1             7.840430          5.774914                    3.390294   \n",
              "2             0.074800         -0.388852                   -0.267113   \n",
              "3             0.138816          0.094581                    0.123484   \n",
              "4             0.094497         -0.388852                   -0.267113   \n",
              "\n",
              "   Carbohydrates (Per 100 ml)  Sugars (Per 100 ml)  \n",
              "0                   -0.820505            -0.165156  \n",
              "1                    3.837698             3.360021  \n",
              "2                    0.606800             1.051656  \n",
              "3                   -0.132803             0.031681  \n",
              "4                    0.606800             1.051656  "
            ],
            "text/html": [
              "\n",
              "  <div id=\"df-10adcb85-1fd7-4e12-8d57-628da36d2b95\" class=\"colab-df-container\">\n",
              "    <div>\n",
              "<style scoped>\n",
              "    .dataframe tbody tr th:only-of-type {\n",
              "        vertical-align: middle;\n",
              "    }\n",
              "\n",
              "    .dataframe tbody tr th {\n",
              "        vertical-align: top;\n",
              "    }\n",
              "\n",
              "    .dataframe thead th {\n",
              "        text-align: right;\n",
              "    }\n",
              "</style>\n",
              "<table border=\"1\" class=\"dataframe\">\n",
              "  <thead>\n",
              "    <tr style=\"text-align: right;\">\n",
              "      <th></th>\n",
              "      <th>Energy (Per 100 ml)</th>\n",
              "      <th>Fat (Per 100 ml)</th>\n",
              "      <th>Saturated fat (Per 100 ml)</th>\n",
              "      <th>Carbohydrates (Per 100 ml)</th>\n",
              "      <th>Sugars (Per 100 ml)</th>\n",
              "    </tr>\n",
              "  </thead>\n",
              "  <tbody>\n",
              "    <tr>\n",
              "      <th>0</th>\n",
              "      <td>-0.786953</td>\n",
              "      <td>-0.388852</td>\n",
              "      <td>-0.267113</td>\n",
              "      <td>-0.820505</td>\n",
              "      <td>-0.165156</td>\n",
              "    </tr>\n",
              "    <tr>\n",
              "      <th>1</th>\n",
              "      <td>7.840430</td>\n",
              "      <td>5.774914</td>\n",
              "      <td>3.390294</td>\n",
              "      <td>3.837698</td>\n",
              "      <td>3.360021</td>\n",
              "    </tr>\n",
              "    <tr>\n",
              "      <th>2</th>\n",
              "      <td>0.074800</td>\n",
              "      <td>-0.388852</td>\n",
              "      <td>-0.267113</td>\n",
              "      <td>0.606800</td>\n",
              "      <td>1.051656</td>\n",
              "    </tr>\n",
              "    <tr>\n",
              "      <th>3</th>\n",
              "      <td>0.138816</td>\n",
              "      <td>0.094581</td>\n",
              "      <td>0.123484</td>\n",
              "      <td>-0.132803</td>\n",
              "      <td>0.031681</td>\n",
              "    </tr>\n",
              "    <tr>\n",
              "      <th>4</th>\n",
              "      <td>0.094497</td>\n",
              "      <td>-0.388852</td>\n",
              "      <td>-0.267113</td>\n",
              "      <td>0.606800</td>\n",
              "      <td>1.051656</td>\n",
              "    </tr>\n",
              "  </tbody>\n",
              "</table>\n",
              "</div>\n",
              "    <div class=\"colab-df-buttons\">\n",
              "\n",
              "  <div class=\"colab-df-container\">\n",
              "    <button class=\"colab-df-convert\" onclick=\"convertToInteractive('df-10adcb85-1fd7-4e12-8d57-628da36d2b95')\"\n",
              "            title=\"Convert this dataframe to an interactive table.\"\n",
              "            style=\"display:none;\">\n",
              "\n",
              "  <svg xmlns=\"http://www.w3.org/2000/svg\" height=\"24px\" viewBox=\"0 -960 960 960\">\n",
              "    <path d=\"M120-120v-720h720v720H120Zm60-500h600v-160H180v160Zm220 220h160v-160H400v160Zm0 220h160v-160H400v160ZM180-400h160v-160H180v160Zm440 0h160v-160H620v160ZM180-180h160v-160H180v160Zm440 0h160v-160H620v160Z\"/>\n",
              "  </svg>\n",
              "    </button>\n",
              "\n",
              "  <style>\n",
              "    .colab-df-container {\n",
              "      display:flex;\n",
              "      gap: 12px;\n",
              "    }\n",
              "\n",
              "    .colab-df-convert {\n",
              "      background-color: #E8F0FE;\n",
              "      border: none;\n",
              "      border-radius: 50%;\n",
              "      cursor: pointer;\n",
              "      display: none;\n",
              "      fill: #1967D2;\n",
              "      height: 32px;\n",
              "      padding: 0 0 0 0;\n",
              "      width: 32px;\n",
              "    }\n",
              "\n",
              "    .colab-df-convert:hover {\n",
              "      background-color: #E2EBFA;\n",
              "      box-shadow: 0px 1px 2px rgba(60, 64, 67, 0.3), 0px 1px 3px 1px rgba(60, 64, 67, 0.15);\n",
              "      fill: #174EA6;\n",
              "    }\n",
              "\n",
              "    .colab-df-buttons div {\n",
              "      margin-bottom: 4px;\n",
              "    }\n",
              "\n",
              "    [theme=dark] .colab-df-convert {\n",
              "      background-color: #3B4455;\n",
              "      fill: #D2E3FC;\n",
              "    }\n",
              "\n",
              "    [theme=dark] .colab-df-convert:hover {\n",
              "      background-color: #434B5C;\n",
              "      box-shadow: 0px 1px 3px 1px rgba(0, 0, 0, 0.15);\n",
              "      filter: drop-shadow(0px 1px 2px rgba(0, 0, 0, 0.3));\n",
              "      fill: #FFFFFF;\n",
              "    }\n",
              "  </style>\n",
              "\n",
              "    <script>\n",
              "      const buttonEl =\n",
              "        document.querySelector('#df-10adcb85-1fd7-4e12-8d57-628da36d2b95 button.colab-df-convert');\n",
              "      buttonEl.style.display =\n",
              "        google.colab.kernel.accessAllowed ? 'block' : 'none';\n",
              "\n",
              "      async function convertToInteractive(key) {\n",
              "        const element = document.querySelector('#df-10adcb85-1fd7-4e12-8d57-628da36d2b95');\n",
              "        const dataTable =\n",
              "          await google.colab.kernel.invokeFunction('convertToInteractive',\n",
              "                                                    [key], {});\n",
              "        if (!dataTable) return;\n",
              "\n",
              "        const docLinkHtml = 'Like what you see? Visit the ' +\n",
              "          '<a target=\"_blank\" href=https://colab.research.google.com/notebooks/data_table.ipynb>data table notebook</a>'\n",
              "          + ' to learn more about interactive tables.';\n",
              "        element.innerHTML = '';\n",
              "        dataTable['output_type'] = 'display_data';\n",
              "        await google.colab.output.renderOutput(dataTable, element);\n",
              "        const docLink = document.createElement('div');\n",
              "        docLink.innerHTML = docLinkHtml;\n",
              "        element.appendChild(docLink);\n",
              "      }\n",
              "    </script>\n",
              "  </div>\n",
              "\n",
              "\n",
              "    <div id=\"df-645b7369-5e7d-403d-a56d-b4807f793816\">\n",
              "      <button class=\"colab-df-quickchart\" onclick=\"quickchart('df-645b7369-5e7d-403d-a56d-b4807f793816')\"\n",
              "                title=\"Suggest charts\"\n",
              "                style=\"display:none;\">\n",
              "\n",
              "<svg xmlns=\"http://www.w3.org/2000/svg\" height=\"24px\"viewBox=\"0 0 24 24\"\n",
              "     width=\"24px\">\n",
              "    <g>\n",
              "        <path d=\"M19 3H5c-1.1 0-2 .9-2 2v14c0 1.1.9 2 2 2h14c1.1 0 2-.9 2-2V5c0-1.1-.9-2-2-2zM9 17H7v-7h2v7zm4 0h-2V7h2v10zm4 0h-2v-4h2v4z\"/>\n",
              "    </g>\n",
              "</svg>\n",
              "      </button>\n",
              "\n",
              "<style>\n",
              "  .colab-df-quickchart {\n",
              "      --bg-color: #E8F0FE;\n",
              "      --fill-color: #1967D2;\n",
              "      --hover-bg-color: #E2EBFA;\n",
              "      --hover-fill-color: #174EA6;\n",
              "      --disabled-fill-color: #AAA;\n",
              "      --disabled-bg-color: #DDD;\n",
              "  }\n",
              "\n",
              "  [theme=dark] .colab-df-quickchart {\n",
              "      --bg-color: #3B4455;\n",
              "      --fill-color: #D2E3FC;\n",
              "      --hover-bg-color: #434B5C;\n",
              "      --hover-fill-color: #FFFFFF;\n",
              "      --disabled-bg-color: #3B4455;\n",
              "      --disabled-fill-color: #666;\n",
              "  }\n",
              "\n",
              "  .colab-df-quickchart {\n",
              "    background-color: var(--bg-color);\n",
              "    border: none;\n",
              "    border-radius: 50%;\n",
              "    cursor: pointer;\n",
              "    display: none;\n",
              "    fill: var(--fill-color);\n",
              "    height: 32px;\n",
              "    padding: 0;\n",
              "    width: 32px;\n",
              "  }\n",
              "\n",
              "  .colab-df-quickchart:hover {\n",
              "    background-color: var(--hover-bg-color);\n",
              "    box-shadow: 0 1px 2px rgba(60, 64, 67, 0.3), 0 1px 3px 1px rgba(60, 64, 67, 0.15);\n",
              "    fill: var(--button-hover-fill-color);\n",
              "  }\n",
              "\n",
              "  .colab-df-quickchart-complete:disabled,\n",
              "  .colab-df-quickchart-complete:disabled:hover {\n",
              "    background-color: var(--disabled-bg-color);\n",
              "    fill: var(--disabled-fill-color);\n",
              "    box-shadow: none;\n",
              "  }\n",
              "\n",
              "  .colab-df-spinner {\n",
              "    border: 2px solid var(--fill-color);\n",
              "    border-color: transparent;\n",
              "    border-bottom-color: var(--fill-color);\n",
              "    animation:\n",
              "      spin 1s steps(1) infinite;\n",
              "  }\n",
              "\n",
              "  @keyframes spin {\n",
              "    0% {\n",
              "      border-color: transparent;\n",
              "      border-bottom-color: var(--fill-color);\n",
              "      border-left-color: var(--fill-color);\n",
              "    }\n",
              "    20% {\n",
              "      border-color: transparent;\n",
              "      border-left-color: var(--fill-color);\n",
              "      border-top-color: var(--fill-color);\n",
              "    }\n",
              "    30% {\n",
              "      border-color: transparent;\n",
              "      border-left-color: var(--fill-color);\n",
              "      border-top-color: var(--fill-color);\n",
              "      border-right-color: var(--fill-color);\n",
              "    }\n",
              "    40% {\n",
              "      border-color: transparent;\n",
              "      border-right-color: var(--fill-color);\n",
              "      border-top-color: var(--fill-color);\n",
              "    }\n",
              "    60% {\n",
              "      border-color: transparent;\n",
              "      border-right-color: var(--fill-color);\n",
              "    }\n",
              "    80% {\n",
              "      border-color: transparent;\n",
              "      border-right-color: var(--fill-color);\n",
              "      border-bottom-color: var(--fill-color);\n",
              "    }\n",
              "    90% {\n",
              "      border-color: transparent;\n",
              "      border-bottom-color: var(--fill-color);\n",
              "    }\n",
              "  }\n",
              "</style>\n",
              "\n",
              "      <script>\n",
              "        async function quickchart(key) {\n",
              "          const quickchartButtonEl =\n",
              "            document.querySelector('#' + key + ' button');\n",
              "          quickchartButtonEl.disabled = true;  // To prevent multiple clicks.\n",
              "          quickchartButtonEl.classList.add('colab-df-spinner');\n",
              "          try {\n",
              "            const charts = await google.colab.kernel.invokeFunction(\n",
              "                'suggestCharts', [key], {});\n",
              "          } catch (error) {\n",
              "            console.error('Error during call to suggestCharts:', error);\n",
              "          }\n",
              "          quickchartButtonEl.classList.remove('colab-df-spinner');\n",
              "          quickchartButtonEl.classList.add('colab-df-quickchart-complete');\n",
              "        }\n",
              "        (() => {\n",
              "          let quickchartButtonEl =\n",
              "            document.querySelector('#df-645b7369-5e7d-403d-a56d-b4807f793816 button');\n",
              "          quickchartButtonEl.style.display =\n",
              "            google.colab.kernel.accessAllowed ? 'block' : 'none';\n",
              "        })();\n",
              "      </script>\n",
              "    </div>\n",
              "\n",
              "    </div>\n",
              "  </div>\n"
            ],
            "application/vnd.google.colaboratory.intrinsic+json": {
              "type": "dataframe",
              "variable_name": "X_train_df",
              "summary": "{\n  \"name\": \"X_train_df\",\n  \"rows\": 648,\n  \"fields\": [\n    {\n      \"column\": \"Energy (Per 100 ml)\",\n      \"properties\": {\n        \"dtype\": \"number\",\n        \"std\": 1.00077249914958,\n        \"min\": -0.8509693864227196,\n        \"max\": 8.175282605503794,\n        \"num_unique_values\": 235,\n        \"samples\": [\n          -0.31914439180839155,\n          -0.36838744686527375,\n          7.933991635725071\n        ],\n        \"semantic_type\": \"\",\n        \"description\": \"\"\n      }\n    },\n    {\n      \"column\": \"Fat (Per 100 ml)\",\n      \"properties\": {\n        \"dtype\": \"number\",\n        \"std\": 1.0007724991495817,\n        \"min\": -0.38885153861807786,\n        \"max\": 7.164783013352972,\n        \"num_unique_values\": 72,\n        \"samples\": [\n          7.164783013352972,\n          -0.10694989713851828,\n          0.1550101491238377\n        ],\n        \"semantic_type\": \"\",\n        \"description\": \"\"\n      }\n    },\n    {\n      \"column\": \"Saturated fat (Per 100 ml)\",\n      \"properties\": {\n        \"dtype\": \"number\",\n        \"std\": 1.0007724991495826,\n        \"min\": -0.2671126887858463,\n        \"max\": 8.254999148967947,\n        \"num_unique_values\": 56,\n        \"samples\": [\n          -0.2671126887858463,\n          0.23001050174979165,\n          0.5993020147191227\n        ],\n        \"semantic_type\": \"\",\n        \"description\": \"\"\n      }\n    },\n    {\n      \"column\": \"Carbohydrates (Per 100 ml)\",\n      \"properties\": {\n        \"dtype\": \"number\",\n        \"std\": 1.0007724991495799,\n        \"min\": -0.8205047442824821,\n        \"max\": 9.94915717627413,\n        \"num_unique_values\": 145,\n        \"samples\": [\n          0.7235793142069601,\n          0.6587018327578238,\n          0.4640693884104152\n        ],\n        \"semantic_type\": \"\",\n        \"description\": \"\"\n      }\n    },\n    {\n      \"column\": \"Sugars (Per 100 ml)\",\n      \"properties\": {\n        \"dtype\": \"number\",\n        \"std\": 1.0007724991495803,\n        \"min\": -0.9167163480424416,\n        \"max\": 11.96717731727339,\n        \"num_unique_values\": 136,\n        \"samples\": [\n          0.6758760633646542,\n          -0.1830501809897346,\n          0.4969330957908233\n        ],\n        \"semantic_type\": \"\",\n        \"description\": \"\"\n      }\n    }\n  ]\n}"
            }
          },
          "metadata": {},
          "execution_count": 12
        }
      ]
    },
    {
      "cell_type": "markdown",
      "source": [
        "Decision Tree\n",
        "---\n",
        "---"
      ],
      "metadata": {
        "id": "6dyIa8VbnrTK"
      }
    },
    {
      "cell_type": "markdown",
      "source": [
        "Nabhyla Niagara Rannuan - 5025221286"
      ],
      "metadata": {
        "id": "zZHnh1uBg6U5"
      }
    },
    {
      "cell_type": "code",
      "source": [
        "from sklearn.tree import DecisionTreeClassifier\n",
        "from sklearn.metrics import accuracy_score, precision_score, recall_score, f1_score, confusion_matrix\n",
        "\n",
        "dtc_model = DecisionTreeClassifier(criterion='gini', random_state=42, max_depth=17)\n",
        "dtc_model.fit(X_train, y_train)\n",
        "\n",
        "# predict\n",
        "y_pred_dtc = dtc_model.predict(X_test)\n",
        "\n",
        "# accuracy\n",
        "dt_accuracy = round(accuracy_score(y_test, y_pred_dtc), 4) * 100\n",
        "print(f\"Akurasi Model: {dt_accuracy}%\")"
      ],
      "metadata": {
        "colab": {
          "base_uri": "https://localhost:8080/"
        },
        "id": "Mjh0kwr2vWk1",
        "outputId": "d3e7c167-d4ed-4ac1-b9cf-ad5545dfc03f"
      },
      "execution_count": 13,
      "outputs": [
        {
          "output_type": "stream",
          "name": "stdout",
          "text": [
            "Akurasi Model: 77.3%\n"
          ]
        }
      ]
    },
    {
      "cell_type": "code",
      "source": [
        "# max depth optimal\n",
        "for i in [11,13,15,17,19]:\n",
        "    check = DecisionTreeClassifier(criterion='gini',random_state=42, max_depth=i)\n",
        "    check.fit(X_train, y_train)\n",
        "    y_pred_check= check.predict(X_test)\n",
        "    print(f\"Akurasi max depth {i} = {accuracy_score(y_test,y_pred_check)}\")"
      ],
      "metadata": {
        "colab": {
          "base_uri": "https://localhost:8080/"
        },
        "id": "7yBRZRGpwWYR",
        "outputId": "63d228ed-7382-4f9d-9e96-e607d0a780f6"
      },
      "execution_count": 14,
      "outputs": [
        {
          "output_type": "stream",
          "name": "stdout",
          "text": [
            "Akurasi max depth 11 = 0.7239263803680982\n",
            "Akurasi max depth 13 = 0.754601226993865\n",
            "Akurasi max depth 15 = 0.754601226993865\n",
            "Akurasi max depth 17 = 0.7730061349693251\n",
            "Akurasi max depth 19 = 0.7484662576687117\n"
          ]
        }
      ]
    },
    {
      "cell_type": "code",
      "source": [
        "import matplotlib.pyplot as plt\n",
        "import seaborn as sns\n",
        "\n",
        "cm = confusion_matrix(y_test, y_pred_dtc)\n",
        "\n",
        "plt.figure(figsize=(10, 7))\n",
        "sns.heatmap(cm, annot=True, fmt='d', cmap='Blues')\n",
        "plt.xlabel('Predicted')\n",
        "plt.ylabel('Actual')\n",
        "plt.title('Confusion Matrix')\n",
        "plt.show()"
      ],
      "metadata": {
        "colab": {
          "base_uri": "https://localhost:8080/",
          "height": 641
        },
        "id": "quNQxbvNNYos",
        "outputId": "626ef61f-fd46-4311-ea09-7529d5acfb13"
      },
      "execution_count": 15,
      "outputs": [
        {
          "output_type": "display_data",
          "data": {
            "text/plain": [
              "<Figure size 1000x700 with 2 Axes>"
            ],
            "image/png": "[encoded data removed]"
          },
          "metadata": {}
        }
      ]
    },
    {
      "cell_type": "code",
      "source": [
        "accuracy = accuracy_score(y_test, y_pred_dtc)\n",
        "precision = precision_score(y_test, y_pred_dtc, average='macro')\n",
        "recall = recall_score(y_test, y_pred_dtc, average='macro')\n",
        "f1 = f1_score(y_test, y_pred_dtc, average='macro')\n",
        "\n",
        "print(f\"Accuracy: {accuracy}\")\n",
        "print(f\"Precision: {precision}\")\n",
        "print(f\"Recall: {recall}\")\n",
        "print(f\"F1-Score: {f1:.4f}\")"
      ],
      "metadata": {
        "colab": {
          "base_uri": "https://localhost:8080/"
        },
        "id": "CwcgQBJyNy1U",
        "outputId": "d4acb5cf-2140-4533-dcc6-4703800ef776"
      },
      "execution_count": 16,
      "outputs": [
        {
          "output_type": "stream",
          "name": "stdout",
          "text": [
            "Accuracy: 0.7730061349693251\n",
            "Precision: 0.7689290867862297\n",
            "Recall: 0.7926183012389909\n",
            "F1-Score: 0.7759\n"
          ]
        }
      ]
    },
    {
      "cell_type": "code",
      "source": [
        "feature_importances = dtc_model.feature_importances_\n",
        "\n",
        "plt.figure(figsize=(10, 6))\n",
        "plt.barh(features_used, feature_importances, align='center')\n",
        "plt.xlabel('Importance')\n",
        "plt.title('Feature Importances')\n",
        "plt.show()"
      ],
      "metadata": {
        "colab": {
          "base_uri": "https://localhost:8080/",
          "height": 497
        },
        "id": "viaCpMZTOCBb",
        "outputId": "4434b355-b754-4dcd-80f5-5b3be0a67d86"
      },
      "execution_count": 17,
      "outputs": [
        {
          "output_type": "display_data",
          "data": {
            "text/plain": [
              "<Figure size 1000x600 with 1 Axes>"
            ],
            "image/png": "[encoded data removed]"
          },
          "metadata": {}
        }
      ]
    },
    {
      "cell_type": "markdown",
      "source": [
        "KNN\n",
        "---\n",
        "---"
      ],
      "metadata": {
        "id": "Y7DChYfWLjHb"
      }
    },
    {
      "cell_type": "markdown",
      "source": [
        "Rumaisha Afrina (5025221146)"
      ],
      "metadata": {
        "id": "vMnXKgJ2JZiq"
      }
    },
    {
      "cell_type": "code",
      "source": [
        "from sklearn.neighbors import KNeighborsClassifier\n",
        "from sklearn.metrics import accuracy_score, precision_score, recall_score, f1_score, confusion_matrix\n",
        "\n",
        "k_initial = 1\n",
        "\n",
        "knn_model = KNeighborsClassifier(n_neighbors = k_initial)\n",
        "\n",
        "knn_model.fit(X_train, y_train)\n",
        "\n",
        "# predict\n",
        "y_pred_knn = knn_model.predict(X_test)\n",
        "\n",
        "# accuracy\n",
        "knn_accuracy = round(accuracy_score(y_test, y_pred_knn), 4) * 100\n",
        "\n",
        "print(f\"Akurasi Model: {knn_accuracy}%\")\n",
        "\n",
        "cm = confusion_matrix(y_test, y_pred_knn)"
      ],
      "metadata": {
        "colab": {
          "base_uri": "https://localhost:8080/"
        },
        "id": "m6Z9g-hlKKsw",
        "outputId": "37e6bcd3-4f25-4471-d358-aa776501ae2e"
      },
      "execution_count": 18,
      "outputs": [
        {
          "output_type": "stream",
          "name": "stdout",
          "text": [
            "Akurasi Model: 82.82000000000001%\n"
          ]
        }
      ]
    },
    {
      "cell_type": "code",
      "source": [
        "import matplotlib.pyplot as plt\n",
        "import seaborn as sns\n",
        "\n",
        "cm = confusion_matrix(y_test, y_pred_knn)\n",
        "\n",
        "plt.figure(figsize=(10, 7))\n",
        "sns.heatmap(cm, annot=True, fmt='d', cmap='Blues')\n",
        "plt.xlabel('Predicted')\n",
        "plt.ylabel('Actual')\n",
        "plt.title('Confusion Matrix')\n",
        "plt.show()"
      ],
      "metadata": {
        "colab": {
          "base_uri": "https://localhost:8080/",
          "height": 641
        },
        "id": "lNXb0791Mdiw",
        "outputId": "67535771-8aa3-4094-dc4e-475eb716be42"
      },
      "execution_count": 19,
      "outputs": [
        {
          "output_type": "display_data",
          "data": {
            "text/plain": [
              "<Figure size 1000x700 with 2 Axes>"
            ],
            "image/png": "[encoded data removed]"
          },
          "metadata": {}
        }
      ]
    },
    {
      "cell_type": "code",
      "source": [
        "accuracy = accuracy_score(y_test, y_pred_knn)\n",
        "precision = precision_score(y_test, y_pred_knn, average='macro')\n",
        "recall = recall_score(y_test, y_pred_knn, average='macro')\n",
        "f1 = f1_score(y_test, y_pred_knn, average='macro')\n",
        "\n",
        "print(f\"Accuracy: {accuracy}\")\n",
        "print(f\"Precision: {precision}\")\n",
        "print(f\"Recall: {recall}\")\n",
        "print(f\"F1-Score: {f1:.4f}\")"
      ],
      "metadata": {
        "colab": {
          "base_uri": "https://localhost:8080/"
        },
        "id": "dWDGxp0kNG-0",
        "outputId": "126745b6-f066-493d-d827-944063dd4e7f"
      },
      "execution_count": 20,
      "outputs": [
        {
          "output_type": "stream",
          "name": "stdout",
          "text": [
            "Accuracy: 0.8282208588957055\n",
            "Precision: 0.8214236111111111\n",
            "Recall: 0.8402149574563369\n",
            "F1-Score: 0.8276\n"
          ]
        }
      ]
    },
    {
      "cell_type": "markdown",
      "source": [
        "Random Forest\n",
        "---\n",
        "---\n"
      ],
      "metadata": {
        "id": "H3-3799BAPGs"
      }
    },
    {
      "cell_type": "markdown",
      "source": [
        "Furstin Aprilavia Putri - 5025221234"
      ],
      "metadata": {
        "id": "fgCp6UAyQ2gP"
      }
    },
    {
      "cell_type": "code",
      "source": [
        "from sklearn.ensemble import RandomForestClassifier\n",
        "from sklearn.metrics import accuracy_score, precision_score, recall_score, f1_score, confusion_matrix\n",
        "\n",
        "rf_model = RandomForestClassifier()\n",
        "\n",
        "rf_model.fit(X_train, y_train)\n",
        "\n",
        "# predict\n",
        "y_pred_rf = rf_model.predict(X_test)\n",
        "\n",
        "# accuracy\n",
        "rf_accuracy = round(accuracy_score(y_test, y_pred_rf), 4) * 100\n",
        "print(f\"Akurasi Model: {rf_accuracy}%\")"
      ],
      "metadata": {
        "colab": {
          "base_uri": "https://localhost:8080/"
        },
        "id": "zHX4KFNWEiFf",
        "outputId": "59958387-dcb4-4682-de29-a1977d69dff9"
      },
      "execution_count": 21,
      "outputs": [
        {
          "output_type": "stream",
          "name": "stdout",
          "text": [
            "Akurasi Model: 81.6%\n"
          ]
        }
      ]
    },
    {
      "cell_type": "code",
      "source": [
        "import matplotlib.pyplot as plt\n",
        "import seaborn as sns\n",
        "\n",
        "cm = confusion_matrix(y_test, y_pred_rf)\n",
        "\n",
        "plt.figure(figsize=(10, 7))\n",
        "sns.heatmap(cm, annot=True, fmt='d', cmap='Blues')\n",
        "plt.xlabel('Predicted')\n",
        "plt.ylabel('Actual')\n",
        "plt.title('Confusion Matrix - Optimized Random Forest')\n",
        "plt.show()"
      ],
      "metadata": {
        "colab": {
          "base_uri": "https://localhost:8080/",
          "height": 641
        },
        "id": "7uee9hP6EpU1",
        "outputId": "161a4fd1-a047-4d55-ba7d-79ecade5343a"
      },
      "execution_count": 22,
      "outputs": [
        {
          "output_type": "display_data",
          "data": {
            "text/plain": [
              "<Figure size 1000x700 with 2 Axes>"
            ],
            "image/png": "[encoded data removed]"
          },
          "metadata": {}
        }
      ]
    },
    {
      "cell_type": "code",
      "source": [
        "accuracy = accuracy_score(y_test, y_pred_rf)\n",
        "precision = precision_score(y_test, y_pred_rf, average='macro')\n",
        "recall = recall_score(y_test, y_pred_rf, average='macro')\n",
        "f1 = f1_score(y_test, y_pred_rf, average='macro')\n",
        "\n",
        "print(f\"Accuracy: {accuracy}\")\n",
        "print(f\"Precision: {precision}\")\n",
        "print(f\"Recall: {recall}\")\n",
        "print(f\"F1-Score: {f1:.4f}\")"
      ],
      "metadata": {
        "colab": {
          "base_uri": "https://localhost:8080/"
        },
        "id": "M9kgEueIEsUc",
        "outputId": "6547a0bd-85a7-47fd-bed0-6387d6830164"
      },
      "execution_count": 23,
      "outputs": [
        {
          "output_type": "stream",
          "name": "stdout",
          "text": [
            "Accuracy: 0.8159509202453987\n",
            "Precision: 0.8156945393787498\n",
            "Recall: 0.8138789371547992\n",
            "F1-Score: 0.8143\n"
          ]
        }
      ]
    },
    {
      "cell_type": "code",
      "source": [
        "feature_importances = rf_model.feature_importances_\n",
        "\n",
        "plt.figure(figsize=(10, 6))\n",
        "plt.barh(features_used, feature_importances, align='center')\n",
        "plt.xlabel('Importance')\n",
        "plt.title('Feature Importances - Optimized Random Forest')\n",
        "plt.show()"
      ],
      "metadata": {
        "colab": {
          "base_uri": "https://localhost:8080/",
          "height": 502
        },
        "id": "LHck7vCzExMo",
        "outputId": "0aa7f5e2-f75c-4607-f42f-5cbc08ace426"
      },
      "execution_count": 24,
      "outputs": [
        {
          "output_type": "display_data",
          "data": {
            "text/plain": [
              "<Figure size 1000x600 with 1 Axes>"
            ],
            "image/png": "[encoded data removed]"
          },
          "metadata": {}
        }
      ]
    },
    {
      "cell_type": "markdown",
      "source": [
        "XGBoost\n",
        "---\n",
        "---"
      ],
      "metadata": {
        "id": "Su_imAzuULLV"
      }
    },
    {
      "cell_type": "markdown",
      "source": [
        "Helsa Sriprameswari Putri - 5025221154"
      ],
      "metadata": {
        "id": "9yjVkVWwuTQn"
      }
    },
    {
      "cell_type": "code",
      "source": [
        "from xgboost import XGBClassifier\n",
        "from sklearn.metrics import accuracy_score, precision_score, recall_score, f1_score, confusion_matrix\n",
        "\n",
        "xgb_model = XGBClassifier(random_state=42, max_depth=11)\n",
        "xgb_model.fit(X_train, y_train)\n",
        "\n",
        "# predict\n",
        "y_pred_xgb = xgb_model.predict(X_test)\n",
        "\n",
        "# accuracy\n",
        "xgb_accuracy = round(accuracy_score(y_test, y_pred_xgb), 4) * 100\n",
        "print(f\"Akurasi Model: {xgb_accuracy}%\")"
      ],
      "metadata": {
        "colab": {
          "base_uri": "https://localhost:8080/"
        },
        "id": "O8L1DWHMTSY5",
        "outputId": "16704088-349f-4177-ff0c-fd837a55f5f2"
      },
      "execution_count": 25,
      "outputs": [
        {
          "output_type": "stream",
          "name": "stdout",
          "text": [
            "Akurasi Model: 82.82000000000001%\n"
          ]
        }
      ]
    },
    {
      "cell_type": "code",
      "source": [
        "for i in [7,9,11,13,15,17,19]:\n",
        "    check = XGBClassifier(random_state=42, max_depth=i)\n",
        "    check.fit(X_train, y_train)\n",
        "    y_pred_check= check.predict(X_test)\n",
        "    print(f\"Akurasi max depth {i} = {accuracy_score(y_test,y_pred_check)}\")"
      ],
      "metadata": {
        "colab": {
          "base_uri": "https://localhost:8080/"
        },
        "id": "f8ToTQ8iT-4C",
        "outputId": "a94033e5-b0b7-41aa-eced-d062b60478a9"
      },
      "execution_count": 26,
      "outputs": [
        {
          "output_type": "stream",
          "name": "stdout",
          "text": [
            "Akurasi max depth 7 = 0.8159509202453987\n",
            "Akurasi max depth 9 = 0.8282208588957055\n",
            "Akurasi max depth 11 = 0.8282208588957055\n",
            "Akurasi max depth 13 = 0.8220858895705522\n",
            "Akurasi max depth 15 = 0.8220858895705522\n",
            "Akurasi max depth 17 = 0.8098159509202454\n",
            "Akurasi max depth 19 = 0.8282208588957055\n"
          ]
        }
      ]
    },
    {
      "cell_type": "code",
      "source": [
        "cm = confusion_matrix(y_test, y_pred_xgb)\n",
        "\n",
        "plt.figure(figsize=(10, 7))\n",
        "sns.heatmap(cm, annot=True, fmt='d', cmap='Blues')\n",
        "plt.xlabel('Predicted')\n",
        "plt.ylabel('Actual')\n",
        "plt.title('Confusion Matrix')\n",
        "plt.show()"
      ],
      "metadata": {
        "colab": {
          "base_uri": "https://localhost:8080/",
          "height": 641
        },
        "id": "Nf1Ht2P1VGya",
        "outputId": "79d567d3-37b8-4888-cf20-80cefec5fd4b"
      },
      "execution_count": 27,
      "outputs": [
        {
          "output_type": "display_data",
          "data": {
            "text/plain": [
              "<Figure size 1000x700 with 2 Axes>"
            ],
            "image/png": "[encoded data removed]"
          },
          "metadata": {}
        }
      ]
    },
    {
      "cell_type": "code",
      "source": [
        "accuracy = accuracy_score(y_test, y_pred_xgb)\n",
        "precision = precision_score(y_test, y_pred_xgb, average='macro')\n",
        "recall = recall_score(y_test, y_pred_xgb, average='macro')\n",
        "f1 = f1_score(y_test, y_pred_xgb, average='macro')\n",
        "\n",
        "print(f\"Accuracy: {accuracy}\")\n",
        "print(f\"Precision: {precision}\")\n",
        "print(f\"Recall: {recall}\")\n",
        "print(f\"F1-Score: {f1:.4f}\")"
      ],
      "metadata": {
        "colab": {
          "base_uri": "https://localhost:8080/"
        },
        "id": "41KyGzm6VL59",
        "outputId": "84afedb0-401c-48a3-c26c-173b5ea6a59f"
      },
      "execution_count": 28,
      "outputs": [
        {
          "output_type": "stream",
          "name": "stdout",
          "text": [
            "Accuracy: 0.8282208588957055\n",
            "Precision: 0.8212119628559846\n",
            "Recall: 0.8338110165696373\n",
            "F1-Score: 0.8259\n"
          ]
        }
      ]
    },
    {
      "cell_type": "code",
      "source": [
        "feature_importances = xgb_model.feature_importances_\n",
        "\n",
        "plt.figure(figsize=(10, 6))\n",
        "plt.barh(features_used, feature_importances, align='center')\n",
        "plt.xlabel('Importance')\n",
        "plt.title('Feature Importances')\n",
        "plt.show()"
      ],
      "metadata": {
        "colab": {
          "base_uri": "https://localhost:8080/",
          "height": 502
        },
        "id": "xoH-Z3ilVQ98",
        "outputId": "29ea722e-a65c-4038-fcc9-2194e5b2b264"
      },
      "execution_count": 29,
      "outputs": [
        {
          "output_type": "display_data",
          "data": {
            "text/plain": [
              "<Figure size 1000x600 with 1 Axes>"
            ],
            "image/png": "[encoded data removed]"
          },
          "metadata": {}
        }
      ]
    },
    {
      "cell_type": "markdown",
      "source": [
        "SVM (*Support Vector Machine*)\n",
        "---\n",
        "---"
      ],
      "metadata": {
        "id": "DzVj3MYoO7aZ"
      }
    },
    {
      "cell_type": "markdown",
      "source": [
        "Muhammad Faisal Rafi 5025231295"
      ],
      "metadata": {
        "id": "3qiLa2GBmOGv"
      }
    },
    {
      "cell_type": "code",
      "source": [
        "from sklearn.svm import SVC\n",
        "from sklearn.metrics import accuracy_score, precision_score, recall_score, f1_score, classification_report, confusion_matrix\n",
        "import matplotlib.pyplot as plt\n",
        "import seaborn as sns\n",
        "\n",
        "svm_model = SVC(random_state=42)\n",
        "svm_model.fit(X_train, y_train)\n",
        "\n",
        "# Prediksi\n",
        "y_pred_svm = svm_model.predict(X_test)\n",
        "\n",
        "# Evaluasi\n",
        "svm_accuracy = round(accuracy_score(y_test, y_pred_svm), 4) * 100\n",
        "precision = precision_score(y_test, y_pred_svm, average='macro')\n",
        "recall = recall_score(y_test, y_pred_svm, average='macro')\n",
        "f1 = f1_score(y_test, y_pred_svm, average='macro')\n",
        "\n",
        "print(f\"Akurasi Model: {svm_accuracy}%\")\n",
        "print(f\"Precision: {precision}\")\n",
        "print(f\"Recall: {recall}\")\n",
        "print(f\"F1-Score: {f1:.4f}\")\n",
        "\n",
        "print(\"\\nClassification Report:\")\n",
        "print(classification_report(y_test, y_pred_svm))\n",
        "\n",
        "# Confusion Matrix\n",
        "cm = confusion_matrix(y_test, y_pred_svm)\n",
        "\n",
        "plt.figure(figsize=(10, 7))\n",
        "sns.heatmap(cm, annot=True, fmt='d', cmap='Blues')\n",
        "plt.xlabel('Predicted')\n",
        "plt.ylabel('Actual')\n",
        "plt.title('Confusion Matrix - SVM')\n",
        "plt.show()\n"
      ],
      "metadata": {
        "colab": {
          "base_uri": "https://localhost:8080/",
          "height": 1000
        },
        "id": "aB_4IGVDO8G7",
        "outputId": "9d9b829a-3e9a-4512-f893-9cdaa5638cdb"
      },
      "execution_count": 30,
      "outputs": [
        {
          "output_type": "stream",
          "name": "stdout",
          "text": [
            "Akurasi Model: 61.96%\n",
            "Precision: 0.4742351046698873\n",
            "Recall: 0.5907971339005822\n",
            "F1-Score: 0.5215\n",
            "\n",
            "Classification Report:\n",
            "              precision    recall  f1-score   support\n",
            "\n",
            "           0       0.80      0.88      0.84        42\n",
            "           1       0.56      0.60      0.58        58\n",
            "           2       0.00      0.00      0.00        30\n",
            "           3       0.54      0.88      0.67        33\n",
            "\n",
            "    accuracy                           0.62       163\n",
            "   macro avg       0.47      0.59      0.52       163\n",
            "weighted avg       0.51      0.62      0.56       163\n",
            "\n"
          ]
        },
        {
          "output_type": "stream",
          "name": "stderr",
          "text": [
            "/usr/local/lib/python3.11/dist-packages/sklearn/metrics/_classification.py:1565: UndefinedMetricWarning: Precision is ill-defined and being set to 0.0 in labels with no predicted samples. Use `zero_division` parameter to control this behavior.\n",
            "  _warn_prf(average, modifier, f\"{metric.capitalize()} is\", len(result))\n",
            "/usr/local/lib/python3.11/dist-packages/sklearn/metrics/_classification.py:1565: UndefinedMetricWarning: Precision is ill-defined and being set to 0.0 in labels with no predicted samples. Use `zero_division` parameter to control this behavior.\n",
            "  _warn_prf(average, modifier, f\"{metric.capitalize()} is\", len(result))\n",
            "/usr/local/lib/python3.11/dist-packages/sklearn/metrics/_classification.py:1565: UndefinedMetricWarning: Precision is ill-defined and being set to 0.0 in labels with no predicted samples. Use `zero_division` parameter to control this behavior.\n",
            "  _warn_prf(average, modifier, f\"{metric.capitalize()} is\", len(result))\n",
            "/usr/local/lib/python3.11/dist-packages/sklearn/metrics/_classification.py:1565: UndefinedMetricWarning: Precision is ill-defined and being set to 0.0 in labels with no predicted samples. Use `zero_division` parameter to control this behavior.\n",
            "  _warn_prf(average, modifier, f\"{metric.capitalize()} is\", len(result))\n"
          ]
        },
        {
          "output_type": "display_data",
          "data": {
            "text/plain": [
              "<Figure size 1000x700 with 2 Axes>"
            ],
            "image/png": "[encoded data removed]"
          },
          "metadata": {}
        }
      ]
    },
    {
      "cell_type": "markdown",
      "source": [
        "---\n",
        "#Model Comparison\n",
        "---"
      ],
      "metadata": {
        "id": "f4dXQ0kkyaFE"
      }
    },
    {
      "cell_type": "code",
      "source": [
        "import matplotlib.pyplot as plt\n",
        "import matplotlib.cm as cm\n",
        "\n",
        "model_names = ['Decision Tree', 'KNN', 'Random Forest', 'XGBoost', 'SVM']\n",
        "model_accuracies = [dt_accuracy, knn_accuracy, rf_accuracy, xgb_accuracy, svm_accuracy]\n",
        "\n",
        "sorted_models = sorted(zip(model_names, model_accuracies), key=lambda x: x[1], reverse=True)\n",
        "model_names_sorted, model_accuracies_sorted = zip(*sorted_models)\n",
        "\n",
        "acc_array = np.array(model_accuracies_sorted)\n",
        "normalized = (acc_array - 50) / 50\n",
        "normalized = np.clip(normalized, 0, 1)\n",
        "\n",
        "colors = cm.RdYlGn(normalized)\n",
        "\n",
        "plt.figure(figsize=(10, 6))\n",
        "bars = plt.bar(model_names_sorted, model_accuracies_sorted, color=colors, edgecolor='black')\n",
        "\n",
        "for bar in bars:\n",
        "    height = bar.get_height()\n",
        "    plt.text(bar.get_x() + bar.get_width()/2, height + 0.5, f'{height:.2f}%', ha='center', fontsize=10)\n",
        "\n",
        "plt.title('Akurasi Model', fontsize=14)\n",
        "plt.xlabel('Model', fontsize=12)\n",
        "plt.ylabel('Akurasi (%)', fontsize=12)\n",
        "plt.ylim(0, 110)\n",
        "plt.grid(axis='y', linestyle='--', alpha=0.7)\n",
        "\n",
        "plt.tight_layout()\n",
        "plt.show()\n"
      ],
      "metadata": {
        "colab": {
          "base_uri": "https://localhost:8080/",
          "height": 544
        },
        "id": "LPwkEODyddl2",
        "outputId": "fa975107-e2e0-4c33-8ed1-cd8e2008fdd6"
      },
      "execution_count": 31,
      "outputs": [
        {
          "output_type": "display_data",
          "data": {
            "text/plain": [
              "<Figure size 1000x600 with 1 Axes>"
            ],
            "image/png": "[encoded data removed]"
          },
          "metadata": {}
        }
      ]
    },
    {
      "cell_type": "markdown",
      "source": [
        "#Parameter Tuning\n",
        "---"
      ],
      "metadata": {
        "id": "zouJ0AESZ3A0"
      }
    },
    {
      "cell_type": "markdown",
      "source": [
        "**Decision Tree**\n",
        "---\n",
        "---"
      ],
      "metadata": {
        "id": "oEgNYhYNatsv"
      }
    },
    {
      "cell_type": "code",
      "source": [
        "from sklearn.tree import DecisionTreeClassifier\n",
        "from sklearn.model_selection import GridSearchCV\n",
        "from sklearn.metrics import accuracy_score, precision_score, recall_score, f1_score, confusion_matrix\n",
        "\n",
        "param_grid = {\n",
        "    'criterion': ['gini', 'entropy'],\n",
        "    'max_depth': list(range(3, 21)),\n",
        "    'min_samples_split': [2, 5, 10]\n",
        "}\n",
        "\n",
        "dtc = DecisionTreeClassifier(random_state=42)\n",
        "\n",
        "grid_search = GridSearchCV(dtc, param_grid, cv=5, scoring='accuracy')\n",
        "grid_search.fit(X_train, y_train)\n",
        "\n",
        "best_model = grid_search.best_estimator_\n",
        "best_params = grid_search.best_params_\n",
        "\n",
        "y_pred = best_model.predict(X_test)\n",
        "\n",
        "dt_accuracy = round(accuracy_score(y_test, y_pred), 4) * 100\n",
        "print(f\"Parameter Terbaik: {best_params}\")\n",
        "print(f\"Akurasi Model Terbaik: {dt_accuracy}%\")\n",
        "\n",
        "print(\"Confusion Matrix:\\n\", confusion_matrix(y_test, y_pred))\n",
        "print(\"Precision:\", precision_score(y_test, y_pred, average='weighted'))\n",
        "print(\"Recall:\", recall_score(y_test, y_pred, average='weighted'))\n",
        "print(\"F1 Score:\", f1_score(y_test, y_pred, average='weighted'))"
      ],
      "metadata": {
        "id": "ZDC1meJmaY2Z",
        "colab": {
          "base_uri": "https://localhost:8080/"
        },
        "outputId": "1f9c51ab-1104-48c1-e5bd-d5ed6ca12fbc"
      },
      "execution_count": 32,
      "outputs": [
        {
          "output_type": "stream",
          "name": "stdout",
          "text": [
            "Parameter Terbaik: {'criterion': 'entropy', 'max_depth': 11, 'min_samples_split': 2}\n",
            "Akurasi Model Terbaik: 75.46000000000001%\n",
            "Confusion Matrix:\n",
            " [[38  3  1  0]\n",
            " [ 8 41  3  6]\n",
            " [ 0  8 20  2]\n",
            " [ 0  7  2 24]]\n",
            "Precision: 0.7535439263595021\n",
            "Recall: 0.754601226993865\n",
            "F1 Score: 0.752884062086516\n"
          ]
        }
      ]
    },
    {
      "cell_type": "markdown",
      "source": [
        "**KNN**\n",
        "---\n",
        "---"
      ],
      "metadata": {
        "id": "M8xfPdhDaxok"
      }
    },
    {
      "cell_type": "code",
      "source": [
        "from sklearn.neighbors import KNeighborsClassifier\n",
        "from sklearn.metrics import accuracy_score, precision_score, recall_score, f1_score, confusion_matrix\n",
        "from sklearn.model_selection import GridSearchCV\n",
        "\n",
        "param_grid = {'n_neighbors': list(range(1, 21))}\n",
        "\n",
        "knn = KNeighborsClassifier()\n",
        "\n",
        "grid_search = GridSearchCV(knn, param_grid, cv=5, scoring='accuracy')\n",
        "grid_search.fit(X_train, y_train)\n",
        "\n",
        "best_k = grid_search.best_params_['n_neighbors']\n",
        "best_knn_model = grid_search.best_estimator_\n",
        "\n",
        "y_pred_knn = best_knn_model.predict(X_test)\n",
        "\n",
        "knn_accuracy = round(accuracy_score(y_test, y_pred_knn), 4) * 100\n",
        "print(f\"Best k (n_neighbors): {best_k}\")\n",
        "print(f\"Akurasi Model Terbaik: {knn_accuracy}%\")\n",
        "\n",
        "cm = confusion_matrix(y_test, y_pred_knn)\n",
        "print(\"Confusion Matrix:\\n\", cm)\n",
        "\n",
        "print(\"Precision:\", precision_score(y_test, y_pred_knn, average='weighted'))\n",
        "print(\"Recall:\", recall_score(y_test, y_pred_knn, average='weighted'))\n",
        "print(\"F1 Score:\", f1_score(y_test, y_pred_knn, average='weighted'))"
      ],
      "metadata": {
        "id": "N6ktbchZakj7",
        "colab": {
          "base_uri": "https://localhost:8080/"
        },
        "outputId": "c219a768-f1d0-4d33-a7cf-1890daced4de"
      },
      "execution_count": 33,
      "outputs": [
        {
          "output_type": "stream",
          "name": "stdout",
          "text": [
            "Best k (n_neighbors): 1\n",
            "Akurasi Model Terbaik: 82.82000000000001%\n",
            "Confusion Matrix:\n",
            " [[39  2  1  0]\n",
            " [ 6 43  3  6]\n",
            " [ 0  1 28  1]\n",
            " [ 0  4  4 25]]\n",
            "Precision: 0.8306416155419224\n",
            "Recall: 0.8282208588957055\n",
            "F1 Score: 0.8262547143444118\n"
          ]
        }
      ]
    },
    {
      "cell_type": "markdown",
      "source": [
        "**Random Forest**\n",
        "---\n",
        "---"
      ],
      "metadata": {
        "id": "ixLADP9FbIJw"
      }
    },
    {
      "cell_type": "code",
      "source": [
        "from sklearn.ensemble import RandomForestClassifier\n",
        "from sklearn.model_selection import GridSearchCV\n",
        "from sklearn.metrics import accuracy_score, precision_score, recall_score, f1_score, confusion_matrix\n",
        "\n",
        "param_grid = {\n",
        "    'n_estimators': [50, 100, 150],\n",
        "    'criterion': ['gini', 'entropy'],\n",
        "    'max_depth': [10, 15, 20],\n",
        "    'min_samples_split': [2, 5, 10]\n",
        "}\n",
        "\n",
        "rf = RandomForestClassifier(random_state=42)\n",
        "\n",
        "grid_search = GridSearchCV(rf, param_grid, cv=5, scoring='accuracy', n_jobs=-1)\n",
        "grid_search.fit(X_train, y_train)\n",
        "\n",
        "best_rf = grid_search.best_estimator_\n",
        "best_params = grid_search.best_params_\n",
        "\n",
        "y_pred_rf = best_rf.predict(X_test)\n",
        "\n",
        "rf_accuracy = round(accuracy_score(y_test, y_pred_rf), 4) * 100\n",
        "print(f\"Parameter Terbaik: {best_params}\")\n",
        "print(f\"Akurasi Model Terbaik: {rf_accuracy}%\")\n",
        "\n",
        "print(\"Confusion Matrix:\\n\", confusion_matrix(y_test, y_pred_rf))\n",
        "print(\"Precision:\", precision_score(y_test, y_pred_rf, average='weighted'))\n",
        "print(\"Recall:\", recall_score(y_test, y_pred_rf, average='weighted'))\n",
        "print(\"F1 Score:\", f1_score(y_test, y_pred_rf, average='weighted'))"
      ],
      "metadata": {
        "id": "MS_Cg_Eea81h",
        "colab": {
          "base_uri": "https://localhost:8080/"
        },
        "outputId": "aa95be7a-445f-4f74-f331-efdba55b5821"
      },
      "execution_count": 34,
      "outputs": [
        {
          "output_type": "stream",
          "name": "stdout",
          "text": [
            "Parameter Terbaik: {'criterion': 'gini', 'max_depth': 20, 'min_samples_split': 2, 'n_estimators': 50}\n",
            "Akurasi Model Terbaik: 81.6%\n",
            "Confusion Matrix:\n",
            " [[40  1  1  0]\n",
            " [ 5 43  3  7]\n",
            " [ 0  3 25  2]\n",
            " [ 0  5  3 25]]\n",
            "Precision: 0.8159329918848144\n",
            "Recall: 0.8159509202453987\n",
            "F1 Score: 0.8146414617138988\n"
          ]
        }
      ]
    },
    {
      "cell_type": "markdown",
      "source": [
        "**XGBoost**\n",
        "---\n",
        "---"
      ],
      "metadata": {
        "id": "t8V0o_4pbTQJ"
      }
    },
    {
      "cell_type": "markdown",
      "source": [
        "Helsa Sriprameswari Putri - 5025221154"
      ],
      "metadata": {
        "id": "G-mR2qJRuZty"
      }
    },
    {
      "cell_type": "code",
      "source": [
        "from xgboost import XGBClassifier\n",
        "from sklearn.model_selection import GridSearchCV\n",
        "from sklearn.metrics import accuracy_score, precision_score, recall_score, f1_score, confusion_matrix\n",
        "\n",
        "param_grid = {\n",
        "    'max_depth': [3, 6, 9, 11],\n",
        "    'learning_rate': [0.01, 0.1, 0.2],\n",
        "    'n_estimators': [100, 150, 200],\n",
        "    'subsample': [0.8, 1],\n",
        "    'colsample_bytree': [0.8, 1]\n",
        "}\n",
        "\n",
        "xgb = XGBClassifier(use_label_encoder=False, eval_metric='mlogloss', random_state=42)\n",
        "\n",
        "grid_search = GridSearchCV(estimator=xgb, param_grid=param_grid, cv=5, scoring='accuracy', n_jobs=-1, verbose=1)\n",
        "grid_search.fit(X_train, y_train)\n",
        "\n",
        "best_xgb = grid_search.best_estimator_\n",
        "best_params = grid_search.best_params_\n",
        "\n",
        "y_pred_xgb = best_xgb.predict(X_test)\n",
        "\n",
        "xgb_accuracy = round(accuracy_score(y_test, y_pred_xgb), 4) * 100\n",
        "print(f\"Parameter Terbaik: {best_params}\")\n",
        "print(f\"Akurasi Model Terbaik: {xgb_accuracy}%\")\n",
        "\n",
        "print(\"Confusion Matrix:\\n\", confusion_matrix(y_test, y_pred_xgb))\n",
        "print(\"Precision:\", precision_score(y_test, y_pred_xgb, average='weighted'))\n",
        "print(\"Recall:\", recall_score(y_test, y_pred_xgb, average='weighted'))\n",
        "print(\"F1 Score:\", f1_score(y_test, y_pred_xgb, average='weighted'))"
      ],
      "metadata": {
        "id": "jtNJmBH4bNx7",
        "colab": {
          "base_uri": "https://localhost:8080/"
        },
        "outputId": "715ae57f-24cc-4213-e570-37287d3010a8"
      },
      "execution_count": 35,
      "outputs": [
        {
          "output_type": "stream",
          "name": "stdout",
          "text": [
            "Fitting 5 folds for each of 144 candidates, totalling 720 fits\n",
            "Parameter Terbaik: {'colsample_bytree': 1, 'learning_rate': 0.2, 'max_depth': 6, 'n_estimators': 100, 'subsample': 0.8}\n",
            "Akurasi Model Terbaik: 82.21000000000001%\n",
            "Confusion Matrix:\n",
            " [[40  1  1  0]\n",
            " [ 5 43  3  7]\n",
            " [ 0  2 26  2]\n",
            " [ 0  4  4 25]]\n",
            "Precision: 0.8246577649464695\n",
            "Recall: 0.8220858895705522\n",
            "F1 Score: 0.8209063835091986\n"
          ]
        },
        {
          "output_type": "stream",
          "name": "stderr",
          "text": [
            "/usr/local/lib/python3.11/dist-packages/xgboost/core.py:158: UserWarning: [16:46:35] WARNING: /workspace/src/learner.cc:740: \n",
            "Parameters: { \"use_label_encoder\" } are not used.\n",
            "\n",
            "  warnings.warn(smsg, UserWarning)\n"
          ]
        }
      ]
    },
    {
      "cell_type": "markdown",
      "source": [
        "**SVM (*Support Vector Machine*)**\n",
        "---\n",
        "---"
      ],
      "metadata": {
        "id": "8QX6t5n6Rc4s"
      }
    },
    {
      "cell_type": "code",
      "source": [
        "from sklearn.svm import SVC\n",
        "from sklearn.model_selection import GridSearchCV\n",
        "from sklearn.metrics import accuracy_score, precision_score, recall_score, f1_score, classification_report, confusion_matrix\n",
        "import matplotlib.pyplot as plt\n",
        "import seaborn as sns\n",
        "\n",
        "# Definisi parameter grid untuk SVM\n",
        "param_grid = {\n",
        "    'C': [0.1, 1, 10],\n",
        "    'kernel': ['linear', 'rbf', 'poly'],\n",
        "    'gamma': ['scale', 'auto']\n",
        "}\n",
        "\n",
        "# Inisialisasi model\n",
        "svm = SVC(random_state=42)\n",
        "\n",
        "# GridSearchCV\n",
        "grid_search = GridSearchCV(estimator=svm, param_grid=param_grid, cv=5, scoring='accuracy', n_jobs=-1, verbose=1)\n",
        "grid_search.fit(X_train, y_train)\n",
        "\n",
        "# Ambil model terbaik\n",
        "best_svm = grid_search.best_estimator_\n",
        "y_pred_svm_tuned = best_svm.predict(X_test)\n",
        "\n",
        "# Evaluasi\n",
        "svm_accuracy = round(accuracy_score(y_test, y_pred_svm_tuned), 4) * 100\n",
        "print(f\"Parameter Terbaik: {grid_search.best_params_}\")\n",
        "print(f\"Akurasi Model Terbaik: {svm_accuracy}%\")\n",
        "print(\"Confusion Matrix:\\n\", confusion_matrix(y_test, y_pred_svm_tuned))\n",
        "print(\"Precision:\", precision_score(y_test, y_pred_svm_tuned, average='weighted'))\n",
        "print(\"Recall:\", recall_score(y_test, y_pred_svm_tuned, average='weighted'))\n",
        "print(\"F1 Score:\", f1_score(y_test, y_pred_svm_tuned, average='weighted'))\n",
        "\n",
        "# Visualisasi confusion matrix\n",
        "plt.figure(figsize=(10, 7))\n",
        "sns.heatmap(confusion_matrix(y_test, y_pred_svm_tuned), annot=True, fmt='d', cmap='Greens')\n",
        "plt.xlabel('Predicted')\n",
        "plt.ylabel('Actual')\n",
        "plt.title('Confusion Matrix - SVM (Tuned)')\n",
        "plt.show()\n"
      ],
      "metadata": {
        "id": "08VVBM1DRdm2",
        "colab": {
          "base_uri": "https://localhost:8080/",
          "height": 828
        },
        "outputId": "b47d466a-9232-419a-a33e-b69eb90a13d1"
      },
      "execution_count": 36,
      "outputs": [
        {
          "output_type": "stream",
          "name": "stdout",
          "text": [
            "Fitting 5 folds for each of 18 candidates, totalling 90 fits\n",
            "Parameter Terbaik: {'C': 10, 'gamma': 'auto', 'kernel': 'rbf'}\n",
            "Akurasi Model Terbaik: 66.25999999999999%\n",
            "Confusion Matrix:\n",
            " [[41  0  1  0]\n",
            " [11 39  0  8]\n",
            " [ 0 17  2 11]\n",
            " [ 0  7  0 26]]\n",
            "Precision: 0.663109283354682\n",
            "Recall: 0.6625766871165644\n",
            "F1 Score: 0.6114300077347864\n"
          ]
        },
        {
          "output_type": "display_data",
          "data": {
            "text/plain": [
              "<Figure size 1000x700 with 2 Axes>"
            ],
            "image/png": "[encoded data removed]"
          },
          "metadata": {}
        }
      ]
    },
    {
      "cell_type": "markdown",
      "source": [
        "---\n",
        "#**Model Acuracy after parameter Tuning**\n",
        "---"
      ],
      "metadata": {
        "id": "QzFEg9SbJuZc"
      }
    },
    {
      "cell_type": "code",
      "source": [
        "import matplotlib.cm as cm\n",
        "model_names = ['Decision Tree', 'KNN', 'Random Forest', 'XGBoost', 'SVM']\n",
        "model_accuracies = [dt_accuracy, knn_accuracy, rf_accuracy, xgb_accuracy, svm_accuracy]\n",
        "\n",
        "sorted_models = sorted(zip(model_names, model_accuracies), key=lambda x: x[1], reverse=True)\n",
        "model_names_sorted, model_accuracies_sorted = zip(*sorted_models)\n",
        "\n",
        "acc_array = np.array(model_accuracies_sorted)\n",
        "normalized = (acc_array - 50) / 50\n",
        "normalized = np.clip(normalized, 0, 1)\n",
        "\n",
        "colors = cm.RdYlGn(normalized)\n",
        "\n",
        "plt.figure(figsize=(10, 6))\n",
        "bars = plt.bar(model_names_sorted, model_accuracies_sorted, color=colors, edgecolor='black')\n",
        "\n",
        "for bar in bars:\n",
        "    height = bar.get_height()\n",
        "    plt.text(bar.get_x() + bar.get_width()/2, height + 0.5, f'{height:.2f}%', ha='center', fontsize=10)\n",
        "\n",
        "plt.title('Akurasi Model Setelah Parameter Tuning', fontsize=14)\n",
        "plt.xlabel('Model', fontsize=12)\n",
        "plt.ylabel('Akurasi (%)', fontsize=12)\n",
        "plt.ylim(0, 110)\n",
        "plt.grid(axis='y', linestyle='--', alpha=0.7)\n",
        "plt.tight_layout()\n",
        "plt.show()\n"
      ],
      "metadata": {
        "id": "0nKRgQvsbwxf",
        "colab": {
          "base_uri": "https://localhost:8080/",
          "height": 544
        },
        "outputId": "8cd743b1-2ef1-4ce0-8032-b7f06dcc859a"
      },
      "execution_count": 38,
      "outputs": [
        {
          "output_type": "display_data",
          "data": {
            "text/plain": [
              "<Figure size 1000x600 with 1 Axes>"
            ],
            "image/png": "[encoded data removed]"
          },
          "metadata": {}
        }
      ]
    }
  ]
}