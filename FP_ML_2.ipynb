{
  "nbformat": 4,
  "nbformat_minor": 0,
  "metadata": {
    "colab": {
      "provenance": []
    },
    "kernelspec": {
      "name": "python3",
      "display_name": "Python 3"
    },
    "language_info": {
      "name": "python"
    }
  },
  "cells": [
    {
      "cell_type": "markdown",
      "source": [
        "Tujuan : Mengklasifikasikan minuman berdasarkan skor Nutri-Score. Nutri-Score adalah sistem label nutrisi yang mengklasifikasikan minuman dari A (terbaik) ke E (terburuk) berdasarkan nilai nutrisi per 100 ml, seperti kandungan energi, lemak, gula, garam, serat, dan protein.\n"
      ],
      "metadata": {
        "id": "fyEoHykimXWa"
      }
    },
    {
      "cell_type": "markdown",
      "source": [
        "**Dataset**\n",
        "---"
      ],
      "metadata": {
        "id": "Y-y7WmiEPrLf"
      }
    },
    {
      "cell_type": "markdown",
      "source": [
        "Pengumpulan data berdasarkan scraping dari situs Open Food Facts\n",
        "\n"
      ],
      "metadata": {
        "id": "trx6ALU7Tsvp"
      }
    },
    {
      "cell_type": "code",
      "source": [
        "import pandas as pd\n",
        "\n",
        "url = \"https://raw.githubusercontent.com/nabhylanr/ML-NutriScore/main/minuman.csv\"\n",
        "df = pd.read_csv(url)\n",
        "\n",
        "df.head()"
      ],
      "metadata": {
        "colab": {
          "base_uri": "https://localhost:8080/",
          "height": 292
        },
        "id": "NnIFAukDPQm9",
        "outputId": "b212e0d5-6707-4da0-f28d-8e11e46e3df6"
      },
      "execution_count": 427,
      "outputs": [
        {
          "output_type": "execute_result",
          "data": {
            "text/plain": [
              "       Kategori           Nama_minuman Nutri_Score  Energy (Per 100 ml)  \\\n",
              "0  fruit-juices            Cappy pulpy           e                155.0   \n",
              "1  fruit-juices                PRESSup           c                226.0   \n",
              "2  fruit-juices               Press up           c                226.0   \n",
              "3  fruit-juices  Shot de gingembre bio           c                142.0   \n",
              "4  fruit-juices                  Jutos           d                 66.8   \n",
              "\n",
              "   Fat (Per 100 ml)  Saturated fat (Per 100 ml)  Carbohydrates (Per 100 ml)  \\\n",
              "0               0.0                         0.0                         9.0   \n",
              "1               0.1                         0.0                        13.0   \n",
              "2               0.1                         0.0                        13.0   \n",
              "3               0.5                         0.1                         7.9   \n",
              "4               0.0                         0.0                        10.0   \n",
              "\n",
              "   Sugars (Per 100 ml)  Fiber (Per 100 ml)  Proteins (Per 100 ml)  \\\n",
              "0                  7.0                 NaN                    0.0   \n",
              "1                  5.5                 0.1                    0.4   \n",
              "2                  5.5                 0.1                    0.4   \n",
              "3                  7.6                 0.0                    0.5   \n",
              "4                  8.0                 0.0                    0.0   \n",
              "\n",
              "   Salt (Per 100 ml)  \n",
              "0           0.050000  \n",
              "1           0.000003  \n",
              "2           0.002500  \n",
              "3           0.010000  \n",
              "4           0.050000  "
            ],
            "text/html": [
              "\n",
              "  <div id=\"df-f143f60e-de90-4b11-8154-0a8b49126b74\" class=\"colab-df-container\">\n",
              "    <div>\n",
              "<style scoped>\n",
              "    .dataframe tbody tr th:only-of-type {\n",
              "        vertical-align: middle;\n",
              "    }\n",
              "\n",
              "    .dataframe tbody tr th {\n",
              "        vertical-align: top;\n",
              "    }\n",
              "\n",
              "    .dataframe thead th {\n",
              "        text-align: right;\n",
              "    }\n",
              "</style>\n",
              "<table border=\"1\" class=\"dataframe\">\n",
              "  <thead>\n",
              "    <tr style=\"text-align: right;\">\n",
              "      <th></th>\n",
              "      <th>Kategori</th>\n",
              "      <th>Nama_minuman</th>\n",
              "      <th>Nutri_Score</th>\n",
              "      <th>Energy (Per 100 ml)</th>\n",
              "      <th>Fat (Per 100 ml)</th>\n",
              "      <th>Saturated fat (Per 100 ml)</th>\n",
              "      <th>Carbohydrates (Per 100 ml)</th>\n",
              "      <th>Sugars (Per 100 ml)</th>\n",
              "      <th>Fiber (Per 100 ml)</th>\n",
              "      <th>Proteins (Per 100 ml)</th>\n",
              "      <th>Salt (Per 100 ml)</th>\n",
              "    </tr>\n",
              "  </thead>\n",
              "  <tbody>\n",
              "    <tr>\n",
              "      <th>0</th>\n",
              "      <td>fruit-juices</td>\n",
              "      <td>Cappy pulpy</td>\n",
              "      <td>e</td>\n",
              "      <td>155.0</td>\n",
              "      <td>0.0</td>\n",
              "      <td>0.0</td>\n",
              "      <td>9.0</td>\n",
              "      <td>7.0</td>\n",
              "      <td>NaN</td>\n",
              "      <td>0.0</td>\n",
              "      <td>0.050000</td>\n",
              "    </tr>\n",
              "    <tr>\n",
              "      <th>1</th>\n",
              "      <td>fruit-juices</td>\n",
              "      <td>PRESSup</td>\n",
              "      <td>c</td>\n",
              "      <td>226.0</td>\n",
              "      <td>0.1</td>\n",
              "      <td>0.0</td>\n",
              "      <td>13.0</td>\n",
              "      <td>5.5</td>\n",
              "      <td>0.1</td>\n",
              "      <td>0.4</td>\n",
              "      <td>0.000003</td>\n",
              "    </tr>\n",
              "    <tr>\n",
              "      <th>2</th>\n",
              "      <td>fruit-juices</td>\n",
              "      <td>Press up</td>\n",
              "      <td>c</td>\n",
              "      <td>226.0</td>\n",
              "      <td>0.1</td>\n",
              "      <td>0.0</td>\n",
              "      <td>13.0</td>\n",
              "      <td>5.5</td>\n",
              "      <td>0.1</td>\n",
              "      <td>0.4</td>\n",
              "      <td>0.002500</td>\n",
              "    </tr>\n",
              "    <tr>\n",
              "      <th>3</th>\n",
              "      <td>fruit-juices</td>\n",
              "      <td>Shot de gingembre bio</td>\n",
              "      <td>c</td>\n",
              "      <td>142.0</td>\n",
              "      <td>0.5</td>\n",
              "      <td>0.1</td>\n",
              "      <td>7.9</td>\n",
              "      <td>7.6</td>\n",
              "      <td>0.0</td>\n",
              "      <td>0.5</td>\n",
              "      <td>0.010000</td>\n",
              "    </tr>\n",
              "    <tr>\n",
              "      <th>4</th>\n",
              "      <td>fruit-juices</td>\n",
              "      <td>Jutos</td>\n",
              "      <td>d</td>\n",
              "      <td>66.8</td>\n",
              "      <td>0.0</td>\n",
              "      <td>0.0</td>\n",
              "      <td>10.0</td>\n",
              "      <td>8.0</td>\n",
              "      <td>0.0</td>\n",
              "      <td>0.0</td>\n",
              "      <td>0.050000</td>\n",
              "    </tr>\n",
              "  </tbody>\n",
              "</table>\n",
              "</div>\n",
              "    <div class=\"colab-df-buttons\">\n",
              "\n",
              "  <div class=\"colab-df-container\">\n",
              "    <button class=\"colab-df-convert\" onclick=\"convertToInteractive('df-f143f60e-de90-4b11-8154-0a8b49126b74')\"\n",
              "            title=\"Convert this dataframe to an interactive table.\"\n",
              "            style=\"display:none;\">\n",
              "\n",
              "  <svg xmlns=\"http://www.w3.org/2000/svg\" height=\"24px\" viewBox=\"0 -960 960 960\">\n",
              "    <path d=\"M120-120v-720h720v720H120Zm60-500h600v-160H180v160Zm220 220h160v-160H400v160Zm0 220h160v-160H400v160ZM180-400h160v-160H180v160Zm440 0h160v-160H620v160ZM180-180h160v-160H180v160Zm440 0h160v-160H620v160Z\"/>\n",
              "  </svg>\n",
              "    </button>\n",
              "\n",
              "  <style>\n",
              "    .colab-df-container {\n",
              "      display:flex;\n",
              "      gap: 12px;\n",
              "    }\n",
              "\n",
              "    .colab-df-convert {\n",
              "      background-color: #E8F0FE;\n",
              "      border: none;\n",
              "      border-radius: 50%;\n",
              "      cursor: pointer;\n",
              "      display: none;\n",
              "      fill: #1967D2;\n",
              "      height: 32px;\n",
              "      padding: 0 0 0 0;\n",
              "      width: 32px;\n",
              "    }\n",
              "\n",
              "    .colab-df-convert:hover {\n",
              "      background-color: #E2EBFA;\n",
              "      box-shadow: 0px 1px 2px rgba(60, 64, 67, 0.3), 0px 1px 3px 1px rgba(60, 64, 67, 0.15);\n",
              "      fill: #174EA6;\n",
              "    }\n",
              "\n",
              "    .colab-df-buttons div {\n",
              "      margin-bottom: 4px;\n",
              "    }\n",
              "\n",
              "    [theme=dark] .colab-df-convert {\n",
              "      background-color: #3B4455;\n",
              "      fill: #D2E3FC;\n",
              "    }\n",
              "\n",
              "    [theme=dark] .colab-df-convert:hover {\n",
              "      background-color: #434B5C;\n",
              "      box-shadow: 0px 1px 3px 1px rgba(0, 0, 0, 0.15);\n",
              "      filter: drop-shadow(0px 1px 2px rgba(0, 0, 0, 0.3));\n",
              "      fill: #FFFFFF;\n",
              "    }\n",
              "  </style>\n",
              "\n",
              "    <script>\n",
              "      const buttonEl =\n",
              "        document.querySelector('#df-f143f60e-de90-4b11-8154-0a8b49126b74 button.colab-df-convert');\n",
              "      buttonEl.style.display =\n",
              "        google.colab.kernel.accessAllowed ? 'block' : 'none';\n",
              "\n",
              "      async function convertToInteractive(key) {\n",
              "        const element = document.querySelector('#df-f143f60e-de90-4b11-8154-0a8b49126b74');\n",
              "        const dataTable =\n",
              "          await google.colab.kernel.invokeFunction('convertToInteractive',\n",
              "                                                    [key], {});\n",
              "        if (!dataTable) return;\n",
              "\n",
              "        const docLinkHtml = 'Like what you see? Visit the ' +\n",
              "          '<a target=\"_blank\" href=https://colab.research.google.com/notebooks/data_table.ipynb>data table notebook</a>'\n",
              "          + ' to learn more about interactive tables.';\n",
              "        element.innerHTML = '';\n",
              "        dataTable['output_type'] = 'display_data';\n",
              "        await google.colab.output.renderOutput(dataTable, element);\n",
              "        const docLink = document.createElement('div');\n",
              "        docLink.innerHTML = docLinkHtml;\n",
              "        element.appendChild(docLink);\n",
              "      }\n",
              "    </script>\n",
              "  </div>\n",
              "\n",
              "\n",
              "    <div id=\"df-fa6c8f9a-7c27-4183-a5ba-4c0a8347c6ec\">\n",
              "      <button class=\"colab-df-quickchart\" onclick=\"quickchart('df-fa6c8f9a-7c27-4183-a5ba-4c0a8347c6ec')\"\n",
              "                title=\"Suggest charts\"\n",
              "                style=\"display:none;\">\n",
              "\n",
              "<svg xmlns=\"http://www.w3.org/2000/svg\" height=\"24px\"viewBox=\"0 0 24 24\"\n",
              "     width=\"24px\">\n",
              "    <g>\n",
              "        <path d=\"M19 3H5c-1.1 0-2 .9-2 2v14c0 1.1.9 2 2 2h14c1.1 0 2-.9 2-2V5c0-1.1-.9-2-2-2zM9 17H7v-7h2v7zm4 0h-2V7h2v10zm4 0h-2v-4h2v4z\"/>\n",
              "    </g>\n",
              "</svg>\n",
              "      </button>\n",
              "\n",
              "<style>\n",
              "  .colab-df-quickchart {\n",
              "      --bg-color: #E8F0FE;\n",
              "      --fill-color: #1967D2;\n",
              "      --hover-bg-color: #E2EBFA;\n",
              "      --hover-fill-color: #174EA6;\n",
              "      --disabled-fill-color: #AAA;\n",
              "      --disabled-bg-color: #DDD;\n",
              "  }\n",
              "\n",
              "  [theme=dark] .colab-df-quickchart {\n",
              "      --bg-color: #3B4455;\n",
              "      --fill-color: #D2E3FC;\n",
              "      --hover-bg-color: #434B5C;\n",
              "      --hover-fill-color: #FFFFFF;\n",
              "      --disabled-bg-color: #3B4455;\n",
              "      --disabled-fill-color: #666;\n",
              "  }\n",
              "\n",
              "  .colab-df-quickchart {\n",
              "    background-color: var(--bg-color);\n",
              "    border: none;\n",
              "    border-radius: 50%;\n",
              "    cursor: pointer;\n",
              "    display: none;\n",
              "    fill: var(--fill-color);\n",
              "    height: 32px;\n",
              "    padding: 0;\n",
              "    width: 32px;\n",
              "  }\n",
              "\n",
              "  .colab-df-quickchart:hover {\n",
              "    background-color: var(--hover-bg-color);\n",
              "    box-shadow: 0 1px 2px rgba(60, 64, 67, 0.3), 0 1px 3px 1px rgba(60, 64, 67, 0.15);\n",
              "    fill: var(--button-hover-fill-color);\n",
              "  }\n",
              "\n",
              "  .colab-df-quickchart-complete:disabled,\n",
              "  .colab-df-quickchart-complete:disabled:hover {\n",
              "    background-color: var(--disabled-bg-color);\n",
              "    fill: var(--disabled-fill-color);\n",
              "    box-shadow: none;\n",
              "  }\n",
              "\n",
              "  .colab-df-spinner {\n",
              "    border: 2px solid var(--fill-color);\n",
              "    border-color: transparent;\n",
              "    border-bottom-color: var(--fill-color);\n",
              "    animation:\n",
              "      spin 1s steps(1) infinite;\n",
              "  }\n",
              "\n",
              "  @keyframes spin {\n",
              "    0% {\n",
              "      border-color: transparent;\n",
              "      border-bottom-color: var(--fill-color);\n",
              "      border-left-color: var(--fill-color);\n",
              "    }\n",
              "    20% {\n",
              "      border-color: transparent;\n",
              "      border-left-color: var(--fill-color);\n",
              "      border-top-color: var(--fill-color);\n",
              "    }\n",
              "    30% {\n",
              "      border-color: transparent;\n",
              "      border-left-color: var(--fill-color);\n",
              "      border-top-color: var(--fill-color);\n",
              "      border-right-color: var(--fill-color);\n",
              "    }\n",
              "    40% {\n",
              "      border-color: transparent;\n",
              "      border-right-color: var(--fill-color);\n",
              "      border-top-color: var(--fill-color);\n",
              "    }\n",
              "    60% {\n",
              "      border-color: transparent;\n",
              "      border-right-color: var(--fill-color);\n",
              "    }\n",
              "    80% {\n",
              "      border-color: transparent;\n",
              "      border-right-color: var(--fill-color);\n",
              "      border-bottom-color: var(--fill-color);\n",
              "    }\n",
              "    90% {\n",
              "      border-color: transparent;\n",
              "      border-bottom-color: var(--fill-color);\n",
              "    }\n",
              "  }\n",
              "</style>\n",
              "\n",
              "      <script>\n",
              "        async function quickchart(key) {\n",
              "          const quickchartButtonEl =\n",
              "            document.querySelector('#' + key + ' button');\n",
              "          quickchartButtonEl.disabled = true;  // To prevent multiple clicks.\n",
              "          quickchartButtonEl.classList.add('colab-df-spinner');\n",
              "          try {\n",
              "            const charts = await google.colab.kernel.invokeFunction(\n",
              "                'suggestCharts', [key], {});\n",
              "          } catch (error) {\n",
              "            console.error('Error during call to suggestCharts:', error);\n",
              "          }\n",
              "          quickchartButtonEl.classList.remove('colab-df-spinner');\n",
              "          quickchartButtonEl.classList.add('colab-df-quickchart-complete');\n",
              "        }\n",
              "        (() => {\n",
              "          let quickchartButtonEl =\n",
              "            document.querySelector('#df-fa6c8f9a-7c27-4183-a5ba-4c0a8347c6ec button');\n",
              "          quickchartButtonEl.style.display =\n",
              "            google.colab.kernel.accessAllowed ? 'block' : 'none';\n",
              "        })();\n",
              "      </script>\n",
              "    </div>\n",
              "\n",
              "    </div>\n",
              "  </div>\n"
            ],
            "application/vnd.google.colaboratory.intrinsic+json": {
              "type": "dataframe",
              "variable_name": "df",
              "summary": "{\n  \"name\": \"df\",\n  \"rows\": 811,\n  \"fields\": [\n    {\n      \"column\": \"Kategori\",\n      \"properties\": {\n        \"dtype\": \"category\",\n        \"num_unique_values\": 10,\n        \"samples\": [\n          \"fermented-drinks\",\n          \"energy-drinks\",\n          \"iced-teas\"\n        ],\n        \"semantic_type\": \"\",\n        \"description\": \"\"\n      }\n    },\n    {\n      \"column\": \"Nama_minuman\",\n      \"properties\": {\n        \"dtype\": \"string\",\n        \"num_unique_values\": 642,\n        \"samples\": [\n          \"Red Bull Original\",\n          \"Organic Oat drink\",\n          \"CRISTALINE Eau de Source au jus de fruitsTROPICAL 1.5L\"\n        ],\n        \"semantic_type\": \"\",\n        \"description\": \"\"\n      }\n    },\n    {\n      \"column\": \"Nutri_Score\",\n      \"properties\": {\n        \"dtype\": \"category\",\n        \"num_unique_values\": 4,\n        \"samples\": [\n          \"c\",\n          \"b\",\n          \"e\"\n        ],\n        \"semantic_type\": \"\",\n        \"description\": \"\"\n      }\n    },\n    {\n      \"column\": \"Energy (Per 100 ml)\",\n      \"properties\": {\n        \"dtype\": \"number\",\n        \"std\": 196.42581215793587,\n        \"min\": 0.0,\n        \"max\": 1833.0,\n        \"num_unique_values\": 253,\n        \"samples\": [\n          398.0,\n          157.0,\n          57.0\n        ],\n        \"semantic_type\": \"\",\n        \"description\": \"\"\n      }\n    },\n    {\n      \"column\": \"Fat (Per 100 ml)\",\n      \"properties\": {\n        \"dtype\": \"number\",\n        \"std\": 3.088349192255005,\n        \"min\": 0.0,\n        \"max\": 25.0,\n        \"num_unique_values\": 80,\n        \"samples\": [\n          4.0,\n          0.0,\n          1.2\n        ],\n        \"semantic_type\": \"\",\n        \"description\": \"\"\n      }\n    },\n    {\n      \"column\": \"Saturated fat (Per 100 ml)\",\n      \"properties\": {\n        \"dtype\": \"number\",\n        \"std\": 2.6755427398402207,\n        \"min\": 0.0,\n        \"max\": 24.0,\n        \"num_unique_values\": 62,\n        \"samples\": [\n          2.5,\n          0.04,\n          0.0\n        ],\n        \"semantic_type\": \"\",\n        \"description\": \"\"\n      }\n    },\n    {\n      \"column\": \"Carbohydrates (Per 100 ml)\",\n      \"properties\": {\n        \"dtype\": \"number\",\n        \"std\": 8.052699285127984,\n        \"min\": 0.0,\n        \"max\": 83.0,\n        \"num_unique_values\": 158,\n        \"samples\": [\n          3.52,\n          0.1,\n          7.3\n        ],\n        \"semantic_type\": \"\",\n        \"description\": \"\"\n      }\n    },\n    {\n      \"column\": \"Sugars (Per 100 ml)\",\n      \"properties\": {\n        \"dtype\": \"number\",\n        \"std\": 5.686566547176109,\n        \"min\": 0.0,\n        \"max\": 72.0,\n        \"num_unique_values\": 146,\n        \"samples\": [\n          8.4,\n          72.0,\n          4.2\n        ],\n        \"semantic_type\": \"\",\n        \"description\": \"\"\n      }\n    },\n    {\n      \"column\": \"Fiber (Per 100 ml)\",\n      \"properties\": {\n        \"dtype\": \"number\",\n        \"std\": 270610348951.93005,\n        \"min\": 0.0,\n        \"max\": 6111242106933.0,\n        \"num_unique_values\": 48,\n        \"samples\": [\n          8.0,\n          0.96,\n          45.3\n        ],\n        \"semantic_type\": \"\",\n        \"description\": \"\"\n      }\n    },\n    {\n      \"column\": \"Proteins (Per 100 ml)\",\n      \"properties\": {\n        \"dtype\": \"number\",\n        \"std\": 1.7108516915715464,\n        \"min\": 0.0,\n        \"max\": 17.4,\n        \"num_unique_values\": 85,\n        \"samples\": [\n          0.667,\n          0.0,\n          8.0\n        ],\n        \"semantic_type\": \"\",\n        \"description\": \"\"\n      }\n    },\n    {\n      \"column\": \"Salt (Per 100 ml)\",\n      \"properties\": {\n        \"dtype\": \"number\",\n        \"std\": 0.8436519103789842,\n        \"min\": 0.0,\n        \"max\": 20.0,\n        \"num_unique_values\": 106,\n        \"samples\": [\n          0.008,\n          0.1,\n          0.0\n        ],\n        \"semantic_type\": \"\",\n        \"description\": \"\"\n      }\n    }\n  ]\n}"
            }
          },
          "metadata": {},
          "execution_count": 427
        }
      ]
    },
    {
      "cell_type": "code",
      "source": [
        "df.info()"
      ],
      "metadata": {
        "id": "BGs1q8F8WcIf",
        "colab": {
          "base_uri": "https://localhost:8080/"
        },
        "outputId": "69201492-6541-4231-aee5-2d5face58da4"
      },
      "execution_count": 428,
      "outputs": [
        {
          "output_type": "stream",
          "name": "stdout",
          "text": [
            "<class 'pandas.core.frame.DataFrame'>\n",
            "RangeIndex: 811 entries, 0 to 810\n",
            "Data columns (total 11 columns):\n",
            " #   Column                      Non-Null Count  Dtype  \n",
            "---  ------                      --------------  -----  \n",
            " 0   Kategori                    811 non-null    object \n",
            " 1   Nama_minuman                800 non-null    object \n",
            " 2   Nutri_Score                 811 non-null    object \n",
            " 3   Energy (Per 100 ml)         811 non-null    float64\n",
            " 4   Fat (Per 100 ml)            811 non-null    float64\n",
            " 5   Saturated fat (Per 100 ml)  776 non-null    float64\n",
            " 6   Carbohydrates (Per 100 ml)  810 non-null    float64\n",
            " 7   Sugars (Per 100 ml)         803 non-null    float64\n",
            " 8   Fiber (Per 100 ml)          510 non-null    float64\n",
            " 9   Proteins (Per 100 ml)       811 non-null    float64\n",
            " 10  Salt (Per 100 ml)           811 non-null    float64\n",
            "dtypes: float64(8), object(3)\n",
            "memory usage: 69.8+ KB\n"
          ]
        }
      ]
    },
    {
      "cell_type": "markdown",
      "source": [
        "**Data Preprocessing**\n",
        "---"
      ],
      "metadata": {
        "id": "Nee6M_aaTLke"
      }
    },
    {
      "cell_type": "markdown",
      "source": [
        "Missing Value\n",
        "---"
      ],
      "metadata": {
        "id": "-qChgdLAV19C"
      }
    },
    {
      "cell_type": "code",
      "source": [
        "misval_cek = {\n",
        "    'Missing Values':df.isnull().sum(),\n",
        "    'Missing Values (%)': ((df.isnull().sum()/df.shape[0]).round(2)*100),\n",
        "    'Data Type': df.dtypes\n",
        "    }\n",
        "\n",
        "misval=pd.DataFrame(misval_cek)\n",
        "misval"
      ],
      "metadata": {
        "colab": {
          "base_uri": "https://localhost:8080/",
          "height": 563
        },
        "id": "v5-jUWw9V4gR",
        "outputId": "52d1d2b5-2e02-48e4-ef70-f589727201de"
      },
      "execution_count": 429,
      "outputs": [
        {
          "output_type": "execute_result",
          "data": {
            "text/plain": [
              "                            Missing Values  Missing Values (%) Data Type\n",
              "Kategori                                 0                 0.0    object\n",
              "Nama_minuman                            11                 1.0    object\n",
              "Nutri_Score                              0                 0.0    object\n",
              "Energy (Per 100 ml)                      0                 0.0   float64\n",
              "Fat (Per 100 ml)                         0                 0.0   float64\n",
              "Saturated fat (Per 100 ml)              35                 4.0   float64\n",
              "Carbohydrates (Per 100 ml)               1                 0.0   float64\n",
              "Sugars (Per 100 ml)                      8                 1.0   float64\n",
              "Fiber (Per 100 ml)                     301                37.0   float64\n",
              "Proteins (Per 100 ml)                    0                 0.0   float64\n",
              "Salt (Per 100 ml)                        0                 0.0   float64"
            ],
            "text/html": [
              "\n",
              "  <div id=\"df-5ad2ea6e-9ca4-4be9-a919-04578d569b64\" class=\"colab-df-container\">\n",
              "    <div>\n",
              "<style scoped>\n",
              "    .dataframe tbody tr th:only-of-type {\n",
              "        vertical-align: middle;\n",
              "    }\n",
              "\n",
              "    .dataframe tbody tr th {\n",
              "        vertical-align: top;\n",
              "    }\n",
              "\n",
              "    .dataframe thead th {\n",
              "        text-align: right;\n",
              "    }\n",
              "</style>\n",
              "<table border=\"1\" class=\"dataframe\">\n",
              "  <thead>\n",
              "    <tr style=\"text-align: right;\">\n",
              "      <th></th>\n",
              "      <th>Missing Values</th>\n",
              "      <th>Missing Values (%)</th>\n",
              "      <th>Data Type</th>\n",
              "    </tr>\n",
              "  </thead>\n",
              "  <tbody>\n",
              "    <tr>\n",
              "      <th>Kategori</th>\n",
              "      <td>0</td>\n",
              "      <td>0.0</td>\n",
              "      <td>object</td>\n",
              "    </tr>\n",
              "    <tr>\n",
              "      <th>Nama_minuman</th>\n",
              "      <td>11</td>\n",
              "      <td>1.0</td>\n",
              "      <td>object</td>\n",
              "    </tr>\n",
              "    <tr>\n",
              "      <th>Nutri_Score</th>\n",
              "      <td>0</td>\n",
              "      <td>0.0</td>\n",
              "      <td>object</td>\n",
              "    </tr>\n",
              "    <tr>\n",
              "      <th>Energy (Per 100 ml)</th>\n",
              "      <td>0</td>\n",
              "      <td>0.0</td>\n",
              "      <td>float64</td>\n",
              "    </tr>\n",
              "    <tr>\n",
              "      <th>Fat (Per 100 ml)</th>\n",
              "      <td>0</td>\n",
              "      <td>0.0</td>\n",
              "      <td>float64</td>\n",
              "    </tr>\n",
              "    <tr>\n",
              "      <th>Saturated fat (Per 100 ml)</th>\n",
              "      <td>35</td>\n",
              "      <td>4.0</td>\n",
              "      <td>float64</td>\n",
              "    </tr>\n",
              "    <tr>\n",
              "      <th>Carbohydrates (Per 100 ml)</th>\n",
              "      <td>1</td>\n",
              "      <td>0.0</td>\n",
              "      <td>float64</td>\n",
              "    </tr>\n",
              "    <tr>\n",
              "      <th>Sugars (Per 100 ml)</th>\n",
              "      <td>8</td>\n",
              "      <td>1.0</td>\n",
              "      <td>float64</td>\n",
              "    </tr>\n",
              "    <tr>\n",
              "      <th>Fiber (Per 100 ml)</th>\n",
              "      <td>301</td>\n",
              "      <td>37.0</td>\n",
              "      <td>float64</td>\n",
              "    </tr>\n",
              "    <tr>\n",
              "      <th>Proteins (Per 100 ml)</th>\n",
              "      <td>0</td>\n",
              "      <td>0.0</td>\n",
              "      <td>float64</td>\n",
              "    </tr>\n",
              "    <tr>\n",
              "      <th>Salt (Per 100 ml)</th>\n",
              "      <td>0</td>\n",
              "      <td>0.0</td>\n",
              "      <td>float64</td>\n",
              "    </tr>\n",
              "  </tbody>\n",
              "</table>\n",
              "</div>\n",
              "    <div class=\"colab-df-buttons\">\n",
              "\n",
              "  <div class=\"colab-df-container\">\n",
              "    <button class=\"colab-df-convert\" onclick=\"convertToInteractive('df-5ad2ea6e-9ca4-4be9-a919-04578d569b64')\"\n",
              "            title=\"Convert this dataframe to an interactive table.\"\n",
              "            style=\"display:none;\">\n",
              "\n",
              "  <svg xmlns=\"http://www.w3.org/2000/svg\" height=\"24px\" viewBox=\"0 -960 960 960\">\n",
              "    <path d=\"M120-120v-720h720v720H120Zm60-500h600v-160H180v160Zm220 220h160v-160H400v160Zm0 220h160v-160H400v160ZM180-400h160v-160H180v160Zm440 0h160v-160H620v160ZM180-180h160v-160H180v160Zm440 0h160v-160H620v160Z\"/>\n",
              "  </svg>\n",
              "    </button>\n",
              "\n",
              "  <style>\n",
              "    .colab-df-container {\n",
              "      display:flex;\n",
              "      gap: 12px;\n",
              "    }\n",
              "\n",
              "    .colab-df-convert {\n",
              "      background-color: #E8F0FE;\n",
              "      border: none;\n",
              "      border-radius: 50%;\n",
              "      cursor: pointer;\n",
              "      display: none;\n",
              "      fill: #1967D2;\n",
              "      height: 32px;\n",
              "      padding: 0 0 0 0;\n",
              "      width: 32px;\n",
              "    }\n",
              "\n",
              "    .colab-df-convert:hover {\n",
              "      background-color: #E2EBFA;\n",
              "      box-shadow: 0px 1px 2px rgba(60, 64, 67, 0.3), 0px 1px 3px 1px rgba(60, 64, 67, 0.15);\n",
              "      fill: #174EA6;\n",
              "    }\n",
              "\n",
              "    .colab-df-buttons div {\n",
              "      margin-bottom: 4px;\n",
              "    }\n",
              "\n",
              "    [theme=dark] .colab-df-convert {\n",
              "      background-color: #3B4455;\n",
              "      fill: #D2E3FC;\n",
              "    }\n",
              "\n",
              "    [theme=dark] .colab-df-convert:hover {\n",
              "      background-color: #434B5C;\n",
              "      box-shadow: 0px 1px 3px 1px rgba(0, 0, 0, 0.15);\n",
              "      filter: drop-shadow(0px 1px 2px rgba(0, 0, 0, 0.3));\n",
              "      fill: #FFFFFF;\n",
              "    }\n",
              "  </style>\n",
              "\n",
              "    <script>\n",
              "      const buttonEl =\n",
              "        document.querySelector('#df-5ad2ea6e-9ca4-4be9-a919-04578d569b64 button.colab-df-convert');\n",
              "      buttonEl.style.display =\n",
              "        google.colab.kernel.accessAllowed ? 'block' : 'none';\n",
              "\n",
              "      async function convertToInteractive(key) {\n",
              "        const element = document.querySelector('#df-5ad2ea6e-9ca4-4be9-a919-04578d569b64');\n",
              "        const dataTable =\n",
              "          await google.colab.kernel.invokeFunction('convertToInteractive',\n",
              "                                                    [key], {});\n",
              "        if (!dataTable) return;\n",
              "\n",
              "        const docLinkHtml = 'Like what you see? Visit the ' +\n",
              "          '<a target=\"_blank\" href=https://colab.research.google.com/notebooks/data_table.ipynb>data table notebook</a>'\n",
              "          + ' to learn more about interactive tables.';\n",
              "        element.innerHTML = '';\n",
              "        dataTable['output_type'] = 'display_data';\n",
              "        await google.colab.output.renderOutput(dataTable, element);\n",
              "        const docLink = document.createElement('div');\n",
              "        docLink.innerHTML = docLinkHtml;\n",
              "        element.appendChild(docLink);\n",
              "      }\n",
              "    </script>\n",
              "  </div>\n",
              "\n",
              "\n",
              "    <div id=\"df-c0b3051d-0dfe-48eb-b9c9-8fe1c5de7271\">\n",
              "      <button class=\"colab-df-quickchart\" onclick=\"quickchart('df-c0b3051d-0dfe-48eb-b9c9-8fe1c5de7271')\"\n",
              "                title=\"Suggest charts\"\n",
              "                style=\"display:none;\">\n",
              "\n",
              "<svg xmlns=\"http://www.w3.org/2000/svg\" height=\"24px\"viewBox=\"0 0 24 24\"\n",
              "     width=\"24px\">\n",
              "    <g>\n",
              "        <path d=\"M19 3H5c-1.1 0-2 .9-2 2v14c0 1.1.9 2 2 2h14c1.1 0 2-.9 2-2V5c0-1.1-.9-2-2-2zM9 17H7v-7h2v7zm4 0h-2V7h2v10zm4 0h-2v-4h2v4z\"/>\n",
              "    </g>\n",
              "</svg>\n",
              "      </button>\n",
              "\n",
              "<style>\n",
              "  .colab-df-quickchart {\n",
              "      --bg-color: #E8F0FE;\n",
              "      --fill-color: #1967D2;\n",
              "      --hover-bg-color: #E2EBFA;\n",
              "      --hover-fill-color: #174EA6;\n",
              "      --disabled-fill-color: #AAA;\n",
              "      --disabled-bg-color: #DDD;\n",
              "  }\n",
              "\n",
              "  [theme=dark] .colab-df-quickchart {\n",
              "      --bg-color: #3B4455;\n",
              "      --fill-color: #D2E3FC;\n",
              "      --hover-bg-color: #434B5C;\n",
              "      --hover-fill-color: #FFFFFF;\n",
              "      --disabled-bg-color: #3B4455;\n",
              "      --disabled-fill-color: #666;\n",
              "  }\n",
              "\n",
              "  .colab-df-quickchart {\n",
              "    background-color: var(--bg-color);\n",
              "    border: none;\n",
              "    border-radius: 50%;\n",
              "    cursor: pointer;\n",
              "    display: none;\n",
              "    fill: var(--fill-color);\n",
              "    height: 32px;\n",
              "    padding: 0;\n",
              "    width: 32px;\n",
              "  }\n",
              "\n",
              "  .colab-df-quickchart:hover {\n",
              "    background-color: var(--hover-bg-color);\n",
              "    box-shadow: 0 1px 2px rgba(60, 64, 67, 0.3), 0 1px 3px 1px rgba(60, 64, 67, 0.15);\n",
              "    fill: var(--button-hover-fill-color);\n",
              "  }\n",
              "\n",
              "  .colab-df-quickchart-complete:disabled,\n",
              "  .colab-df-quickchart-complete:disabled:hover {\n",
              "    background-color: var(--disabled-bg-color);\n",
              "    fill: var(--disabled-fill-color);\n",
              "    box-shadow: none;\n",
              "  }\n",
              "\n",
              "  .colab-df-spinner {\n",
              "    border: 2px solid var(--fill-color);\n",
              "    border-color: transparent;\n",
              "    border-bottom-color: var(--fill-color);\n",
              "    animation:\n",
              "      spin 1s steps(1) infinite;\n",
              "  }\n",
              "\n",
              "  @keyframes spin {\n",
              "    0% {\n",
              "      border-color: transparent;\n",
              "      border-bottom-color: var(--fill-color);\n",
              "      border-left-color: var(--fill-color);\n",
              "    }\n",
              "    20% {\n",
              "      border-color: transparent;\n",
              "      border-left-color: var(--fill-color);\n",
              "      border-top-color: var(--fill-color);\n",
              "    }\n",
              "    30% {\n",
              "      border-color: transparent;\n",
              "      border-left-color: var(--fill-color);\n",
              "      border-top-color: var(--fill-color);\n",
              "      border-right-color: var(--fill-color);\n",
              "    }\n",
              "    40% {\n",
              "      border-color: transparent;\n",
              "      border-right-color: var(--fill-color);\n",
              "      border-top-color: var(--fill-color);\n",
              "    }\n",
              "    60% {\n",
              "      border-color: transparent;\n",
              "      border-right-color: var(--fill-color);\n",
              "    }\n",
              "    80% {\n",
              "      border-color: transparent;\n",
              "      border-right-color: var(--fill-color);\n",
              "      border-bottom-color: var(--fill-color);\n",
              "    }\n",
              "    90% {\n",
              "      border-color: transparent;\n",
              "      border-bottom-color: var(--fill-color);\n",
              "    }\n",
              "  }\n",
              "</style>\n",
              "\n",
              "      <script>\n",
              "        async function quickchart(key) {\n",
              "          const quickchartButtonEl =\n",
              "            document.querySelector('#' + key + ' button');\n",
              "          quickchartButtonEl.disabled = true;  // To prevent multiple clicks.\n",
              "          quickchartButtonEl.classList.add('colab-df-spinner');\n",
              "          try {\n",
              "            const charts = await google.colab.kernel.invokeFunction(\n",
              "                'suggestCharts', [key], {});\n",
              "          } catch (error) {\n",
              "            console.error('Error during call to suggestCharts:', error);\n",
              "          }\n",
              "          quickchartButtonEl.classList.remove('colab-df-spinner');\n",
              "          quickchartButtonEl.classList.add('colab-df-quickchart-complete');\n",
              "        }\n",
              "        (() => {\n",
              "          let quickchartButtonEl =\n",
              "            document.querySelector('#df-c0b3051d-0dfe-48eb-b9c9-8fe1c5de7271 button');\n",
              "          quickchartButtonEl.style.display =\n",
              "            google.colab.kernel.accessAllowed ? 'block' : 'none';\n",
              "        })();\n",
              "      </script>\n",
              "    </div>\n",
              "\n",
              "  <div id=\"id_b08b5995-84db-4701-afd1-88954d5f3efa\">\n",
              "    <style>\n",
              "      .colab-df-generate {\n",
              "        background-color: #E8F0FE;\n",
              "        border: none;\n",
              "        border-radius: 50%;\n",
              "        cursor: pointer;\n",
              "        display: none;\n",
              "        fill: #1967D2;\n",
              "        height: 32px;\n",
              "        padding: 0 0 0 0;\n",
              "        width: 32px;\n",
              "      }\n",
              "\n",
              "      .colab-df-generate:hover {\n",
              "        background-color: #E2EBFA;\n",
              "        box-shadow: 0px 1px 2px rgba(60, 64, 67, 0.3), 0px 1px 3px 1px rgba(60, 64, 67, 0.15);\n",
              "        fill: #174EA6;\n",
              "      }\n",
              "\n",
              "      [theme=dark] .colab-df-generate {\n",
              "        background-color: #3B4455;\n",
              "        fill: #D2E3FC;\n",
              "      }\n",
              "\n",
              "      [theme=dark] .colab-df-generate:hover {\n",
              "        background-color: #434B5C;\n",
              "        box-shadow: 0px 1px 3px 1px rgba(0, 0, 0, 0.15);\n",
              "        filter: drop-shadow(0px 1px 2px rgba(0, 0, 0, 0.3));\n",
              "        fill: #FFFFFF;\n",
              "      }\n",
              "    </style>\n",
              "    <button class=\"colab-df-generate\" onclick=\"generateWithVariable('misval')\"\n",
              "            title=\"Generate code using this dataframe.\"\n",
              "            style=\"display:none;\">\n",
              "\n",
              "  <svg xmlns=\"http://www.w3.org/2000/svg\" height=\"24px\"viewBox=\"0 0 24 24\"\n",
              "       width=\"24px\">\n",
              "    <path d=\"M7,19H8.4L18.45,9,17,7.55,7,17.6ZM5,21V16.75L18.45,3.32a2,2,0,0,1,2.83,0l1.4,1.43a1.91,1.91,0,0,1,.58,1.4,1.91,1.91,0,0,1-.58,1.4L9.25,21ZM18.45,9,17,7.55Zm-12,3A5.31,5.31,0,0,0,4.9,8.1,5.31,5.31,0,0,0,1,6.5,5.31,5.31,0,0,0,4.9,4.9,5.31,5.31,0,0,0,6.5,1,5.31,5.31,0,0,0,8.1,4.9,5.31,5.31,0,0,0,12,6.5,5.46,5.46,0,0,0,6.5,12Z\"/>\n",
              "  </svg>\n",
              "    </button>\n",
              "    <script>\n",
              "      (() => {\n",
              "      const buttonEl =\n",
              "        document.querySelector('#id_b08b5995-84db-4701-afd1-88954d5f3efa button.colab-df-generate');\n",
              "      buttonEl.style.display =\n",
              "        google.colab.kernel.accessAllowed ? 'block' : 'none';\n",
              "\n",
              "      buttonEl.onclick = () => {\n",
              "        google.colab.notebook.generateWithVariable('misval');\n",
              "      }\n",
              "      })();\n",
              "    </script>\n",
              "  </div>\n",
              "\n",
              "    </div>\n",
              "  </div>\n"
            ],
            "application/vnd.google.colaboratory.intrinsic+json": {
              "type": "dataframe",
              "variable_name": "misval",
              "summary": "{\n  \"name\": \"misval\",\n  \"rows\": 11,\n  \"fields\": [\n    {\n      \"column\": \"Missing Values\",\n      \"properties\": {\n        \"dtype\": \"number\",\n        \"std\": 89,\n        \"min\": 0,\n        \"max\": 301,\n        \"num_unique_values\": 6,\n        \"samples\": [\n          0,\n          11,\n          301\n        ],\n        \"semantic_type\": \"\",\n        \"description\": \"\"\n      }\n    },\n    {\n      \"column\": \"Missing Values (%)\",\n      \"properties\": {\n        \"dtype\": \"number\",\n        \"std\": 11.04042159932804,\n        \"min\": 0.0,\n        \"max\": 37.0,\n        \"num_unique_values\": 4,\n        \"samples\": [\n          1.0,\n          37.0,\n          0.0\n        ],\n        \"semantic_type\": \"\",\n        \"description\": \"\"\n      }\n    },\n    {\n      \"column\": \"Data Type\",\n      \"properties\": {\n        \"dtype\": \"category\",\n        \"num_unique_values\": 2,\n        \"samples\": [\n          \"float64\",\n          \"object\"\n        ],\n        \"semantic_type\": \"\",\n        \"description\": \"\"\n      }\n    }\n  ]\n}"
            }
          },
          "metadata": {},
          "execution_count": 429
        }
      ]
    },
    {
      "cell_type": "code",
      "source": [
        "kolom_fitur = ['Energy (Per 100 ml)', 'Fat (Per 100 ml)',\n",
        "               'Saturated fat (Per 100 ml)', 'Carbohydrates (Per 100 ml)',\n",
        "               'Sugars (Per 100 ml)', 'Fiber (Per 100 ml)',\n",
        "               'Proteins (Per 100 ml)', 'Salt (Per 100 ml)']\n",
        "\n",
        "for kolom in kolom_fitur:\n",
        "  if df[kolom].isnull().any():\n",
        "    median_val = df[kolom].median()\n",
        "    df[kolom] = df[kolom].fillna(median_val)"
      ],
      "metadata": {
        "id": "nver6jD7qn0E"
      },
      "execution_count": 430,
      "outputs": []
    },
    {
      "cell_type": "code",
      "source": [
        "misval_cek = {\n",
        "    'Missing Values': df.isnull().sum(),\n",
        "    'Missing Values (%)': ((df.isnull().sum() / df.shape[0]).round(2) * 100),\n",
        "    'Data Type': df.dtypes\n",
        "}\n",
        "\n",
        "misval = pd.DataFrame(misval_cek)\n",
        "misval"
      ],
      "metadata": {
        "colab": {
          "base_uri": "https://localhost:8080/",
          "height": 563
        },
        "id": "Qo5rmgPNthcJ",
        "outputId": "177b36a6-9223-47ef-9f0c-e0c0e2a607b1"
      },
      "execution_count": 431,
      "outputs": [
        {
          "output_type": "execute_result",
          "data": {
            "text/plain": [
              "                            Missing Values  Missing Values (%) Data Type\n",
              "Kategori                                 0                 0.0    object\n",
              "Nama_minuman                            11                 1.0    object\n",
              "Nutri_Score                              0                 0.0    object\n",
              "Energy (Per 100 ml)                      0                 0.0   float64\n",
              "Fat (Per 100 ml)                         0                 0.0   float64\n",
              "Saturated fat (Per 100 ml)               0                 0.0   float64\n",
              "Carbohydrates (Per 100 ml)               0                 0.0   float64\n",
              "Sugars (Per 100 ml)                      0                 0.0   float64\n",
              "Fiber (Per 100 ml)                       0                 0.0   float64\n",
              "Proteins (Per 100 ml)                    0                 0.0   float64\n",
              "Salt (Per 100 ml)                        0                 0.0   float64"
            ],
            "text/html": [
              "\n",
              "  <div id=\"df-25e941f1-30bf-41f6-8208-ecc354dfc02e\" class=\"colab-df-container\">\n",
              "    <div>\n",
              "<style scoped>\n",
              "    .dataframe tbody tr th:only-of-type {\n",
              "        vertical-align: middle;\n",
              "    }\n",
              "\n",
              "    .dataframe tbody tr th {\n",
              "        vertical-align: top;\n",
              "    }\n",
              "\n",
              "    .dataframe thead th {\n",
              "        text-align: right;\n",
              "    }\n",
              "</style>\n",
              "<table border=\"1\" class=\"dataframe\">\n",
              "  <thead>\n",
              "    <tr style=\"text-align: right;\">\n",
              "      <th></th>\n",
              "      <th>Missing Values</th>\n",
              "      <th>Missing Values (%)</th>\n",
              "      <th>Data Type</th>\n",
              "    </tr>\n",
              "  </thead>\n",
              "  <tbody>\n",
              "    <tr>\n",
              "      <th>Kategori</th>\n",
              "      <td>0</td>\n",
              "      <td>0.0</td>\n",
              "      <td>object</td>\n",
              "    </tr>\n",
              "    <tr>\n",
              "      <th>Nama_minuman</th>\n",
              "      <td>11</td>\n",
              "      <td>1.0</td>\n",
              "      <td>object</td>\n",
              "    </tr>\n",
              "    <tr>\n",
              "      <th>Nutri_Score</th>\n",
              "      <td>0</td>\n",
              "      <td>0.0</td>\n",
              "      <td>object</td>\n",
              "    </tr>\n",
              "    <tr>\n",
              "      <th>Energy (Per 100 ml)</th>\n",
              "      <td>0</td>\n",
              "      <td>0.0</td>\n",
              "      <td>float64</td>\n",
              "    </tr>\n",
              "    <tr>\n",
              "      <th>Fat (Per 100 ml)</th>\n",
              "      <td>0</td>\n",
              "      <td>0.0</td>\n",
              "      <td>float64</td>\n",
              "    </tr>\n",
              "    <tr>\n",
              "      <th>Saturated fat (Per 100 ml)</th>\n",
              "      <td>0</td>\n",
              "      <td>0.0</td>\n",
              "      <td>float64</td>\n",
              "    </tr>\n",
              "    <tr>\n",
              "      <th>Carbohydrates (Per 100 ml)</th>\n",
              "      <td>0</td>\n",
              "      <td>0.0</td>\n",
              "      <td>float64</td>\n",
              "    </tr>\n",
              "    <tr>\n",
              "      <th>Sugars (Per 100 ml)</th>\n",
              "      <td>0</td>\n",
              "      <td>0.0</td>\n",
              "      <td>float64</td>\n",
              "    </tr>\n",
              "    <tr>\n",
              "      <th>Fiber (Per 100 ml)</th>\n",
              "      <td>0</td>\n",
              "      <td>0.0</td>\n",
              "      <td>float64</td>\n",
              "    </tr>\n",
              "    <tr>\n",
              "      <th>Proteins (Per 100 ml)</th>\n",
              "      <td>0</td>\n",
              "      <td>0.0</td>\n",
              "      <td>float64</td>\n",
              "    </tr>\n",
              "    <tr>\n",
              "      <th>Salt (Per 100 ml)</th>\n",
              "      <td>0</td>\n",
              "      <td>0.0</td>\n",
              "      <td>float64</td>\n",
              "    </tr>\n",
              "  </tbody>\n",
              "</table>\n",
              "</div>\n",
              "    <div class=\"colab-df-buttons\">\n",
              "\n",
              "  <div class=\"colab-df-container\">\n",
              "    <button class=\"colab-df-convert\" onclick=\"convertToInteractive('df-25e941f1-30bf-41f6-8208-ecc354dfc02e')\"\n",
              "            title=\"Convert this dataframe to an interactive table.\"\n",
              "            style=\"display:none;\">\n",
              "\n",
              "  <svg xmlns=\"http://www.w3.org/2000/svg\" height=\"24px\" viewBox=\"0 -960 960 960\">\n",
              "    <path d=\"M120-120v-720h720v720H120Zm60-500h600v-160H180v160Zm220 220h160v-160H400v160Zm0 220h160v-160H400v160ZM180-400h160v-160H180v160Zm440 0h160v-160H620v160ZM180-180h160v-160H180v160Zm440 0h160v-160H620v160Z\"/>\n",
              "  </svg>\n",
              "    </button>\n",
              "\n",
              "  <style>\n",
              "    .colab-df-container {\n",
              "      display:flex;\n",
              "      gap: 12px;\n",
              "    }\n",
              "\n",
              "    .colab-df-convert {\n",
              "      background-color: #E8F0FE;\n",
              "      border: none;\n",
              "      border-radius: 50%;\n",
              "      cursor: pointer;\n",
              "      display: none;\n",
              "      fill: #1967D2;\n",
              "      height: 32px;\n",
              "      padding: 0 0 0 0;\n",
              "      width: 32px;\n",
              "    }\n",
              "\n",
              "    .colab-df-convert:hover {\n",
              "      background-color: #E2EBFA;\n",
              "      box-shadow: 0px 1px 2px rgba(60, 64, 67, 0.3), 0px 1px 3px 1px rgba(60, 64, 67, 0.15);\n",
              "      fill: #174EA6;\n",
              "    }\n",
              "\n",
              "    .colab-df-buttons div {\n",
              "      margin-bottom: 4px;\n",
              "    }\n",
              "\n",
              "    [theme=dark] .colab-df-convert {\n",
              "      background-color: #3B4455;\n",
              "      fill: #D2E3FC;\n",
              "    }\n",
              "\n",
              "    [theme=dark] .colab-df-convert:hover {\n",
              "      background-color: #434B5C;\n",
              "      box-shadow: 0px 1px 3px 1px rgba(0, 0, 0, 0.15);\n",
              "      filter: drop-shadow(0px 1px 2px rgba(0, 0, 0, 0.3));\n",
              "      fill: #FFFFFF;\n",
              "    }\n",
              "  </style>\n",
              "\n",
              "    <script>\n",
              "      const buttonEl =\n",
              "        document.querySelector('#df-25e941f1-30bf-41f6-8208-ecc354dfc02e button.colab-df-convert');\n",
              "      buttonEl.style.display =\n",
              "        google.colab.kernel.accessAllowed ? 'block' : 'none';\n",
              "\n",
              "      async function convertToInteractive(key) {\n",
              "        const element = document.querySelector('#df-25e941f1-30bf-41f6-8208-ecc354dfc02e');\n",
              "        const dataTable =\n",
              "          await google.colab.kernel.invokeFunction('convertToInteractive',\n",
              "                                                    [key], {});\n",
              "        if (!dataTable) return;\n",
              "\n",
              "        const docLinkHtml = 'Like what you see? Visit the ' +\n",
              "          '<a target=\"_blank\" href=https://colab.research.google.com/notebooks/data_table.ipynb>data table notebook</a>'\n",
              "          + ' to learn more about interactive tables.';\n",
              "        element.innerHTML = '';\n",
              "        dataTable['output_type'] = 'display_data';\n",
              "        await google.colab.output.renderOutput(dataTable, element);\n",
              "        const docLink = document.createElement('div');\n",
              "        docLink.innerHTML = docLinkHtml;\n",
              "        element.appendChild(docLink);\n",
              "      }\n",
              "    </script>\n",
              "  </div>\n",
              "\n",
              "\n",
              "    <div id=\"df-61492bd6-5e7c-42c9-bfed-aa22dfda8f7d\">\n",
              "      <button class=\"colab-df-quickchart\" onclick=\"quickchart('df-61492bd6-5e7c-42c9-bfed-aa22dfda8f7d')\"\n",
              "                title=\"Suggest charts\"\n",
              "                style=\"display:none;\">\n",
              "\n",
              "<svg xmlns=\"http://www.w3.org/2000/svg\" height=\"24px\"viewBox=\"0 0 24 24\"\n",
              "     width=\"24px\">\n",
              "    <g>\n",
              "        <path d=\"M19 3H5c-1.1 0-2 .9-2 2v14c0 1.1.9 2 2 2h14c1.1 0 2-.9 2-2V5c0-1.1-.9-2-2-2zM9 17H7v-7h2v7zm4 0h-2V7h2v10zm4 0h-2v-4h2v4z\"/>\n",
              "    </g>\n",
              "</svg>\n",
              "      </button>\n",
              "\n",
              "<style>\n",
              "  .colab-df-quickchart {\n",
              "      --bg-color: #E8F0FE;\n",
              "      --fill-color: #1967D2;\n",
              "      --hover-bg-color: #E2EBFA;\n",
              "      --hover-fill-color: #174EA6;\n",
              "      --disabled-fill-color: #AAA;\n",
              "      --disabled-bg-color: #DDD;\n",
              "  }\n",
              "\n",
              "  [theme=dark] .colab-df-quickchart {\n",
              "      --bg-color: #3B4455;\n",
              "      --fill-color: #D2E3FC;\n",
              "      --hover-bg-color: #434B5C;\n",
              "      --hover-fill-color: #FFFFFF;\n",
              "      --disabled-bg-color: #3B4455;\n",
              "      --disabled-fill-color: #666;\n",
              "  }\n",
              "\n",
              "  .colab-df-quickchart {\n",
              "    background-color: var(--bg-color);\n",
              "    border: none;\n",
              "    border-radius: 50%;\n",
              "    cursor: pointer;\n",
              "    display: none;\n",
              "    fill: var(--fill-color);\n",
              "    height: 32px;\n",
              "    padding: 0;\n",
              "    width: 32px;\n",
              "  }\n",
              "\n",
              "  .colab-df-quickchart:hover {\n",
              "    background-color: var(--hover-bg-color);\n",
              "    box-shadow: 0 1px 2px rgba(60, 64, 67, 0.3), 0 1px 3px 1px rgba(60, 64, 67, 0.15);\n",
              "    fill: var(--button-hover-fill-color);\n",
              "  }\n",
              "\n",
              "  .colab-df-quickchart-complete:disabled,\n",
              "  .colab-df-quickchart-complete:disabled:hover {\n",
              "    background-color: var(--disabled-bg-color);\n",
              "    fill: var(--disabled-fill-color);\n",
              "    box-shadow: none;\n",
              "  }\n",
              "\n",
              "  .colab-df-spinner {\n",
              "    border: 2px solid var(--fill-color);\n",
              "    border-color: transparent;\n",
              "    border-bottom-color: var(--fill-color);\n",
              "    animation:\n",
              "      spin 1s steps(1) infinite;\n",
              "  }\n",
              "\n",
              "  @keyframes spin {\n",
              "    0% {\n",
              "      border-color: transparent;\n",
              "      border-bottom-color: var(--fill-color);\n",
              "      border-left-color: var(--fill-color);\n",
              "    }\n",
              "    20% {\n",
              "      border-color: transparent;\n",
              "      border-left-color: var(--fill-color);\n",
              "      border-top-color: var(--fill-color);\n",
              "    }\n",
              "    30% {\n",
              "      border-color: transparent;\n",
              "      border-left-color: var(--fill-color);\n",
              "      border-top-color: var(--fill-color);\n",
              "      border-right-color: var(--fill-color);\n",
              "    }\n",
              "    40% {\n",
              "      border-color: transparent;\n",
              "      border-right-color: var(--fill-color);\n",
              "      border-top-color: var(--fill-color);\n",
              "    }\n",
              "    60% {\n",
              "      border-color: transparent;\n",
              "      border-right-color: var(--fill-color);\n",
              "    }\n",
              "    80% {\n",
              "      border-color: transparent;\n",
              "      border-right-color: var(--fill-color);\n",
              "      border-bottom-color: var(--fill-color);\n",
              "    }\n",
              "    90% {\n",
              "      border-color: transparent;\n",
              "      border-bottom-color: var(--fill-color);\n",
              "    }\n",
              "  }\n",
              "</style>\n",
              "\n",
              "      <script>\n",
              "        async function quickchart(key) {\n",
              "          const quickchartButtonEl =\n",
              "            document.querySelector('#' + key + ' button');\n",
              "          quickchartButtonEl.disabled = true;  // To prevent multiple clicks.\n",
              "          quickchartButtonEl.classList.add('colab-df-spinner');\n",
              "          try {\n",
              "            const charts = await google.colab.kernel.invokeFunction(\n",
              "                'suggestCharts', [key], {});\n",
              "          } catch (error) {\n",
              "            console.error('Error during call to suggestCharts:', error);\n",
              "          }\n",
              "          quickchartButtonEl.classList.remove('colab-df-spinner');\n",
              "          quickchartButtonEl.classList.add('colab-df-quickchart-complete');\n",
              "        }\n",
              "        (() => {\n",
              "          let quickchartButtonEl =\n",
              "            document.querySelector('#df-61492bd6-5e7c-42c9-bfed-aa22dfda8f7d button');\n",
              "          quickchartButtonEl.style.display =\n",
              "            google.colab.kernel.accessAllowed ? 'block' : 'none';\n",
              "        })();\n",
              "      </script>\n",
              "    </div>\n",
              "\n",
              "  <div id=\"id_2df00b97-eaed-4191-80f2-e48d569e3533\">\n",
              "    <style>\n",
              "      .colab-df-generate {\n",
              "        background-color: #E8F0FE;\n",
              "        border: none;\n",
              "        border-radius: 50%;\n",
              "        cursor: pointer;\n",
              "        display: none;\n",
              "        fill: #1967D2;\n",
              "        height: 32px;\n",
              "        padding: 0 0 0 0;\n",
              "        width: 32px;\n",
              "      }\n",
              "\n",
              "      .colab-df-generate:hover {\n",
              "        background-color: #E2EBFA;\n",
              "        box-shadow: 0px 1px 2px rgba(60, 64, 67, 0.3), 0px 1px 3px 1px rgba(60, 64, 67, 0.15);\n",
              "        fill: #174EA6;\n",
              "      }\n",
              "\n",
              "      [theme=dark] .colab-df-generate {\n",
              "        background-color: #3B4455;\n",
              "        fill: #D2E3FC;\n",
              "      }\n",
              "\n",
              "      [theme=dark] .colab-df-generate:hover {\n",
              "        background-color: #434B5C;\n",
              "        box-shadow: 0px 1px 3px 1px rgba(0, 0, 0, 0.15);\n",
              "        filter: drop-shadow(0px 1px 2px rgba(0, 0, 0, 0.3));\n",
              "        fill: #FFFFFF;\n",
              "      }\n",
              "    </style>\n",
              "    <button class=\"colab-df-generate\" onclick=\"generateWithVariable('misval')\"\n",
              "            title=\"Generate code using this dataframe.\"\n",
              "            style=\"display:none;\">\n",
              "\n",
              "  <svg xmlns=\"http://www.w3.org/2000/svg\" height=\"24px\"viewBox=\"0 0 24 24\"\n",
              "       width=\"24px\">\n",
              "    <path d=\"M7,19H8.4L18.45,9,17,7.55,7,17.6ZM5,21V16.75L18.45,3.32a2,2,0,0,1,2.83,0l1.4,1.43a1.91,1.91,0,0,1,.58,1.4,1.91,1.91,0,0,1-.58,1.4L9.25,21ZM18.45,9,17,7.55Zm-12,3A5.31,5.31,0,0,0,4.9,8.1,5.31,5.31,0,0,0,1,6.5,5.31,5.31,0,0,0,4.9,4.9,5.31,5.31,0,0,0,6.5,1,5.31,5.31,0,0,0,8.1,4.9,5.31,5.31,0,0,0,12,6.5,5.46,5.46,0,0,0,6.5,12Z\"/>\n",
              "  </svg>\n",
              "    </button>\n",
              "    <script>\n",
              "      (() => {\n",
              "      const buttonEl =\n",
              "        document.querySelector('#id_2df00b97-eaed-4191-80f2-e48d569e3533 button.colab-df-generate');\n",
              "      buttonEl.style.display =\n",
              "        google.colab.kernel.accessAllowed ? 'block' : 'none';\n",
              "\n",
              "      buttonEl.onclick = () => {\n",
              "        google.colab.notebook.generateWithVariable('misval');\n",
              "      }\n",
              "      })();\n",
              "    </script>\n",
              "  </div>\n",
              "\n",
              "    </div>\n",
              "  </div>\n"
            ],
            "application/vnd.google.colaboratory.intrinsic+json": {
              "type": "dataframe",
              "variable_name": "misval",
              "summary": "{\n  \"name\": \"misval\",\n  \"rows\": 11,\n  \"fields\": [\n    {\n      \"column\": \"Missing Values\",\n      \"properties\": {\n        \"dtype\": \"number\",\n        \"std\": 3,\n        \"min\": 0,\n        \"max\": 11,\n        \"num_unique_values\": 2,\n        \"samples\": [\n          11,\n          0\n        ],\n        \"semantic_type\": \"\",\n        \"description\": \"\"\n      }\n    },\n    {\n      \"column\": \"Missing Values (%)\",\n      \"properties\": {\n        \"dtype\": \"number\",\n        \"std\": 0.3015113445777636,\n        \"min\": 0.0,\n        \"max\": 1.0,\n        \"num_unique_values\": 2,\n        \"samples\": [\n          1.0,\n          0.0\n        ],\n        \"semantic_type\": \"\",\n        \"description\": \"\"\n      }\n    },\n    {\n      \"column\": \"Data Type\",\n      \"properties\": {\n        \"dtype\": \"category\",\n        \"num_unique_values\": 2,\n        \"samples\": [\n          \"float64\",\n          \"object\"\n        ],\n        \"semantic_type\": \"\",\n        \"description\": \"\"\n      }\n    }\n  ]\n}"
            }
          },
          "metadata": {},
          "execution_count": 431
        }
      ]
    },
    {
      "cell_type": "markdown",
      "source": [
        "Label Encoding\n",
        "---"
      ],
      "metadata": {
        "id": "dZp1DPagY7Wo"
      }
    },
    {
      "cell_type": "code",
      "source": [
        "from sklearn.preprocessing import LabelEncoder\n",
        "\n",
        "y = df['Nutri_Score']\n",
        "\n",
        "le = LabelEncoder()\n",
        "y_encoded = le.fit_transform(y)"
      ],
      "metadata": {
        "id": "E7iHv2HsY837"
      },
      "execution_count": 432,
      "outputs": []
    },
    {
      "cell_type": "code",
      "source": [
        "for label, class_ in enumerate(le.classes_):\n",
        "    print(f\"Class {label}: {class_}\")"
      ],
      "metadata": {
        "id": "TpCRs4H0_dFi",
        "colab": {
          "base_uri": "https://localhost:8080/"
        },
        "outputId": "39135f0a-8bbd-4282-f24c-85bc4768bc59"
      },
      "execution_count": 433,
      "outputs": [
        {
          "output_type": "stream",
          "name": "stdout",
          "text": [
            "Class 0: b\n",
            "Class 1: c\n",
            "Class 2: d\n",
            "Class 3: e\n"
          ]
        }
      ]
    },
    {
      "cell_type": "markdown",
      "source": [
        "Scalling Data\n",
        "---"
      ],
      "metadata": {
        "id": "DUK5rT8WkT_c"
      }
    },
    {
      "cell_type": "code",
      "source": [
        "from sklearn.preprocessing import StandardScaler\n",
        "\n",
        "X = df[kolom_fitur]\n",
        "\n",
        "scaler = StandardScaler()\n",
        "X_scaled = scaler.fit_transform(X)\n",
        "\n",
        "X_scaled_df = pd.DataFrame(X_scaled, columns=X.columns)"
      ],
      "metadata": {
        "id": "48CTLeJMCW8k"
      },
      "execution_count": 434,
      "outputs": []
    },
    {
      "cell_type": "code",
      "source": [
        "X_scaled_df.head()"
      ],
      "metadata": {
        "colab": {
          "base_uri": "https://localhost:8080/",
          "height": 238
        },
        "id": "1CDv7_kVuV3r",
        "outputId": "4e7068ff-76dd-480e-db91-062df2b13da8"
      },
      "execution_count": 435,
      "outputs": [
        {
          "output_type": "execute_result",
          "data": {
            "text/plain": [
              "   Energy (Per 100 ml)  Fat (Per 100 ml)  Saturated fat (Per 100 ml)  \\\n",
              "0            -0.080606         -0.397340                   -0.264054   \n",
              "1             0.281076         -0.364940                   -0.264054   \n",
              "2             0.281076         -0.364940                   -0.264054   \n",
              "3            -0.146830         -0.235341                   -0.225880   \n",
              "4            -0.529908         -0.397340                   -0.264054   \n",
              "\n",
              "   Carbohydrates (Per 100 ml)  Sugars (Per 100 ml)  Fiber (Per 100 ml)  \\\n",
              "0                    0.318730             0.328221           -0.035136   \n",
              "1                    0.816060             0.063002           -0.035136   \n",
              "2                    0.816060             0.063002           -0.035136   \n",
              "3                    0.181965             0.434308           -0.035136   \n",
              "4                    0.443063             0.505033           -0.035136   \n",
              "\n",
              "   Proteins (Per 100 ml)  Salt (Per 100 ml)  \n",
              "0              -0.546544          -0.095350  \n",
              "1              -0.312598          -0.154650  \n",
              "2              -0.312598          -0.151688  \n",
              "3              -0.254111          -0.142793  \n",
              "4              -0.546544          -0.095350  "
            ],
            "text/html": [
              "\n",
              "  <div id=\"df-f5913ce3-fb5b-4eb2-8658-272cd7c0bb82\" class=\"colab-df-container\">\n",
              "    <div>\n",
              "<style scoped>\n",
              "    .dataframe tbody tr th:only-of-type {\n",
              "        vertical-align: middle;\n",
              "    }\n",
              "\n",
              "    .dataframe tbody tr th {\n",
              "        vertical-align: top;\n",
              "    }\n",
              "\n",
              "    .dataframe thead th {\n",
              "        text-align: right;\n",
              "    }\n",
              "</style>\n",
              "<table border=\"1\" class=\"dataframe\">\n",
              "  <thead>\n",
              "    <tr style=\"text-align: right;\">\n",
              "      <th></th>\n",
              "      <th>Energy (Per 100 ml)</th>\n",
              "      <th>Fat (Per 100 ml)</th>\n",
              "      <th>Saturated fat (Per 100 ml)</th>\n",
              "      <th>Carbohydrates (Per 100 ml)</th>\n",
              "      <th>Sugars (Per 100 ml)</th>\n",
              "      <th>Fiber (Per 100 ml)</th>\n",
              "      <th>Proteins (Per 100 ml)</th>\n",
              "      <th>Salt (Per 100 ml)</th>\n",
              "    </tr>\n",
              "  </thead>\n",
              "  <tbody>\n",
              "    <tr>\n",
              "      <th>0</th>\n",
              "      <td>-0.080606</td>\n",
              "      <td>-0.397340</td>\n",
              "      <td>-0.264054</td>\n",
              "      <td>0.318730</td>\n",
              "      <td>0.328221</td>\n",
              "      <td>-0.035136</td>\n",
              "      <td>-0.546544</td>\n",
              "      <td>-0.095350</td>\n",
              "    </tr>\n",
              "    <tr>\n",
              "      <th>1</th>\n",
              "      <td>0.281076</td>\n",
              "      <td>-0.364940</td>\n",
              "      <td>-0.264054</td>\n",
              "      <td>0.816060</td>\n",
              "      <td>0.063002</td>\n",
              "      <td>-0.035136</td>\n",
              "      <td>-0.312598</td>\n",
              "      <td>-0.154650</td>\n",
              "    </tr>\n",
              "    <tr>\n",
              "      <th>2</th>\n",
              "      <td>0.281076</td>\n",
              "      <td>-0.364940</td>\n",
              "      <td>-0.264054</td>\n",
              "      <td>0.816060</td>\n",
              "      <td>0.063002</td>\n",
              "      <td>-0.035136</td>\n",
              "      <td>-0.312598</td>\n",
              "      <td>-0.151688</td>\n",
              "    </tr>\n",
              "    <tr>\n",
              "      <th>3</th>\n",
              "      <td>-0.146830</td>\n",
              "      <td>-0.235341</td>\n",
              "      <td>-0.225880</td>\n",
              "      <td>0.181965</td>\n",
              "      <td>0.434308</td>\n",
              "      <td>-0.035136</td>\n",
              "      <td>-0.254111</td>\n",
              "      <td>-0.142793</td>\n",
              "    </tr>\n",
              "    <tr>\n",
              "      <th>4</th>\n",
              "      <td>-0.529908</td>\n",
              "      <td>-0.397340</td>\n",
              "      <td>-0.264054</td>\n",
              "      <td>0.443063</td>\n",
              "      <td>0.505033</td>\n",
              "      <td>-0.035136</td>\n",
              "      <td>-0.546544</td>\n",
              "      <td>-0.095350</td>\n",
              "    </tr>\n",
              "  </tbody>\n",
              "</table>\n",
              "</div>\n",
              "    <div class=\"colab-df-buttons\">\n",
              "\n",
              "  <div class=\"colab-df-container\">\n",
              "    <button class=\"colab-df-convert\" onclick=\"convertToInteractive('df-f5913ce3-fb5b-4eb2-8658-272cd7c0bb82')\"\n",
              "            title=\"Convert this dataframe to an interactive table.\"\n",
              "            style=\"display:none;\">\n",
              "\n",
              "  <svg xmlns=\"http://www.w3.org/2000/svg\" height=\"24px\" viewBox=\"0 -960 960 960\">\n",
              "    <path d=\"M120-120v-720h720v720H120Zm60-500h600v-160H180v160Zm220 220h160v-160H400v160Zm0 220h160v-160H400v160ZM180-400h160v-160H180v160Zm440 0h160v-160H620v160ZM180-180h160v-160H180v160Zm440 0h160v-160H620v160Z\"/>\n",
              "  </svg>\n",
              "    </button>\n",
              "\n",
              "  <style>\n",
              "    .colab-df-container {\n",
              "      display:flex;\n",
              "      gap: 12px;\n",
              "    }\n",
              "\n",
              "    .colab-df-convert {\n",
              "      background-color: #E8F0FE;\n",
              "      border: none;\n",
              "      border-radius: 50%;\n",
              "      cursor: pointer;\n",
              "      display: none;\n",
              "      fill: #1967D2;\n",
              "      height: 32px;\n",
              "      padding: 0 0 0 0;\n",
              "      width: 32px;\n",
              "    }\n",
              "\n",
              "    .colab-df-convert:hover {\n",
              "      background-color: #E2EBFA;\n",
              "      box-shadow: 0px 1px 2px rgba(60, 64, 67, 0.3), 0px 1px 3px 1px rgba(60, 64, 67, 0.15);\n",
              "      fill: #174EA6;\n",
              "    }\n",
              "\n",
              "    .colab-df-buttons div {\n",
              "      margin-bottom: 4px;\n",
              "    }\n",
              "\n",
              "    [theme=dark] .colab-df-convert {\n",
              "      background-color: #3B4455;\n",
              "      fill: #D2E3FC;\n",
              "    }\n",
              "\n",
              "    [theme=dark] .colab-df-convert:hover {\n",
              "      background-color: #434B5C;\n",
              "      box-shadow: 0px 1px 3px 1px rgba(0, 0, 0, 0.15);\n",
              "      filter: drop-shadow(0px 1px 2px rgba(0, 0, 0, 0.3));\n",
              "      fill: #FFFFFF;\n",
              "    }\n",
              "  </style>\n",
              "\n",
              "    <script>\n",
              "      const buttonEl =\n",
              "        document.querySelector('#df-f5913ce3-fb5b-4eb2-8658-272cd7c0bb82 button.colab-df-convert');\n",
              "      buttonEl.style.display =\n",
              "        google.colab.kernel.accessAllowed ? 'block' : 'none';\n",
              "\n",
              "      async function convertToInteractive(key) {\n",
              "        const element = document.querySelector('#df-f5913ce3-fb5b-4eb2-8658-272cd7c0bb82');\n",
              "        const dataTable =\n",
              "          await google.colab.kernel.invokeFunction('convertToInteractive',\n",
              "                                                    [key], {});\n",
              "        if (!dataTable) return;\n",
              "\n",
              "        const docLinkHtml = 'Like what you see? Visit the ' +\n",
              "          '<a target=\"_blank\" href=https://colab.research.google.com/notebooks/data_table.ipynb>data table notebook</a>'\n",
              "          + ' to learn more about interactive tables.';\n",
              "        element.innerHTML = '';\n",
              "        dataTable['output_type'] = 'display_data';\n",
              "        await google.colab.output.renderOutput(dataTable, element);\n",
              "        const docLink = document.createElement('div');\n",
              "        docLink.innerHTML = docLinkHtml;\n",
              "        element.appendChild(docLink);\n",
              "      }\n",
              "    </script>\n",
              "  </div>\n",
              "\n",
              "\n",
              "    <div id=\"df-70f313c7-4b9c-41b3-89c1-6143cf2d9749\">\n",
              "      <button class=\"colab-df-quickchart\" onclick=\"quickchart('df-70f313c7-4b9c-41b3-89c1-6143cf2d9749')\"\n",
              "                title=\"Suggest charts\"\n",
              "                style=\"display:none;\">\n",
              "\n",
              "<svg xmlns=\"http://www.w3.org/2000/svg\" height=\"24px\"viewBox=\"0 0 24 24\"\n",
              "     width=\"24px\">\n",
              "    <g>\n",
              "        <path d=\"M19 3H5c-1.1 0-2 .9-2 2v14c0 1.1.9 2 2 2h14c1.1 0 2-.9 2-2V5c0-1.1-.9-2-2-2zM9 17H7v-7h2v7zm4 0h-2V7h2v10zm4 0h-2v-4h2v4z\"/>\n",
              "    </g>\n",
              "</svg>\n",
              "      </button>\n",
              "\n",
              "<style>\n",
              "  .colab-df-quickchart {\n",
              "      --bg-color: #E8F0FE;\n",
              "      --fill-color: #1967D2;\n",
              "      --hover-bg-color: #E2EBFA;\n",
              "      --hover-fill-color: #174EA6;\n",
              "      --disabled-fill-color: #AAA;\n",
              "      --disabled-bg-color: #DDD;\n",
              "  }\n",
              "\n",
              "  [theme=dark] .colab-df-quickchart {\n",
              "      --bg-color: #3B4455;\n",
              "      --fill-color: #D2E3FC;\n",
              "      --hover-bg-color: #434B5C;\n",
              "      --hover-fill-color: #FFFFFF;\n",
              "      --disabled-bg-color: #3B4455;\n",
              "      --disabled-fill-color: #666;\n",
              "  }\n",
              "\n",
              "  .colab-df-quickchart {\n",
              "    background-color: var(--bg-color);\n",
              "    border: none;\n",
              "    border-radius: 50%;\n",
              "    cursor: pointer;\n",
              "    display: none;\n",
              "    fill: var(--fill-color);\n",
              "    height: 32px;\n",
              "    padding: 0;\n",
              "    width: 32px;\n",
              "  }\n",
              "\n",
              "  .colab-df-quickchart:hover {\n",
              "    background-color: var(--hover-bg-color);\n",
              "    box-shadow: 0 1px 2px rgba(60, 64, 67, 0.3), 0 1px 3px 1px rgba(60, 64, 67, 0.15);\n",
              "    fill: var(--button-hover-fill-color);\n",
              "  }\n",
              "\n",
              "  .colab-df-quickchart-complete:disabled,\n",
              "  .colab-df-quickchart-complete:disabled:hover {\n",
              "    background-color: var(--disabled-bg-color);\n",
              "    fill: var(--disabled-fill-color);\n",
              "    box-shadow: none;\n",
              "  }\n",
              "\n",
              "  .colab-df-spinner {\n",
              "    border: 2px solid var(--fill-color);\n",
              "    border-color: transparent;\n",
              "    border-bottom-color: var(--fill-color);\n",
              "    animation:\n",
              "      spin 1s steps(1) infinite;\n",
              "  }\n",
              "\n",
              "  @keyframes spin {\n",
              "    0% {\n",
              "      border-color: transparent;\n",
              "      border-bottom-color: var(--fill-color);\n",
              "      border-left-color: var(--fill-color);\n",
              "    }\n",
              "    20% {\n",
              "      border-color: transparent;\n",
              "      border-left-color: var(--fill-color);\n",
              "      border-top-color: var(--fill-color);\n",
              "    }\n",
              "    30% {\n",
              "      border-color: transparent;\n",
              "      border-left-color: var(--fill-color);\n",
              "      border-top-color: var(--fill-color);\n",
              "      border-right-color: var(--fill-color);\n",
              "    }\n",
              "    40% {\n",
              "      border-color: transparent;\n",
              "      border-right-color: var(--fill-color);\n",
              "      border-top-color: var(--fill-color);\n",
              "    }\n",
              "    60% {\n",
              "      border-color: transparent;\n",
              "      border-right-color: var(--fill-color);\n",
              "    }\n",
              "    80% {\n",
              "      border-color: transparent;\n",
              "      border-right-color: var(--fill-color);\n",
              "      border-bottom-color: var(--fill-color);\n",
              "    }\n",
              "    90% {\n",
              "      border-color: transparent;\n",
              "      border-bottom-color: var(--fill-color);\n",
              "    }\n",
              "  }\n",
              "</style>\n",
              "\n",
              "      <script>\n",
              "        async function quickchart(key) {\n",
              "          const quickchartButtonEl =\n",
              "            document.querySelector('#' + key + ' button');\n",
              "          quickchartButtonEl.disabled = true;  // To prevent multiple clicks.\n",
              "          quickchartButtonEl.classList.add('colab-df-spinner');\n",
              "          try {\n",
              "            const charts = await google.colab.kernel.invokeFunction(\n",
              "                'suggestCharts', [key], {});\n",
              "          } catch (error) {\n",
              "            console.error('Error during call to suggestCharts:', error);\n",
              "          }\n",
              "          quickchartButtonEl.classList.remove('colab-df-spinner');\n",
              "          quickchartButtonEl.classList.add('colab-df-quickchart-complete');\n",
              "        }\n",
              "        (() => {\n",
              "          let quickchartButtonEl =\n",
              "            document.querySelector('#df-70f313c7-4b9c-41b3-89c1-6143cf2d9749 button');\n",
              "          quickchartButtonEl.style.display =\n",
              "            google.colab.kernel.accessAllowed ? 'block' : 'none';\n",
              "        })();\n",
              "      </script>\n",
              "    </div>\n",
              "\n",
              "    </div>\n",
              "  </div>\n"
            ],
            "application/vnd.google.colaboratory.intrinsic+json": {
              "type": "dataframe",
              "variable_name": "X_scaled_df",
              "summary": "{\n  \"name\": \"X_scaled_df\",\n  \"rows\": 811,\n  \"fields\": [\n    {\n      \"column\": \"Energy (Per 100 ml)\",\n      \"properties\": {\n        \"dtype\": \"number\",\n        \"std\": 1.0006170935483938,\n        \"min\": -0.8701951676920451,\n        \"max\": 8.46733085459812,\n        \"num_unique_values\": 253,\n        \"samples\": [\n          1.157265474354592,\n          -0.07041797974902489,\n          -0.5798302013687829\n        ],\n        \"semantic_type\": \"\",\n        \"description\": \"\"\n      }\n    },\n    {\n      \"column\": \"Fat (Per 100 ml)\",\n      \"properties\": {\n        \"dtype\": \"number\",\n        \"std\": 1.0006170935483931,\n        \"min\": -0.39733953074814066,\n        \"max\": 7.702595347549848,\n        \"num_unique_values\": 80,\n        \"samples\": [\n          0.8986500497795376,\n          -0.39733953074814066,\n          -0.00854265658983723\n        ],\n        \"semantic_type\": \"\",\n        \"description\": \"\"\n      }\n    },\n    {\n      \"column\": \"Saturated fat (Per 100 ml)\",\n      \"properties\": {\n        \"dtype\": \"number\",\n        \"std\": 1.0006170935483898,\n        \"min\": -0.2640535090712278,\n        \"max\": 8.897623322717816,\n        \"num_unique_values\": 62,\n        \"samples\": [\n          0.6902878275734642,\n          -0.24878404768491275,\n          -0.2640535090712278\n        ],\n        \"semantic_type\": \"\",\n        \"description\": \"\"\n      }\n    },\n    {\n      \"column\": \"Carbohydrates (Per 100 ml)\",\n      \"properties\": {\n        \"dtype\": \"number\",\n        \"std\": 1.0006170935483942,\n        \"min\": -0.8002611897926493,\n        \"max\": 9.51932652147517,\n        \"num_unique_values\": 159,\n        \"samples\": [\n          -0.12886632664992365,\n          0.8906592062705114,\n          0.9119432242169736\n        ],\n        \"semantic_type\": \"\",\n        \"description\": \"\"\n      }\n    },\n    {\n      \"column\": \"Sugars (Per 100 ml)\",\n      \"properties\": {\n        \"dtype\": \"number\",\n        \"std\": 1.0006170935483911,\n        \"min\": -0.9094664877631563,\n        \"max\": 11.821031031350637,\n        \"num_unique_values\": 146,\n        \"samples\": [\n          0.5757582228001197,\n          11.821031031350637,\n          -0.1668541324815183\n        ],\n        \"semantic_type\": \"\",\n        \"description\": \"\"\n      }\n    },\n    {\n      \"column\": \"Fiber (Per 100 ml)\",\n      \"properties\": {\n        \"dtype\": \"number\",\n        \"std\": 1.0006170935483847,\n        \"min\": -0.03513641844910968,\n        \"max\": 28.460498941515418,\n        \"num_unique_values\": 49,\n        \"samples\": [\n          -0.03513641844906305,\n          -0.0351364184450064,\n          -0.03513641844505303\n        ],\n        \"semantic_type\": \"\",\n        \"description\": \"\"\n      }\n    },\n    {\n      \"column\": \"Proteins (Per 100 ml)\",\n      \"properties\": {\n        \"dtype\": \"number\",\n        \"std\": 1.000617093548396,\n        \"min\": -0.5465439202483847,\n        \"max\": 9.630105238480814,\n        \"num_unique_values\": 85,\n        \"samples\": [\n          -0.15643903583043203,\n          -0.5465439202483847,\n          4.132375233190327\n        ],\n        \"semantic_type\": \"\",\n        \"description\": \"\"\n      }\n    },\n    {\n      \"column\": \"Salt (Per 100 ml)\",\n      \"properties\": {\n        \"dtype\": \"number\",\n        \"std\": 1.0006170935483942,\n        \"min\": -0.154653066706424,\n        \"max\": 23.566435719755212,\n        \"num_unique_values\": 106,\n        \"samples\": [\n          -0.14516463119183934,\n          -0.03604762277411582,\n          -0.154653066706424\n        ],\n        \"semantic_type\": \"\",\n        \"description\": \"\"\n      }\n    }\n  ]\n}"
            }
          },
          "metadata": {},
          "execution_count": 435
        }
      ]
    },
    {
      "cell_type": "markdown",
      "source": [
        "Splitting Data\n",
        "---"
      ],
      "metadata": {
        "id": "AihV_iSnl0OZ"
      }
    },
    {
      "cell_type": "code",
      "source": [
        "from sklearn.model_selection import train_test_split\n",
        "\n",
        "X_train, X_test, y_train, y_test = train_test_split(X_scaled, y_encoded, test_size=0.2, random_state=42, stratify=y_encoded)"
      ],
      "metadata": {
        "id": "AI0HwX70l2Gh"
      },
      "execution_count": 436,
      "outputs": []
    },
    {
      "cell_type": "code",
      "source": [
        "print(\"X_train (data latih fitur):\", X_train.shape)\n",
        "print(\"X_test (data uji fitur):\", X_test.shape)\n",
        "print(\"y_train (data latih target):\", y_train.shape)\n",
        "print(\"y_test (data uji target):\", y_test.shape)"
      ],
      "metadata": {
        "colab": {
          "base_uri": "https://localhost:8080/"
        },
        "id": "fBciuaIeDEXr",
        "outputId": "1ab3d1ad-2863-4f58-b7ee-6c3a63b94ee6"
      },
      "execution_count": 437,
      "outputs": [
        {
          "output_type": "stream",
          "name": "stdout",
          "text": [
            "X_train (data latih fitur): (648, 8)\n",
            "X_test (data uji fitur): (163, 8)\n",
            "y_train (data latih target): (648,)\n",
            "y_test (data uji target): (163,)\n"
          ]
        }
      ]
    },
    {
      "cell_type": "code",
      "source": [
        "df.head()"
      ],
      "metadata": {
        "colab": {
          "base_uri": "https://localhost:8080/",
          "height": 292
        },
        "id": "6R-ECY59jvUg",
        "outputId": "55d0bb66-c0d8-4ea0-ed7b-15ae54c6132a"
      },
      "execution_count": 438,
      "outputs": [
        {
          "output_type": "execute_result",
          "data": {
            "text/plain": [
              "       Kategori           Nama_minuman Nutri_Score  Energy (Per 100 ml)  \\\n",
              "0  fruit-juices            Cappy pulpy           e                155.0   \n",
              "1  fruit-juices                PRESSup           c                226.0   \n",
              "2  fruit-juices               Press up           c                226.0   \n",
              "3  fruit-juices  Shot de gingembre bio           c                142.0   \n",
              "4  fruit-juices                  Jutos           d                 66.8   \n",
              "\n",
              "   Fat (Per 100 ml)  Saturated fat (Per 100 ml)  Carbohydrates (Per 100 ml)  \\\n",
              "0               0.0                         0.0                         9.0   \n",
              "1               0.1                         0.0                        13.0   \n",
              "2               0.1                         0.0                        13.0   \n",
              "3               0.5                         0.1                         7.9   \n",
              "4               0.0                         0.0                        10.0   \n",
              "\n",
              "   Sugars (Per 100 ml)  Fiber (Per 100 ml)  Proteins (Per 100 ml)  \\\n",
              "0                  7.0              0.3165                    0.0   \n",
              "1                  5.5              0.1000                    0.4   \n",
              "2                  5.5              0.1000                    0.4   \n",
              "3                  7.6              0.0000                    0.5   \n",
              "4                  8.0              0.0000                    0.0   \n",
              "\n",
              "   Salt (Per 100 ml)  \n",
              "0           0.050000  \n",
              "1           0.000003  \n",
              "2           0.002500  \n",
              "3           0.010000  \n",
              "4           0.050000  "
            ],
            "text/html": [
              "\n",
              "  <div id=\"df-51bc4630-b9b5-4666-bbba-9a718179dc9d\" class=\"colab-df-container\">\n",
              "    <div>\n",
              "<style scoped>\n",
              "    .dataframe tbody tr th:only-of-type {\n",
              "        vertical-align: middle;\n",
              "    }\n",
              "\n",
              "    .dataframe tbody tr th {\n",
              "        vertical-align: top;\n",
              "    }\n",
              "\n",
              "    .dataframe thead th {\n",
              "        text-align: right;\n",
              "    }\n",
              "</style>\n",
              "<table border=\"1\" class=\"dataframe\">\n",
              "  <thead>\n",
              "    <tr style=\"text-align: right;\">\n",
              "      <th></th>\n",
              "      <th>Kategori</th>\n",
              "      <th>Nama_minuman</th>\n",
              "      <th>Nutri_Score</th>\n",
              "      <th>Energy (Per 100 ml)</th>\n",
              "      <th>Fat (Per 100 ml)</th>\n",
              "      <th>Saturated fat (Per 100 ml)</th>\n",
              "      <th>Carbohydrates (Per 100 ml)</th>\n",
              "      <th>Sugars (Per 100 ml)</th>\n",
              "      <th>Fiber (Per 100 ml)</th>\n",
              "      <th>Proteins (Per 100 ml)</th>\n",
              "      <th>Salt (Per 100 ml)</th>\n",
              "    </tr>\n",
              "  </thead>\n",
              "  <tbody>\n",
              "    <tr>\n",
              "      <th>0</th>\n",
              "      <td>fruit-juices</td>\n",
              "      <td>Cappy pulpy</td>\n",
              "      <td>e</td>\n",
              "      <td>155.0</td>\n",
              "      <td>0.0</td>\n",
              "      <td>0.0</td>\n",
              "      <td>9.0</td>\n",
              "      <td>7.0</td>\n",
              "      <td>0.3165</td>\n",
              "      <td>0.0</td>\n",
              "      <td>0.050000</td>\n",
              "    </tr>\n",
              "    <tr>\n",
              "      <th>1</th>\n",
              "      <td>fruit-juices</td>\n",
              "      <td>PRESSup</td>\n",
              "      <td>c</td>\n",
              "      <td>226.0</td>\n",
              "      <td>0.1</td>\n",
              "      <td>0.0</td>\n",
              "      <td>13.0</td>\n",
              "      <td>5.5</td>\n",
              "      <td>0.1000</td>\n",
              "      <td>0.4</td>\n",
              "      <td>0.000003</td>\n",
              "    </tr>\n",
              "    <tr>\n",
              "      <th>2</th>\n",
              "      <td>fruit-juices</td>\n",
              "      <td>Press up</td>\n",
              "      <td>c</td>\n",
              "      <td>226.0</td>\n",
              "      <td>0.1</td>\n",
              "      <td>0.0</td>\n",
              "      <td>13.0</td>\n",
              "      <td>5.5</td>\n",
              "      <td>0.1000</td>\n",
              "      <td>0.4</td>\n",
              "      <td>0.002500</td>\n",
              "    </tr>\n",
              "    <tr>\n",
              "      <th>3</th>\n",
              "      <td>fruit-juices</td>\n",
              "      <td>Shot de gingembre bio</td>\n",
              "      <td>c</td>\n",
              "      <td>142.0</td>\n",
              "      <td>0.5</td>\n",
              "      <td>0.1</td>\n",
              "      <td>7.9</td>\n",
              "      <td>7.6</td>\n",
              "      <td>0.0000</td>\n",
              "      <td>0.5</td>\n",
              "      <td>0.010000</td>\n",
              "    </tr>\n",
              "    <tr>\n",
              "      <th>4</th>\n",
              "      <td>fruit-juices</td>\n",
              "      <td>Jutos</td>\n",
              "      <td>d</td>\n",
              "      <td>66.8</td>\n",
              "      <td>0.0</td>\n",
              "      <td>0.0</td>\n",
              "      <td>10.0</td>\n",
              "      <td>8.0</td>\n",
              "      <td>0.0000</td>\n",
              "      <td>0.0</td>\n",
              "      <td>0.050000</td>\n",
              "    </tr>\n",
              "  </tbody>\n",
              "</table>\n",
              "</div>\n",
              "    <div class=\"colab-df-buttons\">\n",
              "\n",
              "  <div class=\"colab-df-container\">\n",
              "    <button class=\"colab-df-convert\" onclick=\"convertToInteractive('df-51bc4630-b9b5-4666-bbba-9a718179dc9d')\"\n",
              "            title=\"Convert this dataframe to an interactive table.\"\n",
              "            style=\"display:none;\">\n",
              "\n",
              "  <svg xmlns=\"http://www.w3.org/2000/svg\" height=\"24px\" viewBox=\"0 -960 960 960\">\n",
              "    <path d=\"M120-120v-720h720v720H120Zm60-500h600v-160H180v160Zm220 220h160v-160H400v160Zm0 220h160v-160H400v160ZM180-400h160v-160H180v160Zm440 0h160v-160H620v160ZM180-180h160v-160H180v160Zm440 0h160v-160H620v160Z\"/>\n",
              "  </svg>\n",
              "    </button>\n",
              "\n",
              "  <style>\n",
              "    .colab-df-container {\n",
              "      display:flex;\n",
              "      gap: 12px;\n",
              "    }\n",
              "\n",
              "    .colab-df-convert {\n",
              "      background-color: #E8F0FE;\n",
              "      border: none;\n",
              "      border-radius: 50%;\n",
              "      cursor: pointer;\n",
              "      display: none;\n",
              "      fill: #1967D2;\n",
              "      height: 32px;\n",
              "      padding: 0 0 0 0;\n",
              "      width: 32px;\n",
              "    }\n",
              "\n",
              "    .colab-df-convert:hover {\n",
              "      background-color: #E2EBFA;\n",
              "      box-shadow: 0px 1px 2px rgba(60, 64, 67, 0.3), 0px 1px 3px 1px rgba(60, 64, 67, 0.15);\n",
              "      fill: #174EA6;\n",
              "    }\n",
              "\n",
              "    .colab-df-buttons div {\n",
              "      margin-bottom: 4px;\n",
              "    }\n",
              "\n",
              "    [theme=dark] .colab-df-convert {\n",
              "      background-color: #3B4455;\n",
              "      fill: #D2E3FC;\n",
              "    }\n",
              "\n",
              "    [theme=dark] .colab-df-convert:hover {\n",
              "      background-color: #434B5C;\n",
              "      box-shadow: 0px 1px 3px 1px rgba(0, 0, 0, 0.15);\n",
              "      filter: drop-shadow(0px 1px 2px rgba(0, 0, 0, 0.3));\n",
              "      fill: #FFFFFF;\n",
              "    }\n",
              "  </style>\n",
              "\n",
              "    <script>\n",
              "      const buttonEl =\n",
              "        document.querySelector('#df-51bc4630-b9b5-4666-bbba-9a718179dc9d button.colab-df-convert');\n",
              "      buttonEl.style.display =\n",
              "        google.colab.kernel.accessAllowed ? 'block' : 'none';\n",
              "\n",
              "      async function convertToInteractive(key) {\n",
              "        const element = document.querySelector('#df-51bc4630-b9b5-4666-bbba-9a718179dc9d');\n",
              "        const dataTable =\n",
              "          await google.colab.kernel.invokeFunction('convertToInteractive',\n",
              "                                                    [key], {});\n",
              "        if (!dataTable) return;\n",
              "\n",
              "        const docLinkHtml = 'Like what you see? Visit the ' +\n",
              "          '<a target=\"_blank\" href=https://colab.research.google.com/notebooks/data_table.ipynb>data table notebook</a>'\n",
              "          + ' to learn more about interactive tables.';\n",
              "        element.innerHTML = '';\n",
              "        dataTable['output_type'] = 'display_data';\n",
              "        await google.colab.output.renderOutput(dataTable, element);\n",
              "        const docLink = document.createElement('div');\n",
              "        docLink.innerHTML = docLinkHtml;\n",
              "        element.appendChild(docLink);\n",
              "      }\n",
              "    </script>\n",
              "  </div>\n",
              "\n",
              "\n",
              "    <div id=\"df-4ad8aedb-488b-4695-8507-8334453dc432\">\n",
              "      <button class=\"colab-df-quickchart\" onclick=\"quickchart('df-4ad8aedb-488b-4695-8507-8334453dc432')\"\n",
              "                title=\"Suggest charts\"\n",
              "                style=\"display:none;\">\n",
              "\n",
              "<svg xmlns=\"http://www.w3.org/2000/svg\" height=\"24px\"viewBox=\"0 0 24 24\"\n",
              "     width=\"24px\">\n",
              "    <g>\n",
              "        <path d=\"M19 3H5c-1.1 0-2 .9-2 2v14c0 1.1.9 2 2 2h14c1.1 0 2-.9 2-2V5c0-1.1-.9-2-2-2zM9 17H7v-7h2v7zm4 0h-2V7h2v10zm4 0h-2v-4h2v4z\"/>\n",
              "    </g>\n",
              "</svg>\n",
              "      </button>\n",
              "\n",
              "<style>\n",
              "  .colab-df-quickchart {\n",
              "      --bg-color: #E8F0FE;\n",
              "      --fill-color: #1967D2;\n",
              "      --hover-bg-color: #E2EBFA;\n",
              "      --hover-fill-color: #174EA6;\n",
              "      --disabled-fill-color: #AAA;\n",
              "      --disabled-bg-color: #DDD;\n",
              "  }\n",
              "\n",
              "  [theme=dark] .colab-df-quickchart {\n",
              "      --bg-color: #3B4455;\n",
              "      --fill-color: #D2E3FC;\n",
              "      --hover-bg-color: #434B5C;\n",
              "      --hover-fill-color: #FFFFFF;\n",
              "      --disabled-bg-color: #3B4455;\n",
              "      --disabled-fill-color: #666;\n",
              "  }\n",
              "\n",
              "  .colab-df-quickchart {\n",
              "    background-color: var(--bg-color);\n",
              "    border: none;\n",
              "    border-radius: 50%;\n",
              "    cursor: pointer;\n",
              "    display: none;\n",
              "    fill: var(--fill-color);\n",
              "    height: 32px;\n",
              "    padding: 0;\n",
              "    width: 32px;\n",
              "  }\n",
              "\n",
              "  .colab-df-quickchart:hover {\n",
              "    background-color: var(--hover-bg-color);\n",
              "    box-shadow: 0 1px 2px rgba(60, 64, 67, 0.3), 0 1px 3px 1px rgba(60, 64, 67, 0.15);\n",
              "    fill: var(--button-hover-fill-color);\n",
              "  }\n",
              "\n",
              "  .colab-df-quickchart-complete:disabled,\n",
              "  .colab-df-quickchart-complete:disabled:hover {\n",
              "    background-color: var(--disabled-bg-color);\n",
              "    fill: var(--disabled-fill-color);\n",
              "    box-shadow: none;\n",
              "  }\n",
              "\n",
              "  .colab-df-spinner {\n",
              "    border: 2px solid var(--fill-color);\n",
              "    border-color: transparent;\n",
              "    border-bottom-color: var(--fill-color);\n",
              "    animation:\n",
              "      spin 1s steps(1) infinite;\n",
              "  }\n",
              "\n",
              "  @keyframes spin {\n",
              "    0% {\n",
              "      border-color: transparent;\n",
              "      border-bottom-color: var(--fill-color);\n",
              "      border-left-color: var(--fill-color);\n",
              "    }\n",
              "    20% {\n",
              "      border-color: transparent;\n",
              "      border-left-color: var(--fill-color);\n",
              "      border-top-color: var(--fill-color);\n",
              "    }\n",
              "    30% {\n",
              "      border-color: transparent;\n",
              "      border-left-color: var(--fill-color);\n",
              "      border-top-color: var(--fill-color);\n",
              "      border-right-color: var(--fill-color);\n",
              "    }\n",
              "    40% {\n",
              "      border-color: transparent;\n",
              "      border-right-color: var(--fill-color);\n",
              "      border-top-color: var(--fill-color);\n",
              "    }\n",
              "    60% {\n",
              "      border-color: transparent;\n",
              "      border-right-color: var(--fill-color);\n",
              "    }\n",
              "    80% {\n",
              "      border-color: transparent;\n",
              "      border-right-color: var(--fill-color);\n",
              "      border-bottom-color: var(--fill-color);\n",
              "    }\n",
              "    90% {\n",
              "      border-color: transparent;\n",
              "      border-bottom-color: var(--fill-color);\n",
              "    }\n",
              "  }\n",
              "</style>\n",
              "\n",
              "      <script>\n",
              "        async function quickchart(key) {\n",
              "          const quickchartButtonEl =\n",
              "            document.querySelector('#' + key + ' button');\n",
              "          quickchartButtonEl.disabled = true;  // To prevent multiple clicks.\n",
              "          quickchartButtonEl.classList.add('colab-df-spinner');\n",
              "          try {\n",
              "            const charts = await google.colab.kernel.invokeFunction(\n",
              "                'suggestCharts', [key], {});\n",
              "          } catch (error) {\n",
              "            console.error('Error during call to suggestCharts:', error);\n",
              "          }\n",
              "          quickchartButtonEl.classList.remove('colab-df-spinner');\n",
              "          quickchartButtonEl.classList.add('colab-df-quickchart-complete');\n",
              "        }\n",
              "        (() => {\n",
              "          let quickchartButtonEl =\n",
              "            document.querySelector('#df-4ad8aedb-488b-4695-8507-8334453dc432 button');\n",
              "          quickchartButtonEl.style.display =\n",
              "            google.colab.kernel.accessAllowed ? 'block' : 'none';\n",
              "        })();\n",
              "      </script>\n",
              "    </div>\n",
              "\n",
              "    </div>\n",
              "  </div>\n"
            ],
            "application/vnd.google.colaboratory.intrinsic+json": {
              "type": "dataframe",
              "variable_name": "df",
              "summary": "{\n  \"name\": \"df\",\n  \"rows\": 811,\n  \"fields\": [\n    {\n      \"column\": \"Kategori\",\n      \"properties\": {\n        \"dtype\": \"category\",\n        \"num_unique_values\": 10,\n        \"samples\": [\n          \"fermented-drinks\",\n          \"energy-drinks\",\n          \"iced-teas\"\n        ],\n        \"semantic_type\": \"\",\n        \"description\": \"\"\n      }\n    },\n    {\n      \"column\": \"Nama_minuman\",\n      \"properties\": {\n        \"dtype\": \"string\",\n        \"num_unique_values\": 642,\n        \"samples\": [\n          \"Red Bull Original\",\n          \"Organic Oat drink\",\n          \"CRISTALINE Eau de Source au jus de fruitsTROPICAL 1.5L\"\n        ],\n        \"semantic_type\": \"\",\n        \"description\": \"\"\n      }\n    },\n    {\n      \"column\": \"Nutri_Score\",\n      \"properties\": {\n        \"dtype\": \"category\",\n        \"num_unique_values\": 4,\n        \"samples\": [\n          \"c\",\n          \"b\",\n          \"e\"\n        ],\n        \"semantic_type\": \"\",\n        \"description\": \"\"\n      }\n    },\n    {\n      \"column\": \"Energy (Per 100 ml)\",\n      \"properties\": {\n        \"dtype\": \"number\",\n        \"std\": 196.42581215793587,\n        \"min\": 0.0,\n        \"max\": 1833.0,\n        \"num_unique_values\": 253,\n        \"samples\": [\n          398.0,\n          157.0,\n          57.0\n        ],\n        \"semantic_type\": \"\",\n        \"description\": \"\"\n      }\n    },\n    {\n      \"column\": \"Fat (Per 100 ml)\",\n      \"properties\": {\n        \"dtype\": \"number\",\n        \"std\": 3.088349192255005,\n        \"min\": 0.0,\n        \"max\": 25.0,\n        \"num_unique_values\": 80,\n        \"samples\": [\n          4.0,\n          0.0,\n          1.2\n        ],\n        \"semantic_type\": \"\",\n        \"description\": \"\"\n      }\n    },\n    {\n      \"column\": \"Saturated fat (Per 100 ml)\",\n      \"properties\": {\n        \"dtype\": \"number\",\n        \"std\": 2.6212243332830902,\n        \"min\": 0.0,\n        \"max\": 24.0,\n        \"num_unique_values\": 62,\n        \"samples\": [\n          2.5,\n          0.04,\n          0.0\n        ],\n        \"semantic_type\": \"\",\n        \"description\": \"\"\n      }\n    },\n    {\n      \"column\": \"Carbohydrates (Per 100 ml)\",\n      \"properties\": {\n        \"dtype\": \"number\",\n        \"std\": 8.047920235595669,\n        \"min\": 0.0,\n        \"max\": 83.0,\n        \"num_unique_values\": 159,\n        \"samples\": [\n          5.4,\n          13.6,\n          13.771186440678\n        ],\n        \"semantic_type\": \"\",\n        \"description\": \"\"\n      }\n    },\n    {\n      \"column\": \"Sugars (Per 100 ml)\",\n      \"properties\": {\n        \"dtype\": \"number\",\n        \"std\": 5.659199935219774,\n        \"min\": 0.0,\n        \"max\": 72.0,\n        \"num_unique_values\": 146,\n        \"samples\": [\n          8.4,\n          72.0,\n          4.2\n        ],\n        \"semantic_type\": \"\",\n        \"description\": \"\"\n      }\n    },\n    {\n      \"column\": \"Fiber (Per 100 ml)\",\n      \"properties\": {\n        \"dtype\": \"number\",\n        \"std\": 214594734869.51117,\n        \"min\": 0.0,\n        \"max\": 6111242106933.0,\n        \"num_unique_values\": 49,\n        \"samples\": [\n          0.01,\n          0.88,\n          0.87\n        ],\n        \"semantic_type\": \"\",\n        \"description\": \"\"\n      }\n    },\n    {\n      \"column\": \"Proteins (Per 100 ml)\",\n      \"properties\": {\n        \"dtype\": \"number\",\n        \"std\": 1.7108516915715464,\n        \"min\": 0.0,\n        \"max\": 17.4,\n        \"num_unique_values\": 85,\n        \"samples\": [\n          0.667,\n          0.0,\n          8.0\n        ],\n        \"semantic_type\": \"\",\n        \"description\": \"\"\n      }\n    },\n    {\n      \"column\": \"Salt (Per 100 ml)\",\n      \"properties\": {\n        \"dtype\": \"number\",\n        \"std\": 0.8436519103789842,\n        \"min\": 0.0,\n        \"max\": 20.0,\n        \"num_unique_values\": 106,\n        \"samples\": [\n          0.008,\n          0.1,\n          0.0\n        ],\n        \"semantic_type\": \"\",\n        \"description\": \"\"\n      }\n    }\n  ]\n}"
            }
          },
          "metadata": {},
          "execution_count": 438
        }
      ]
    },
    {
      "cell_type": "markdown",
      "source": [
        "**Training Model**\n",
        "---"
      ],
      "metadata": {
        "id": "6QkPTmCbngTJ"
      }
    },
    {
      "cell_type": "markdown",
      "source": [
        "Decision Tree\n",
        "---"
      ],
      "metadata": {
        "id": "6dyIa8VbnrTK"
      }
    },
    {
      "cell_type": "code",
      "source": [
        "from sklearn.tree import DecisionTreeClassifier\n",
        "from sklearn.metrics import accuracy_score, precision_score, recall_score, f1_score, confusion_matrix\n",
        "\n",
        "dtc_model = DecisionTreeClassifier(criterion='gini', random_state=42, max_depth=17)\n",
        "dtc_model.fit(X_train, y_train)\n",
        "\n",
        "# predict\n",
        "y_pred_dtc = dtc_model.predict(X_test)\n",
        "\n",
        "# accuracy\n",
        "dt_accuracy = round(accuracy_score(y_test, y_pred_dtc), 4) * 100\n",
        "print(f\"Akurasi Model: {dt_accuracy}%\")"
      ],
      "metadata": {
        "colab": {
          "base_uri": "https://localhost:8080/"
        },
        "id": "Mjh0kwr2vWk1",
        "outputId": "b215ac4d-64bc-4713-b5aa-e72601da1446"
      },
      "execution_count": 464,
      "outputs": [
        {
          "output_type": "stream",
          "name": "stdout",
          "text": [
            "Akurasi Model: 76.07000000000001%\n"
          ]
        }
      ]
    },
    {
      "cell_type": "code",
      "source": [
        "# max depth optimal\n",
        "for i in [11,13,15,17,19]:\n",
        "    check = DecisionTreeClassifier(criterion='gini',random_state=42, max_depth=i)\n",
        "    check.fit(X_train, y_train)\n",
        "    y_pred_check= check.predict(X_test)\n",
        "    print(f\"Akurasi max depth {i} = {accuracy_score(y_test,y_pred_check)}\")"
      ],
      "metadata": {
        "colab": {
          "base_uri": "https://localhost:8080/"
        },
        "id": "7yBRZRGpwWYR",
        "outputId": "d0e123ea-2721-45fc-b526-e1d2998d0d9f"
      },
      "execution_count": 465,
      "outputs": [
        {
          "output_type": "stream",
          "name": "stdout",
          "text": [
            "Akurasi max depth 11 = 0.7116564417177914\n",
            "Akurasi max depth 13 = 0.7361963190184049\n",
            "Akurasi max depth 15 = 0.7484662576687117\n",
            "Akurasi max depth 17 = 0.7607361963190185\n",
            "Akurasi max depth 19 = 0.7607361963190185\n"
          ]
        }
      ]
    },
    {
      "cell_type": "code",
      "source": [
        "import matplotlib.pyplot as plt\n",
        "import seaborn as sns\n",
        "\n",
        "cm = confusion_matrix(y_test, y_pred_dtc)\n",
        "\n",
        "plt.figure(figsize=(10, 7))\n",
        "sns.heatmap(cm, annot=True, fmt='d', cmap='Blues')\n",
        "plt.xlabel('Predicted')\n",
        "plt.ylabel('Actual')\n",
        "plt.title('Confusion Matrix')\n",
        "plt.show()"
      ],
      "metadata": {
        "colab": {
          "base_uri": "https://localhost:8080/",
          "height": 641
        },
        "id": "quNQxbvNNYos",
        "outputId": "8864cdae-6a08-4355-e4f4-061c2f7e68f0"
      },
      "execution_count": 466,
      "outputs": [
        {
          "output_type": "display_data",
          "data": {
            "text/plain": [
              "<Figure size 1000x700 with 2 Axes>"
            ],
            "image/png": "[encoded data removed]"
          },
          "metadata": {}
        }
      ]
    },
    {
      "cell_type": "code",
      "source": [
        "accuracy = accuracy_score(y_test, y_pred_dtc)\n",
        "precision = precision_score(y_test, y_pred_dtc, average='macro')\n",
        "recall = recall_score(y_test, y_pred_dtc, average='macro')\n",
        "f1 = f1_score(y_test, y_pred_dtc, average='macro')\n",
        "\n",
        "print(f\"Accuracy: {accuracy}\")\n",
        "print(f\"Precision: {precision}\")\n",
        "print(f\"Recall: {recall}\")\n",
        "print(f\"F1-Score: {f1:.4f}\")"
      ],
      "metadata": {
        "colab": {
          "base_uri": "https://localhost:8080/"
        },
        "id": "CwcgQBJyNy1U",
        "outputId": "a26466a0-2410-42b4-c99d-0144d96745a8"
      },
      "execution_count": 467,
      "outputs": [
        {
          "output_type": "stream",
          "name": "stdout",
          "text": [
            "Accuracy: 0.7607361963190185\n",
            "Precision: 0.7566432090077411\n",
            "Recall: 0.7677974324526049\n",
            "F1-Score: 0.7581\n"
          ]
        }
      ]
    },
    {
      "cell_type": "code",
      "source": [
        "feature_importances = dtc_model.feature_importances_\n",
        "\n",
        "plt.figure(figsize=(10, 6))\n",
        "plt.barh(X.columns, feature_importances, align='center')\n",
        "plt.xlabel('Importance')\n",
        "plt.title('Feature Importances')\n",
        "plt.show()"
      ],
      "metadata": {
        "colab": {
          "base_uri": "https://localhost:8080/",
          "height": 456
        },
        "id": "viaCpMZTOCBb",
        "outputId": "ef21b3f1-403e-4fd9-dc2e-c792688d7b0b"
      },
      "execution_count": 468,
      "outputs": [
        {
          "output_type": "display_data",
          "data": {
            "text/plain": [
              "<Figure size 1000x600 with 1 Axes>"
            ],
            "image/png": "[encoded data removed]"
          },
          "metadata": {}
        }
      ]
    },
    {
      "cell_type": "markdown",
      "source": [
        "KNN\n",
        "---"
      ],
      "metadata": {
        "id": "Y7DChYfWLjHb"
      }
    },
    {
      "cell_type": "code",
      "source": [
        "from sklearn.neighbors import KNeighborsClassifier\n",
        "from sklearn.metrics import accuracy_score, precision_score, recall_score, f1_score, confusion_matrix\n",
        "\n",
        "k_initial = 1\n",
        "\n",
        "knn_model = KNeighborsClassifier(n_neighbors = k_initial)\n",
        "\n",
        "knn_model.fit(X_train, y_train)\n",
        "\n",
        "# predict\n",
        "y_pred_knn = knn_model.predict(X_test)\n",
        "\n",
        "# accuracy\n",
        "knn_accuracy = round(accuracy_score(y_test, y_pred_knn), 4) * 100\n",
        "\n",
        "print(f\"Akurasi Model: {knn_accuracy}%\")\n",
        "\n",
        "cm = confusion_matrix(y_test, y_pred_knn)"
      ],
      "metadata": {
        "colab": {
          "base_uri": "https://localhost:8080/"
        },
        "id": "m6Z9g-hlKKsw",
        "outputId": "03627475-8b8c-4363-e224-4d4fb8c1ac38"
      },
      "execution_count": 444,
      "outputs": [
        {
          "output_type": "stream",
          "name": "stdout",
          "text": [
            "Akurasi Model: 80.97999999999999%\n"
          ]
        }
      ]
    },
    {
      "cell_type": "code",
      "source": [
        "import matplotlib.pyplot as plt\n",
        "import seaborn as sns\n",
        "\n",
        "cm = confusion_matrix(y_test, y_pred_knn)\n",
        "\n",
        "plt.figure(figsize=(10, 7))\n",
        "sns.heatmap(cm, annot=True, fmt='d', cmap='Blues')\n",
        "plt.xlabel('Predicted')\n",
        "plt.ylabel('Actual')\n",
        "plt.title('Confusion Matrix')\n",
        "plt.show()"
      ],
      "metadata": {
        "colab": {
          "base_uri": "https://localhost:8080/",
          "height": 641
        },
        "id": "lNXb0791Mdiw",
        "outputId": "4e7ec018-3d45-45a1-ddba-76a78a5ef903"
      },
      "execution_count": 445,
      "outputs": [
        {
          "output_type": "display_data",
          "data": {
            "text/plain": [
              "<Figure size 1000x700 with 2 Axes>"
            ],
            "image/png": "[encoded data removed]"
          },
          "metadata": {}
        }
      ]
    },
    {
      "cell_type": "code",
      "source": [
        "accuracy = accuracy_score(y_test, y_pred_knn)\n",
        "precision = precision_score(y_test, y_pred_knn, average='macro')\n",
        "recall = recall_score(y_test, y_pred_knn, average='macro')\n",
        "f1 = f1_score(y_test, y_pred_knn, average='macro')\n",
        "\n",
        "print(f\"Accuracy: {accuracy}\")\n",
        "print(f\"Precision: {precision}\")\n",
        "print(f\"Recall: {recall}\")\n",
        "print(f\"F1-Score: {f1:.4f}\")"
      ],
      "metadata": {
        "colab": {
          "base_uri": "https://localhost:8080/"
        },
        "id": "dWDGxp0kNG-0",
        "outputId": "4e8a0da0-69dd-4ec1-8276-a315f0a40769"
      },
      "execution_count": 446,
      "outputs": [
        {
          "output_type": "stream",
          "name": "stdout",
          "text": [
            "Accuracy: 0.8098159509202454\n",
            "Precision: 0.8076862323876919\n",
            "Recall: 0.8394797731004628\n",
            "F1-Score: 0.8145\n"
          ]
        }
      ]
    },
    {
      "cell_type": "markdown",
      "source": [
        "Random Forest\n",
        "---"
      ],
      "metadata": {
        "id": "V66JfqEPjCdd"
      }
    },
    {
      "cell_type": "code",
      "source": [
        "from sklearn.ensemble import RandomForestClassifier\n",
        "from sklearn.metrics import accuracy_score, precision_score, recall_score, f1_score, confusion_matrix\n",
        "\n",
        "rf_model = RandomForestClassifier(criterion='gini', random_state=42, max_depth=19)\n",
        "rf_model.fit(X_train, y_train)\n",
        "\n",
        "# predict\n",
        "y_pred_rf = rf_model.predict(X_test)\n",
        "\n",
        "# accuracy\n",
        "rf_accuracy = round(accuracy_score(y_test, y_pred_rf), 4) * 100\n",
        "print(f\"Akurasi Model: {rf_accuracy}%\")"
      ],
      "metadata": {
        "colab": {
          "base_uri": "https://localhost:8080/"
        },
        "id": "9WeaeviZivms",
        "outputId": "9e6916b1-aaa5-4bb0-f4aa-a4567802492c"
      },
      "execution_count": 469,
      "outputs": [
        {
          "output_type": "stream",
          "name": "stdout",
          "text": [
            "Akurasi Model: 84.66%\n"
          ]
        }
      ]
    },
    {
      "cell_type": "code",
      "source": [
        "for i in [7,9,11,13,15,17,19,21]:\n",
        "    check = RandomForestClassifier(criterion='gini',random_state=42, max_depth=i)\n",
        "    check.fit(X_train, y_train)\n",
        "    y_pred_check= check.predict(X_test)\n",
        "    print(f\"Akurasi max depth {i} = {accuracy_score(y_test,y_pred_check)}\")"
      ],
      "metadata": {
        "colab": {
          "base_uri": "https://localhost:8080/"
        },
        "id": "ys3uXLxpi4RV",
        "outputId": "1fadeb60-2a42-4102-b740-0a02e43860e7"
      },
      "execution_count": 470,
      "outputs": [
        {
          "output_type": "stream",
          "name": "stdout",
          "text": [
            "Akurasi max depth 7 = 0.7668711656441718\n",
            "Akurasi max depth 9 = 0.803680981595092\n",
            "Akurasi max depth 11 = 0.8220858895705522\n",
            "Akurasi max depth 13 = 0.8282208588957055\n",
            "Akurasi max depth 15 = 0.8343558282208589\n",
            "Akurasi max depth 17 = 0.8404907975460123\n",
            "Akurasi max depth 19 = 0.8466257668711656\n",
            "Akurasi max depth 21 = 0.8282208588957055\n"
          ]
        }
      ]
    },
    {
      "cell_type": "code",
      "source": [
        "cm = confusion_matrix(y_test, y_pred_rf)\n",
        "\n",
        "plt.figure(figsize=(10, 7))\n",
        "sns.heatmap(cm, annot=True, fmt='d', cmap='Blues')\n",
        "plt.xlabel('Predicted')\n",
        "plt.ylabel('Actual')\n",
        "plt.title('Confusion Matrix')\n",
        "plt.show()"
      ],
      "metadata": {
        "colab": {
          "base_uri": "https://localhost:8080/",
          "height": 641
        },
        "id": "4F-xbtDvjMm4",
        "outputId": "e31fc03e-781f-474e-acaa-87d4478a7785"
      },
      "execution_count": 471,
      "outputs": [
        {
          "output_type": "display_data",
          "data": {
            "text/plain": [
              "<Figure size 1000x700 with 2 Axes>"
            ],
            "image/png": "[encoded data removed]"
          },
          "metadata": {}
        }
      ]
    },
    {
      "cell_type": "code",
      "source": [
        "accuracy = accuracy_score(y_test, y_pred_rf)\n",
        "precision = precision_score(y_test, y_pred_rf, average='macro')\n",
        "recall = recall_score(y_test, y_pred_rf, average='macro')\n",
        "f1 = f1_score(y_test, y_pred_rf, average='macro')\n",
        "\n",
        "print(f\"Accuracy: {accuracy}\")\n",
        "print(f\"Precision: {precision}\")\n",
        "print(f\"Recall: {recall}\")\n",
        "print(f\"F1-Score: {f1:.4f}\")"
      ],
      "metadata": {
        "colab": {
          "base_uri": "https://localhost:8080/"
        },
        "id": "IEjabkSjjR-J",
        "outputId": "e8970472-f304-4e90-9ec3-d10c0ca96952"
      },
      "execution_count": 472,
      "outputs": [
        {
          "output_type": "stream",
          "name": "stdout",
          "text": [
            "Accuracy: 0.8466257668711656\n",
            "Precision: 0.8495726794823939\n",
            "Recall: 0.8436035229138679\n",
            "F1-Score: 0.8452\n"
          ]
        }
      ]
    },
    {
      "cell_type": "code",
      "source": [
        "feature_importances = rf_model.feature_importances_\n",
        "\n",
        "plt.figure(figsize=(10, 6))\n",
        "plt.barh(X.columns, feature_importances, align='center')\n",
        "plt.xlabel('Importance')\n",
        "plt.title('Feature Importances')\n",
        "plt.show()"
      ],
      "metadata": {
        "colab": {
          "base_uri": "https://localhost:8080/",
          "height": 456
        },
        "id": "CxedhDk8jW8W",
        "outputId": "0b0933ae-dcfb-4080-c0dd-4badf5bd8d9d"
      },
      "execution_count": 473,
      "outputs": [
        {
          "output_type": "display_data",
          "data": {
            "text/plain": [
              "<Figure size 1000x600 with 1 Axes>"
            ],
            "image/png": "[encoded data removed]"
          },
          "metadata": {}
        }
      ]
    },
    {
      "cell_type": "markdown",
      "source": [
        "XGBoost\n",
        "---"
      ],
      "metadata": {
        "id": "Su_imAzuULLV"
      }
    },
    {
      "cell_type": "code",
      "source": [
        "from xgboost import XGBClassifier\n",
        "from sklearn.metrics import accuracy_score, precision_score, recall_score, f1_score, confusion_matrix\n",
        "\n",
        "xgb_model = XGBClassifier(random_state=42, max_depth=11)\n",
        "xgb_model.fit(X_train, y_train)\n",
        "\n",
        "# predict\n",
        "y_pred_xgb = xgb_model.predict(X_test)\n",
        "\n",
        "# accuracy\n",
        "xgb_accuracy = round(accuracy_score(y_test, y_pred_xgb), 4) * 100\n",
        "print(f\"Akurasi Model: {xgb_accuracy}%\")"
      ],
      "metadata": {
        "colab": {
          "base_uri": "https://localhost:8080/"
        },
        "id": "O8L1DWHMTSY5",
        "outputId": "76028fc0-e658-4d1c-8afb-cbb5a207f611"
      },
      "execution_count": 474,
      "outputs": [
        {
          "output_type": "stream",
          "name": "stdout",
          "text": [
            "Akurasi Model: 84.66%\n"
          ]
        }
      ]
    },
    {
      "cell_type": "code",
      "source": [
        "for i in [7,9,11,13,15,17,19]:\n",
        "    check = XGBClassifier(random_state=42, max_depth=i)\n",
        "    check.fit(X_train, y_train)\n",
        "    y_pred_check= check.predict(X_test)\n",
        "    print(f\"Akurasi max depth {i} = {accuracy_score(y_test,y_pred_check)}\")"
      ],
      "metadata": {
        "colab": {
          "base_uri": "https://localhost:8080/"
        },
        "id": "f8ToTQ8iT-4C",
        "outputId": "a5815a9d-1acd-4b07-a6d6-90c7299453ad"
      },
      "execution_count": 475,
      "outputs": [
        {
          "output_type": "stream",
          "name": "stdout",
          "text": [
            "Akurasi max depth 7 = 0.8343558282208589\n",
            "Akurasi max depth 9 = 0.8404907975460123\n",
            "Akurasi max depth 11 = 0.8466257668711656\n",
            "Akurasi max depth 13 = 0.8343558282208589\n",
            "Akurasi max depth 15 = 0.8404907975460123\n",
            "Akurasi max depth 17 = 0.8343558282208589\n",
            "Akurasi max depth 19 = 0.8220858895705522\n"
          ]
        }
      ]
    },
    {
      "cell_type": "code",
      "source": [
        "cm = confusion_matrix(y_test, y_pred_xgb)\n",
        "\n",
        "plt.figure(figsize=(10, 7))\n",
        "sns.heatmap(cm, annot=True, fmt='d', cmap='Blues')\n",
        "plt.xlabel('Predicted')\n",
        "plt.ylabel('Actual')\n",
        "plt.title('Confusion Matrix')\n",
        "plt.show()"
      ],
      "metadata": {
        "colab": {
          "base_uri": "https://localhost:8080/",
          "height": 641
        },
        "id": "Nf1Ht2P1VGya",
        "outputId": "0fb512c6-9b1b-4610-adfb-9023beff9fed"
      },
      "execution_count": 476,
      "outputs": [
        {
          "output_type": "display_data",
          "data": {
            "text/plain": [
              "<Figure size 1000x700 with 2 Axes>"
            ],
            "image/png": "[encoded data removed]"
          },
          "metadata": {}
        }
      ]
    },
    {
      "cell_type": "code",
      "source": [
        "accuracy = accuracy_score(y_test, y_pred_xgb)\n",
        "precision = precision_score(y_test, y_pred_xgb, average='macro')\n",
        "recall = recall_score(y_test, y_pred_xgb, average='macro')\n",
        "f1 = f1_score(y_test, y_pred_xgb, average='macro')\n",
        "\n",
        "print(f\"Accuracy: {accuracy}\")\n",
        "print(f\"Precision: {precision}\")\n",
        "print(f\"Recall: {recall}\")\n",
        "print(f\"F1-Score: {f1:.4f}\")"
      ],
      "metadata": {
        "colab": {
          "base_uri": "https://localhost:8080/"
        },
        "id": "41KyGzm6VL59",
        "outputId": "b6be2be7-eaa4-41f0-bf98-186c21efe803"
      },
      "execution_count": 477,
      "outputs": [
        {
          "output_type": "stream",
          "name": "stdout",
          "text": [
            "Accuracy: 0.8466257668711656\n",
            "Precision: 0.8395272316201704\n",
            "Recall: 0.8516494999253621\n",
            "F1-Score: 0.8430\n"
          ]
        }
      ]
    },
    {
      "cell_type": "code",
      "source": [
        "feature_importances = xgb_model.feature_importances_\n",
        "\n",
        "plt.figure(figsize=(10, 6))\n",
        "plt.barh(X.columns, feature_importances, align='center')\n",
        "plt.xlabel('Importance')\n",
        "plt.title('Feature Importances')\n",
        "plt.show()"
      ],
      "metadata": {
        "colab": {
          "base_uri": "https://localhost:8080/",
          "height": 456
        },
        "id": "xoH-Z3ilVQ98",
        "outputId": "b022d19c-09af-441c-a4eb-28453e7bb21a"
      },
      "execution_count": 478,
      "outputs": [
        {
          "output_type": "display_data",
          "data": {
            "text/plain": [
              "<Figure size 1000x600 with 1 Axes>"
            ],
            "image/png": "[encoded data removed]"
          },
          "metadata": {}
        }
      ]
    },
    {
      "cell_type": "markdown",
      "source": [
        "Logistic Regression\n",
        "---"
      ],
      "metadata": {
        "id": "Trhi5XK6RAXh"
      }
    },
    {
      "cell_type": "code",
      "source": [
        "from sklearn.linear_model import LogisticRegression\n",
        "from sklearn.metrics import accuracy_score, precision_score, recall_score, f1_score, confusion_matrix\n",
        "\n",
        "logreg_model = LogisticRegression(C=5, random_state=42, max_iter=1000)\n",
        "logreg_model.fit(X_train, y_train)\n",
        "\n",
        "# predict\n",
        "y_pred_logreg = logreg_model.predict(X_test)\n",
        "\n",
        "# accuracy\n",
        "logreg_accuracy = round(accuracy_score(y_test, y_pred_logreg), 4) * 100\n",
        "print(f\"Akurasi Model: {logreg_accuracy}%\")"
      ],
      "metadata": {
        "colab": {
          "base_uri": "https://localhost:8080/"
        },
        "id": "Xa4HLc0jPfEv",
        "outputId": "e39a035c-fef9-48a1-aff9-79a5366d6743"
      },
      "execution_count": 479,
      "outputs": [
        {
          "output_type": "stream",
          "name": "stdout",
          "text": [
            "Akurasi Model: 65.64%\n"
          ]
        }
      ]
    },
    {
      "cell_type": "code",
      "source": [
        "for c in [1,3,5,7,9,11]:\n",
        "    model = LogisticRegression(C=c, random_state=42, max_iter=1000)\n",
        "    model.fit(X_train, y_train)\n",
        "    y_pred = model.predict(X_test)\n",
        "    acc = accuracy_score(y_test, y_pred)\n",
        "    print(f\"Akurasi C={c} = {acc}\")"
      ],
      "metadata": {
        "colab": {
          "base_uri": "https://localhost:8080/"
        },
        "id": "mV0gLrvgQA9v",
        "outputId": "6309f711-7719-4de7-cfd1-b5d57f24c443"
      },
      "execution_count": 480,
      "outputs": [
        {
          "output_type": "stream",
          "name": "stdout",
          "text": [
            "Akurasi C=1 = 0.6441717791411042\n",
            "Akurasi C=3 = 0.6441717791411042\n",
            "Akurasi C=5 = 0.656441717791411\n",
            "Akurasi C=7 = 0.656441717791411\n",
            "Akurasi C=9 = 0.656441717791411\n",
            "Akurasi C=11 = 0.656441717791411\n"
          ]
        }
      ]
    },
    {
      "cell_type": "code",
      "source": [
        "cm = confusion_matrix(y_test, y_pred_logreg)\n",
        "\n",
        "plt.figure(figsize=(10, 7))\n",
        "sns.heatmap(cm, annot=True, fmt='d', cmap='Blues')\n",
        "plt.xlabel('Predicted')\n",
        "plt.ylabel('Actual')\n",
        "plt.title('Confusion Matrix')\n",
        "plt.show()"
      ],
      "metadata": {
        "colab": {
          "base_uri": "https://localhost:8080/",
          "height": 641
        },
        "id": "ihYCAFpWQvYT",
        "outputId": "b8b08154-9d1a-41ae-f591-155ba6aeafbb"
      },
      "execution_count": 481,
      "outputs": [
        {
          "output_type": "display_data",
          "data": {
            "text/plain": [
              "<Figure size 1000x700 with 2 Axes>"
            ],
            "image/png": "[encoded data removed]"
          },
          "metadata": {}
        }
      ]
    },
    {
      "cell_type": "code",
      "source": [
        "accuracy = accuracy_score(y_test, y_pred_logreg)\n",
        "precision = precision_score(y_test, y_pred_logreg, average='macro')\n",
        "recall = recall_score(y_test, y_pred_logreg, average='macro')\n",
        "f1 = f1_score(y_test, y_pred_logreg, average='macro')\n",
        "\n",
        "print(f\"Accuracy: {accuracy}\")\n",
        "print(f\"Precision: {precision}\")\n",
        "print(f\"Recall: {recall}\")\n",
        "print(f\"F1-Score: {f1:.4f}\")"
      ],
      "metadata": {
        "colab": {
          "base_uri": "https://localhost:8080/"
        },
        "id": "waVm7q4AQ0BZ",
        "outputId": "7f51eec5-86b5-4e5a-ecc2-dfe4b9f9804c"
      },
      "execution_count": 482,
      "outputs": [
        {
          "output_type": "stream",
          "name": "stdout",
          "text": [
            "Accuracy: 0.656441717791411\n",
            "Precision: 0.5785551176176176\n",
            "Recall: 0.6231004627556351\n",
            "F1-Score: 0.5832\n"
          ]
        }
      ]
    },
    {
      "cell_type": "code",
      "source": [
        "import matplotlib.pyplot as plt\n",
        "\n",
        "model_names = ['Decision Tree', 'KNN', 'Random Forest', 'XGBoost', 'Logistic Regression']\n",
        "model_accuracies = [dt_accuracy, knn_accuracy, rf_accuracy, xgb_accuracy, logreg_accuracy]\n",
        "\n",
        "plt.figure(figsize=(10, 6))\n",
        "bars = plt.bar(model_names, model_accuracies, color='skyblue', edgecolor='black')\n",
        "\n",
        "for bar in bars:\n",
        "    height = bar.get_height()\n",
        "    plt.text(bar.get_x() + bar.get_width()/2, height + 0.5, f'{height:.2f}%', ha='center', fontsize=10)\n",
        "\n",
        "plt.title('Akurasi Model', fontsize=14)\n",
        "plt.xlabel('Model', fontsize=12)\n",
        "plt.ylabel('Akurasi (%)', fontsize=12)\n",
        "plt.ylim(0, 110)\n",
        "plt.grid(axis='y', linestyle='--', alpha=0.7)\n",
        "\n",
        "plt.tight_layout()\n",
        "plt.show()"
      ],
      "metadata": {
        "colab": {
          "base_uri": "https://localhost:8080/",
          "height": 495
        },
        "id": "LPwkEODyddl2",
        "outputId": "d0b8d196-3dfa-4f21-b09b-26f5e206c113"
      },
      "execution_count": 483,
      "outputs": [
        {
          "output_type": "display_data",
          "data": {
            "text/plain": [
              "<Figure size 1000x600 with 1 Axes>"
            ],
            "image/png": "[encoded data removed]"
          },
          "metadata": {}
        }
      ]
    },
    {
      "cell_type": "markdown",
      "source": [
        "Parameter Tuning\n",
        "---"
      ],
      "metadata": {
        "id": "zouJ0AESZ3A0"
      }
    },
    {
      "cell_type": "markdown",
      "source": [
        "Decision Tree"
      ],
      "metadata": {
        "id": "oEgNYhYNatsv"
      }
    },
    {
      "cell_type": "code",
      "source": [
        "from sklearn.tree import DecisionTreeClassifier\n",
        "from sklearn.model_selection import GridSearchCV\n",
        "from sklearn.metrics import accuracy_score, precision_score, recall_score, f1_score, confusion_matrix\n",
        "\n",
        "param_grid = {\n",
        "    'criterion': ['gini', 'entropy'],\n",
        "    'max_depth': list(range(3, 21)),\n",
        "    'min_samples_split': [2, 5, 10]\n",
        "}\n",
        "\n",
        "dtc = DecisionTreeClassifier(random_state=42)\n",
        "\n",
        "grid_search = GridSearchCV(dtc, param_grid, cv=5, scoring='accuracy')\n",
        "grid_search.fit(X_train, y_train)\n",
        "\n",
        "best_model = grid_search.best_estimator_\n",
        "best_params = grid_search.best_params_\n",
        "\n",
        "y_pred = best_model.predict(X_test)\n",
        "\n",
        "dt_accuracy = round(accuracy_score(y_test, y_pred), 4) * 100\n",
        "print(f\"Parameter Terbaik: {best_params}\")\n",
        "print(f\"Akurasi Model Terbaik: {dt_accuracy}%\")\n",
        "\n",
        "print(\"Confusion Matrix:\\n\", confusion_matrix(y_test, y_pred))\n",
        "print(\"Precision:\", precision_score(y_test, y_pred, average='weighted'))\n",
        "print(\"Recall:\", recall_score(y_test, y_pred, average='weighted'))\n",
        "print(\"F1 Score:\", f1_score(y_test, y_pred, average='weighted'))"
      ],
      "metadata": {
        "colab": {
          "base_uri": "https://localhost:8080/"
        },
        "id": "ZDC1meJmaY2Z",
        "outputId": "ae08ce0e-f732-43f4-ec01-9997a7af040d"
      },
      "execution_count": 462,
      "outputs": [
        {
          "output_type": "stream",
          "name": "stdout",
          "text": [
            "Parameter Terbaik: {'criterion': 'entropy', 'max_depth': 18, 'min_samples_split': 2}\n",
            "Akurasi Model Terbaik: 79.75%\n",
            "Confusion Matrix:\n",
            " [[38  4  0  0]\n",
            " [ 6 43  4  5]\n",
            " [ 0  3 26  1]\n",
            " [ 0  8  2 23]]\n",
            "Precision: 0.7964425832259554\n",
            "Recall: 0.7975460122699386\n",
            "F1 Score: 0.7960824561968713\n"
          ]
        }
      ]
    },
    {
      "cell_type": "markdown",
      "source": [
        "KNN"
      ],
      "metadata": {
        "id": "M8xfPdhDaxok"
      }
    },
    {
      "cell_type": "code",
      "source": [
        "from sklearn.neighbors import KNeighborsClassifier\n",
        "from sklearn.metrics import accuracy_score, precision_score, recall_score, f1_score, confusion_matrix\n",
        "from sklearn.model_selection import GridSearchCV\n",
        "\n",
        "param_grid = {'n_neighbors': list(range(1, 21))}\n",
        "\n",
        "knn = KNeighborsClassifier()\n",
        "\n",
        "grid_search = GridSearchCV(knn, param_grid, cv=5, scoring='accuracy')\n",
        "grid_search.fit(X_train, y_train)\n",
        "\n",
        "best_k = grid_search.best_params_['n_neighbors']\n",
        "best_knn_model = grid_search.best_estimator_\n",
        "\n",
        "y_pred_knn = best_knn_model.predict(X_test)\n",
        "\n",
        "knn_accuracy = round(accuracy_score(y_test, y_pred_knn), 4) * 100\n",
        "print(f\"Best k (n_neighbors): {best_k}\")\n",
        "print(f\"Akurasi Model Terbaik: {knn_accuracy}%\")\n",
        "\n",
        "cm = confusion_matrix(y_test, y_pred_knn)\n",
        "print(\"Confusion Matrix:\\n\", cm)\n",
        "\n",
        "print(\"Precision:\", precision_score(y_test, y_pred_knn, average='weighted'))\n",
        "print(\"Recall:\", recall_score(y_test, y_pred_knn, average='weighted'))\n",
        "print(\"F1 Score:\", f1_score(y_test, y_pred_knn, average='weighted'))"
      ],
      "metadata": {
        "colab": {
          "base_uri": "https://localhost:8080/"
        },
        "id": "N6ktbchZakj7",
        "outputId": "74734db4-83db-4dd9-e7a9-70cf9b176e63"
      },
      "execution_count": 463,
      "outputs": [
        {
          "output_type": "stream",
          "name": "stdout",
          "text": [
            "Best k (n_neighbors): 1\n",
            "Akurasi Model Terbaik: 80.97999999999999%\n",
            "Confusion Matrix:\n",
            " [[40  2  0  0]\n",
            " [ 9 36  7  6]\n",
            " [ 0  0 29  1]\n",
            " [ 0  4  2 27]]\n",
            "Precision: 0.8165682159205302\n",
            "Recall: 0.8098159509202454\n",
            "F1 Score: 0.8028731726537897\n"
          ]
        }
      ]
    },
    {
      "cell_type": "markdown",
      "source": [
        "Random Forest"
      ],
      "metadata": {
        "id": "ixLADP9FbIJw"
      }
    },
    {
      "cell_type": "code",
      "source": [
        "from sklearn.ensemble import RandomForestClassifier\n",
        "from sklearn.model_selection import GridSearchCV\n",
        "from sklearn.metrics import accuracy_score, precision_score, recall_score, f1_score, confusion_matrix\n",
        "\n",
        "param_grid = {\n",
        "    'n_estimators': [50, 100, 150],\n",
        "    'criterion': ['gini', 'entropy'],\n",
        "    'max_depth': [10, 15, 20],\n",
        "    'min_samples_split': [2, 5, 10]\n",
        "}\n",
        "\n",
        "rf = RandomForestClassifier(random_state=42)\n",
        "\n",
        "grid_search = GridSearchCV(rf, param_grid, cv=5, scoring='accuracy', n_jobs=-1)\n",
        "grid_search.fit(X_train, y_train)\n",
        "\n",
        "best_rf = grid_search.best_estimator_\n",
        "best_params = grid_search.best_params_\n",
        "\n",
        "y_pred_rf = best_rf.predict(X_test)\n",
        "\n",
        "rf_accuracy = round(accuracy_score(y_test, y_pred_rf), 4) * 100\n",
        "print(f\"Parameter Terbaik: {best_params}\")\n",
        "print(f\"Akurasi Model Terbaik: {rf_accuracy}%\")\n",
        "\n",
        "print(\"Confusion Matrix:\\n\", confusion_matrix(y_test, y_pred_rf))\n",
        "print(\"Precision:\", precision_score(y_test, y_pred_rf, average='weighted'))\n",
        "print(\"Recall:\", recall_score(y_test, y_pred_rf, average='weighted'))\n",
        "print(\"F1 Score:\", f1_score(y_test, y_pred_rf, average='weighted'))"
      ],
      "metadata": {
        "colab": {
          "base_uri": "https://localhost:8080/"
        },
        "id": "MS_Cg_Eea81h",
        "outputId": "dd3fc066-4342-4e70-e279-8626c1d00e1f"
      },
      "execution_count": 423,
      "outputs": [
        {
          "output_type": "stream",
          "name": "stdout",
          "text": [
            "Parameter Terbaik: {'criterion': 'gini', 'max_depth': 20, 'min_samples_split': 5, 'n_estimators': 50}\n",
            "Akurasi Model Terbaik: 84.05%\n",
            "Confusion Matrix:\n",
            " [[42  0  0  0]\n",
            " [ 6 44  3  5]\n",
            " [ 0  3 24  3]\n",
            " [ 0  4  2 27]]\n",
            "Precision: 0.8409444463209443\n",
            "Recall: 0.8404907975460123\n",
            "F1 Score: 0.8382720864254762\n"
          ]
        }
      ]
    },
    {
      "cell_type": "markdown",
      "source": [
        "XGBoost"
      ],
      "metadata": {
        "id": "t8V0o_4pbTQJ"
      }
    },
    {
      "cell_type": "code",
      "source": [
        "from xgboost import XGBClassifier\n",
        "from sklearn.model_selection import GridSearchCV\n",
        "from sklearn.metrics import accuracy_score, precision_score, recall_score, f1_score, confusion_matrix\n",
        "\n",
        "param_grid = {\n",
        "    'max_depth': [3, 6, 9, 11],\n",
        "    'learning_rate': [0.01, 0.1, 0.2],\n",
        "    'n_estimators': [100, 150, 200],\n",
        "    'subsample': [0.8, 1],\n",
        "    'colsample_bytree': [0.8, 1]\n",
        "}\n",
        "\n",
        "xgb = XGBClassifier(use_label_encoder=False, eval_metric='mlogloss', random_state=42)\n",
        "\n",
        "grid_search = GridSearchCV(estimator=xgb, param_grid=param_grid, cv=5, scoring='accuracy', n_jobs=-1, verbose=1)\n",
        "grid_search.fit(X_train, y_train)\n",
        "\n",
        "best_xgb = grid_search.best_estimator_\n",
        "best_params = grid_search.best_params_\n",
        "\n",
        "y_pred_xgb = best_xgb.predict(X_test)\n",
        "\n",
        "xgb_accuracy = round(accuracy_score(y_test, y_pred_xgb), 4) * 100\n",
        "print(f\"Parameter Terbaik: {best_params}\")\n",
        "print(f\"Akurasi Model Terbaik: {xgb_accuracy}%\")\n",
        "\n",
        "print(\"Confusion Matrix:\\n\", confusion_matrix(y_test, y_pred_xgb))\n",
        "print(\"Precision:\", precision_score(y_test, y_pred_xgb, average='weighted'))\n",
        "print(\"Recall:\", recall_score(y_test, y_pred_xgb, average='weighted'))\n",
        "print(\"F1 Score:\", f1_score(y_test, y_pred_xgb, average='weighted'))"
      ],
      "metadata": {
        "colab": {
          "base_uri": "https://localhost:8080/"
        },
        "id": "jtNJmBH4bNx7",
        "outputId": "f64a08c9-45bd-40b0-9907-12cd98e9e996"
      },
      "execution_count": 424,
      "outputs": [
        {
          "output_type": "stream",
          "name": "stdout",
          "text": [
            "Fitting 5 folds for each of 144 candidates, totalling 720 fits\n"
          ]
        },
        {
          "output_type": "stream",
          "name": "stderr",
          "text": [
            "/usr/local/lib/python3.11/dist-packages/xgboost/core.py:158: UserWarning: [04:26:31] WARNING: /workspace/src/learner.cc:740: \n",
            "Parameters: { \"use_label_encoder\" } are not used.\n",
            "\n",
            "  warnings.warn(smsg, UserWarning)\n"
          ]
        },
        {
          "output_type": "stream",
          "name": "stdout",
          "text": [
            "Parameter Terbaik: {'colsample_bytree': 1, 'learning_rate': 0.1, 'max_depth': 11, 'n_estimators': 100, 'subsample': 0.8}\n",
            "Akurasi Model Terbaik: 82.21000000000001%\n",
            "Confusion Matrix:\n",
            " [[41  1  0  0]\n",
            " [ 6 40  6  6]\n",
            " [ 0  1 26  3]\n",
            " [ 0  3  3 27]]\n",
            "Precision: 0.8296292497767501\n",
            "Recall: 0.8220858895705522\n",
            "F1 Score: 0.8194555819590509\n"
          ]
        }
      ]
    },
    {
      "cell_type": "markdown",
      "source": [
        "Logistic Regression"
      ],
      "metadata": {
        "id": "cgBgS1qxbdhh"
      }
    },
    {
      "cell_type": "code",
      "source": [
        "from sklearn.linear_model import LogisticRegression\n",
        "from sklearn.model_selection import GridSearchCV\n",
        "from sklearn.metrics import accuracy_score, precision_score, recall_score, f1_score, confusion_matrix\n",
        "\n",
        "param_grid = {\n",
        "    'C': [0.01, 0.1, 1, 5, 10],\n",
        "    'penalty': ['l2'],\n",
        "    'solver': ['lbfgs', 'liblinear'],\n",
        "    'max_iter': [100, 500, 1000]\n",
        "}\n",
        "\n",
        "logreg = LogisticRegression(random_state=42)\n",
        "\n",
        "grid_search = GridSearchCV(logreg, param_grid, cv=5, scoring='accuracy', n_jobs=-1)\n",
        "grid_search.fit(X_train, y_train)\n",
        "\n",
        "best_logreg = grid_search.best_estimator_\n",
        "best_params = grid_search.best_params_\n",
        "\n",
        "y_pred_logreg = best_logreg.predict(X_test)\n",
        "\n",
        "logreg_accuracy = round(accuracy_score(y_test, y_pred_logreg), 4) * 100\n",
        "print(f\"Parameter Terbaik: {best_params}\")\n",
        "print(f\"Akurasi Model Terbaik: {logreg_accuracy}%\")\n",
        "\n",
        "print(\"Confusion Matrix:\\n\", confusion_matrix(y_test, y_pred_logreg))\n",
        "print(\"Precision:\", precision_score(y_test, y_pred_logreg, average='weighted'))\n",
        "print(\"Recall:\", recall_score(y_test, y_pred_logreg, average='weighted'))\n",
        "print(\"F1 Score:\", f1_score(y_test, y_pred_logreg, average='weighted'))"
      ],
      "metadata": {
        "colab": {
          "base_uri": "https://localhost:8080/"
        },
        "id": "BQsiJu12bgN1",
        "outputId": "368489d5-86a2-409c-e88d-f650eefebc14"
      },
      "execution_count": 425,
      "outputs": [
        {
          "output_type": "stream",
          "name": "stdout",
          "text": [
            "Parameter Terbaik: {'C': 0.1, 'max_iter': 100, 'penalty': 'l2', 'solver': 'lbfgs'}\n",
            "Akurasi Model Terbaik: 33.129999999999995%\n",
            "Confusion Matrix:\n",
            " [[21 14  0  7]\n",
            " [ 9 29  0 20]\n",
            " [ 0 18  0 12]\n",
            " [ 2 26  1  4]]\n",
            "Precision: 0.30653742806867357\n",
            "Recall: 0.3312883435582822\n",
            "F1 Score: 0.3098866383335224\n"
          ]
        },
        {
          "output_type": "stream",
          "name": "stderr",
          "text": [
            "/usr/local/lib/python3.11/dist-packages/sklearn/linear_model/_logistic.py:465: ConvergenceWarning: lbfgs failed to converge (status=1):\n",
            "STOP: TOTAL NO. OF ITERATIONS REACHED LIMIT.\n",
            "\n",
            "Increase the number of iterations (max_iter) or scale the data as shown in:\n",
            "    https://scikit-learn.org/stable/modules/preprocessing.html\n",
            "Please also refer to the documentation for alternative solver options:\n",
            "    https://scikit-learn.org/stable/modules/linear_model.html#logistic-regression\n",
            "  n_iter_i = _check_optimize_result(\n"
          ]
        }
      ]
    },
    {
      "cell_type": "code",
      "source": [
        "import matplotlib.pyplot as plt\n",
        "\n",
        "model_names = ['Decision Tree', 'KNN', 'Random Forest', 'XGBoost', 'Logistic Regression']\n",
        "model_accuracies = [dt_accuracy, knn_accuracy, rf_accuracy, xgb_accuracy, logreg_accuracy]\n",
        "\n",
        "plt.figure(figsize=(10, 6))\n",
        "bars = plt.bar(model_names, model_accuracies, color='red', edgecolor='black')\n",
        "\n",
        "for bar in bars:\n",
        "    height = bar.get_height()\n",
        "    plt.text(bar.get_x() + bar.get_width()/2, height + 0.5, f'{height:.2f}%', ha='center', fontsize=10)\n",
        "\n",
        "plt.title('Akurasi Model Setelah Parameter Tuning', fontsize=14)\n",
        "plt.xlabel('Model', fontsize=12)\n",
        "plt.ylabel('Akurasi (%)', fontsize=12)\n",
        "plt.ylim(0, 110)\n",
        "plt.grid(axis='y', linestyle='--', alpha=0.7)\n",
        "\n",
        "plt.tight_layout()\n",
        "plt.show()"
      ],
      "metadata": {
        "colab": {
          "base_uri": "https://localhost:8080/",
          "height": 495
        },
        "id": "0nKRgQvsbwxf",
        "outputId": "d1025072-7caf-4ef6-b4d3-6dc36509ca2b"
      },
      "execution_count": 426,
      "outputs": [
        {
          "output_type": "display_data",
          "data": {
            "text/plain": [
              "<Figure size 1000x600 with 1 Axes>"
            ],
            "image/png": "[encoded data removed]"
          },
          "metadata": {}
        }
      ]
    }
  ]
}