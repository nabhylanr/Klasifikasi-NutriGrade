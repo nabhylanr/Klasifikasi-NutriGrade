{
  "nbformat": 4,
  "nbformat_minor": 0,
  "metadata": {
    "colab": {
      "provenance": []
    },
    "kernelspec": {
      "name": "python3",
      "display_name": "Python 3"
    },
    "language_info": {
      "name": "python"
    }
  },
  "cells": [
    {
      "cell_type": "markdown",
      "source": [
        "**Dataset**\n",
        "---"
      ],
      "metadata": {
        "id": "tv2a-QiLtqP6"
      }
    },
    {
      "cell_type": "markdown",
      "source": [
        "Pengumpulan data berdasarkan scraping dari situs Open Food Facts."
      ],
      "metadata": {
        "id": "mn7UrAhgtjKS"
      }
    },
    {
      "cell_type": "code",
      "execution_count": 1,
      "metadata": {
        "colab": {
          "base_uri": "https://localhost:8080/"
        },
        "id": "-8gkuLwrsr6v",
        "outputId": "e146959b-d913-4e3e-bf1b-258b16045c24"
      },
      "outputs": [
        {
          "output_type": "stream",
          "name": "stdout",
          "text": [
            "Requirement already satisfied: pandas in /usr/local/lib/python3.11/dist-packages (2.2.2)\n",
            "Requirement already satisfied: numpy>=1.23.2 in /usr/local/lib/python3.11/dist-packages (from pandas) (2.0.2)\n",
            "Requirement already satisfied: python-dateutil>=2.8.2 in /usr/local/lib/python3.11/dist-packages (from pandas) (2.9.0.post0)\n",
            "Requirement already satisfied: pytz>=2020.1 in /usr/local/lib/python3.11/dist-packages (from pandas) (2025.2)\n",
            "Requirement already satisfied: tzdata>=2022.7 in /usr/local/lib/python3.11/dist-packages (from pandas) (2025.2)\n",
            "Requirement already satisfied: six>=1.5 in /usr/local/lib/python3.11/dist-packages (from python-dateutil>=2.8.2->pandas) (1.17.0)\n"
          ]
        }
      ],
      "source": [
        "!pip install pandas\n",
        "\n",
        "import requests\n",
        "import pandas as pd\n",
        "import time"
      ]
    },
    {
      "cell_type": "code",
      "source": [
        "categories = [\n",
        "    \"soft-drinks\",\n",
        "    \"fruit-juices\",\n",
        "    \"energy-drinks\",\n",
        "    \"plant-milks\",\n",
        "    \"teas\",\n",
        "    \"coffees\",\n",
        "    \"iced-teas\",\n",
        "    \"milk-substitutes\",\n",
        "    \"flavored-waters\",\n",
        "    \"fermented-drinks\",\n",
        "    \"non-dairy-beverages\",\n",
        "    \"smoothies\"\n",
        "]\n",
        "\n",
        "\n",
        "columns = [\n",
        "    \"Kategori\", \"Nama_minuman\", \"Nutri_Score\", \"Energy (Per 100 ml)\", \"Fat (Per 100 ml)\",\n",
        "    \"Saturated fat (Per 100 ml)\", \"Carbohydrates (Per 100 ml)\", \"Sugars (Per 100 ml)\",\n",
        "    \"Fiber (Per 100 ml)\", \"Proteins (Per 100 ml)\", \"Salt (Per 100 ml)\"\n",
        "]\n",
        "\n",
        "all_rows = []\n",
        "\n",
        "for category in categories:\n",
        "    print(f\"Ambil data kategori: {category}\")\n",
        "    url = \"https://world.openfoodfacts.org/cgi/search.pl\"\n",
        "    params = {\n",
        "        \"action\": \"process\",\n",
        "        \"tagtype_0\": \"categories\",\n",
        "        \"tag_contains_0\": \"contains\",\n",
        "        \"tag_0\": category,\n",
        "        \"page_size\": 1000,\n",
        "        \"json\": 1,\n",
        "    }\n",
        "\n",
        "    try:\n",
        "        response = requests.get(url, params=params)\n",
        "        data = response.json()\n",
        "\n",
        "        for product in data.get(\"products\", []):\n",
        "            nutriments = product.get(\"nutriments\", {})\n",
        "\n",
        "            row = [\n",
        "                category,\n",
        "                product.get(\"product_name\", \"\").strip(),\n",
        "                product.get(\"nutriscore_grade\", \"\").lower(),\n",
        "                nutriments.get(\"energy_100g\", \"\"),\n",
        "                nutriments.get(\"fat_100g\", \"\"),\n",
        "                nutriments.get(\"saturated-fat_100g\", \"\"),\n",
        "                nutriments.get(\"carbohydrates_100g\", \"\"),\n",
        "                nutriments.get(\"sugars_100g\", \"\"),\n",
        "                nutriments.get(\"fiber_100g\", \"\"),\n",
        "                nutriments.get(\"proteins_100g\", \"\"),\n",
        "                nutriments.get(\"salt_100g\", \"\"),\n",
        "            ]\n",
        "\n",
        "            nutri_score = row[2]\n",
        "            if nutri_score not in ['a', 'b', 'c', 'd', 'e']:\n",
        "                continue\n",
        "\n",
        "            nutrisi_values = row[3:]\n",
        "            if all(str(value).strip() == \"\" for value in nutrisi_values):\n",
        "                continue\n",
        "\n",
        "            all_rows.append(row)\n",
        "\n",
        "        time.sleep(1)\n",
        "    except Exception as e:\n",
        "        print(f\"Error kategori {category}: {e}\")\n",
        "\n",
        "df = pd.DataFrame(all_rows, columns=columns)\n",
        "df.to_csv(\"minuman.csv\", index=False, encoding=\"utf-8-sig\")\n",
        "\n",
        "print(f\"Berhasil disimpan: {len(df)} baris\")"
      ],
      "metadata": {
        "colab": {
          "base_uri": "https://localhost:8080/"
        },
        "id": "kCQ0gZQ0supX",
        "outputId": "4ae54164-0e46-4568-f6c9-306f579edd3d"
      },
      "execution_count": 2,
      "outputs": [
        {
          "output_type": "stream",
          "name": "stdout",
          "text": [
            "Ambil data kategori: soft-drinks\n",
            "Error kategori soft-drinks: Expecting value: line 1 column 1 (char 0)\n",
            "Ambil data kategori: fruit-juices\n",
            "Ambil data kategori: energy-drinks\n",
            "Ambil data kategori: plant-milks\n",
            "Ambil data kategori: teas\n",
            "Ambil data kategori: coffees\n",
            "Ambil data kategori: iced-teas\n",
            "Ambil data kategori: milk-substitutes\n",
            "Ambil data kategori: flavored-waters\n",
            "Ambil data kategori: fermented-drinks\n",
            "Ambil data kategori: non-dairy-beverages\n",
            "Ambil data kategori: smoothies\n",
            "Berhasil disimpan: 811 baris\n"
          ]
        }
      ]
    },
    {
      "cell_type": "code",
      "source": [
        "from google.colab import files\n",
        "files.download(\"minuman.csv\")"
      ],
      "metadata": {
        "colab": {
          "base_uri": "https://localhost:8080/",
          "height": 17
        },
        "id": "rsOifwNYt-5u",
        "outputId": "0c0fcc9f-63fd-4b4c-f0e8-63225bd6522d"
      },
      "execution_count": 3,
      "outputs": [
        {
          "output_type": "display_data",
          "data": {
            "text/plain": [
              "<IPython.core.display.Javascript object>"
            ],
            "application/javascript": [
              "\n",
              "    async function download(id, filename, size) {\n",
              "      if (!google.colab.kernel.accessAllowed) {\n",
              "        return;\n",
              "      }\n",
              "      const div = document.createElement('div');\n",
              "      const label = document.createElement('label');\n",
              "      label.textContent = `Downloading \"${filename}\": `;\n",
              "      div.appendChild(label);\n",
              "      const progress = document.createElement('progress');\n",
              "      progress.max = size;\n",
              "      div.appendChild(progress);\n",
              "      document.body.appendChild(div);\n",
              "\n",
              "      const buffers = [];\n",
              "      let downloaded = 0;\n",
              "\n",
              "      const channel = await google.colab.kernel.comms.open(id);\n",
              "      // Send a message to notify the kernel that we're ready.\n",
              "      channel.send({})\n",
              "\n",
              "      for await (const message of channel.messages) {\n",
              "        // Send a message to notify the kernel that we're ready.\n",
              "        channel.send({})\n",
              "        if (message.buffers) {\n",
              "          for (const buffer of message.buffers) {\n",
              "            buffers.push(buffer);\n",
              "            downloaded += buffer.byteLength;\n",
              "            progress.value = downloaded;\n",
              "          }\n",
              "        }\n",
              "      }\n",
              "      const blob = new Blob(buffers, {type: 'application/binary'});\n",
              "      const a = document.createElement('a');\n",
              "      a.href = window.URL.createObjectURL(blob);\n",
              "      a.download = filename;\n",
              "      div.appendChild(a);\n",
              "      a.click();\n",
              "      div.remove();\n",
              "    }\n",
              "  "
            ]
          },
          "metadata": {}
        },
        {
          "output_type": "display_data",
          "data": {
            "text/plain": [
              "<IPython.core.display.Javascript object>"
            ],
            "application/javascript": [
              "download(\"download_8f026750-faaf-42be-bbd0-d29add0a623a\", \"minuman.csv\", 56902)"
            ]
          },
          "metadata": {}
        }
      ]
    }
  ]
}